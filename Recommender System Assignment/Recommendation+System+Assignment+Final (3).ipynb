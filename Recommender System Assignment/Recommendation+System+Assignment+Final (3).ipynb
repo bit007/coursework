{
 "cells": [
  {
   "cell_type": "code",
   "execution_count": 1,
   "metadata": {},
   "outputs": [],
   "source": [
    "# Supress Warnings\n",
    "\n",
    "import warnings\n",
    "warnings.filterwarnings('ignore')"
   ]
  },
  {
   "cell_type": "code",
   "execution_count": 2,
   "metadata": {},
   "outputs": [],
   "source": [
    "#Importing Libraries\n",
    "import pandas as pd\n",
    "import numpy as np\n",
    "\n",
    "# For Visualisation\n",
    "import matplotlib.pyplot as plt\n",
    "import seaborn as sns\n",
    "%matplotlib inline\n",
    "sns.set(style=\"darkgrid\")\n",
    "\n",
    "from sklearn.preprocessing import MinMaxScaler\n",
    "from numpy import *"
   ]
  },
  {
   "cell_type": "markdown",
   "metadata": {},
   "source": [
    "## Reading and Understanding the Data"
   ]
  },
  {
   "cell_type": "code",
   "execution_count": 3,
   "metadata": {},
   "outputs": [],
   "source": [
    "# Reading the file\n",
    "df_beer = pd.read_csv('beer_data.csv')"
   ]
  },
  {
   "cell_type": "code",
   "execution_count": 4,
   "metadata": {},
   "outputs": [
    {
     "data": {
      "text/html": [
       "<div>\n",
       "<style scoped>\n",
       "    .dataframe tbody tr th:only-of-type {\n",
       "        vertical-align: middle;\n",
       "    }\n",
       "\n",
       "    .dataframe tbody tr th {\n",
       "        vertical-align: top;\n",
       "    }\n",
       "\n",
       "    .dataframe thead th {\n",
       "        text-align: right;\n",
       "    }\n",
       "</style>\n",
       "<table border=\"1\" class=\"dataframe\">\n",
       "  <thead>\n",
       "    <tr style=\"text-align: right;\">\n",
       "      <th></th>\n",
       "      <th>beer_beerid</th>\n",
       "      <th>review_profilename</th>\n",
       "      <th>review_overall</th>\n",
       "    </tr>\n",
       "  </thead>\n",
       "  <tbody>\n",
       "    <tr>\n",
       "      <th>0</th>\n",
       "      <td>48215</td>\n",
       "      <td>stcules</td>\n",
       "      <td>3.0</td>\n",
       "    </tr>\n",
       "    <tr>\n",
       "      <th>1</th>\n",
       "      <td>52159</td>\n",
       "      <td>oline73</td>\n",
       "      <td>3.0</td>\n",
       "    </tr>\n",
       "    <tr>\n",
       "      <th>2</th>\n",
       "      <td>52159</td>\n",
       "      <td>alpinebryant</td>\n",
       "      <td>3.0</td>\n",
       "    </tr>\n",
       "    <tr>\n",
       "      <th>3</th>\n",
       "      <td>52159</td>\n",
       "      <td>rawthar</td>\n",
       "      <td>4.0</td>\n",
       "    </tr>\n",
       "    <tr>\n",
       "      <th>4</th>\n",
       "      <td>52159</td>\n",
       "      <td>RangerClegg</td>\n",
       "      <td>3.5</td>\n",
       "    </tr>\n",
       "  </tbody>\n",
       "</table>\n",
       "</div>"
      ],
      "text/plain": [
       "   beer_beerid review_profilename  review_overall\n",
       "0        48215            stcules             3.0\n",
       "1        52159            oline73             3.0\n",
       "2        52159       alpinebryant             3.0\n",
       "3        52159            rawthar             4.0\n",
       "4        52159        RangerClegg             3.5"
      ]
     },
     "execution_count": 4,
     "metadata": {},
     "output_type": "execute_result"
    }
   ],
   "source": [
    "# Checking the head of the dataset\n",
    "df_beer.head()"
   ]
  },
  {
   "cell_type": "code",
   "execution_count": 5,
   "metadata": {},
   "outputs": [
    {
     "name": "stdout",
     "output_type": "stream",
     "text": [
      "(475984, 3)\n",
      "<class 'pandas.core.frame.DataFrame'>\n",
      "RangeIndex: 475984 entries, 0 to 475983\n",
      "Data columns (total 3 columns):\n",
      "beer_beerid           475984 non-null int64\n",
      "review_profilename    475884 non-null object\n",
      "review_overall        475984 non-null float64\n",
      "dtypes: float64(1), int64(1), object(1)\n",
      "memory usage: 10.9+ MB\n",
      "None\n"
     ]
    }
   ],
   "source": [
    "# inspecting data and identifying total number of rows and for nulls in rows.\n",
    "print(df_beer.shape)\n",
    "print(df_beer.info())"
   ]
  },
  {
   "cell_type": "code",
   "execution_count": 6,
   "metadata": {},
   "outputs": [
    {
     "name": "stdout",
     "output_type": "stream",
     "text": [
      "beer_beerid             0\n",
      "review_profilename    100\n",
      "review_overall          0\n",
      "dtype: int64\n"
     ]
    },
    {
     "data": {
      "text/plain": [
       "beer_beerid           0.00\n",
       "review_profilename    0.02\n",
       "review_overall        0.00\n",
       "dtype: float64"
      ]
     },
     "execution_count": 6,
     "metadata": {},
     "output_type": "execute_result"
    }
   ],
   "source": [
    "# Number of missing values in each column.\n",
    "print(df_beer.isnull().sum())\n",
    "\n",
    "# Getting the column-wise null percentage\n",
    "round(100*(df_beer.isnull().sum()/len(df_beer.index)),2)  "
   ]
  },
  {
   "cell_type": "markdown",
   "metadata": {},
   "source": [
    "## Data Cleaning & Preparation"
   ]
  },
  {
   "cell_type": "code",
   "execution_count": 7,
   "metadata": {},
   "outputs": [
    {
     "name": "stdout",
     "output_type": "stream",
     "text": [
      "<class 'pandas.core.frame.DataFrame'>\n",
      "Int64Index: 475884 entries, 0 to 475983\n",
      "Data columns (total 3 columns):\n",
      "beer_beerid           475884 non-null int64\n",
      "review_profilename    475884 non-null object\n",
      "review_overall        475884 non-null float64\n",
      "dtypes: float64(1), int64(1), object(1)\n",
      "memory usage: 14.5+ MB\n",
      "None\n"
     ]
    }
   ],
   "source": [
    "# We can drop all rows having review_profilename = null as there are only 100 such rows which is less than 1% of total data.\n",
    "\n",
    "# replacing the empty values with nan\n",
    "df_beer['review_profilename'].replace('', np.nan, inplace=True)\n",
    "\n",
    "# dropping the rows\n",
    "df_beer.dropna(subset=['review_profilename'], inplace=True)\n",
    "\n",
    "# 100 rows dropped\n",
    "print(df_beer.info())"
   ]
  },
  {
   "cell_type": "code",
   "execution_count": 8,
   "metadata": {},
   "outputs": [
    {
     "data": {
      "text/plain": [
       "beer_beerid           40304\n",
       "review_profilename    22497\n",
       "review_overall           10\n",
       "dtype: int64"
      ]
     },
     "execution_count": 8,
     "metadata": {},
     "output_type": "execute_result"
    }
   ],
   "source": [
    "# Now our dataset doesnt have any nulls. Lets check for duplicates\n",
    "df_beer.nunique()"
   ]
  },
  {
   "cell_type": "code",
   "execution_count": 9,
   "metadata": {},
   "outputs": [
    {
     "data": {
      "text/plain": [
       "1422"
      ]
     },
     "execution_count": 9,
     "metadata": {},
     "output_type": "execute_result"
    }
   ],
   "source": [
    "# Checking duplicate records\n",
    "\n",
    "df_beer.duplicated(['beer_beerid','review_profilename']).sum()"
   ]
  },
  {
   "cell_type": "code",
   "execution_count": 10,
   "metadata": {},
   "outputs": [
    {
     "data": {
      "text/plain": [
       "(474462, 3)"
      ]
     },
     "execution_count": 10,
     "metadata": {},
     "output_type": "execute_result"
    }
   ],
   "source": [
    "# We can see that we have 1422 combinations of beerid and review profilename getting repeated multiple times. \n",
    "# We would consider first entry of any combination as the rating provided for that beer by the user and drop rest.\n",
    "\n",
    "df_beer.drop_duplicates(subset=['beer_beerid','review_profilename'], keep='first', inplace=True)\n",
    "df_beer.shape"
   ]
  },
  {
   "cell_type": "markdown",
   "metadata": {},
   "source": [
    "So, now we are left with 474462 unique records. We started with 475884 records. We have retained approximately 99.68% of original dataset."
   ]
  },
  {
   "cell_type": "code",
   "execution_count": 11,
   "metadata": {},
   "outputs": [],
   "source": [
    "# Let's group by beer_id and count the number of reviews each beer has received and take mean of it as well.\n",
    "reviews_stats = pd.DataFrame(df_beer.groupby('beer_beerid')['review_overall'].mean())\n",
    "reviews_stats['rating_numbers'] = pd.DataFrame(df_beer.groupby('beer_beerid')['review_overall'].count())"
   ]
  },
  {
   "cell_type": "code",
   "execution_count": 12,
   "metadata": {},
   "outputs": [
    {
     "data": {
      "text/plain": [
       "count    40304.000000\n",
       "mean        11.772082\n",
       "std         41.888449\n",
       "min          1.000000\n",
       "10%          1.000000\n",
       "20%          1.000000\n",
       "30%          1.000000\n",
       "40%          1.000000\n",
       "50%          2.000000\n",
       "60%          2.000000\n",
       "70%          4.000000\n",
       "75%          5.000000\n",
       "80%          7.000000\n",
       "85%         12.000000\n",
       "90%         21.000000\n",
       "95%         51.000000\n",
       "max        977.000000\n",
       "Name: rating_numbers, dtype: float64"
      ]
     },
     "execution_count": 12,
     "metadata": {},
     "output_type": "execute_result"
    }
   ],
   "source": [
    "# Let's see the distribution of number of reviews\n",
    "reviews_stats['rating_numbers'].describe([.1, .2, .3, .4, .5, .6, .7, .75, .8, .85, .9, .95])"
   ]
  },
  {
   "cell_type": "code",
   "execution_count": 13,
   "metadata": {},
   "outputs": [
    {
     "data": {
      "image/png": "[encoded data removed]",
      "text/plain": [
       "<Figure size 432x288 with 1 Axes>"
      ]
     },
     "metadata": {
      "needs_background": "light"
     },
     "output_type": "display_data"
    }
   ],
   "source": [
    "# Let's visualize this\n",
    "sns.distplot(reviews_stats['rating_numbers'], bins=30, kde=False)\n",
    "plt.show()"
   ]
  },
  {
   "cell_type": "code",
   "execution_count": 14,
   "metadata": {},
   "outputs": [
    {
     "data": {
      "image/png": "[encoded data removed]",
      "text/plain": [
       "<Figure size 432x288 with 1 Axes>"
      ]
     },
     "metadata": {
      "needs_background": "light"
     },
     "output_type": "display_data"
    }
   ],
   "source": [
    "ax = sns.boxplot( y=\"rating_numbers\", data=reviews_stats)"
   ]
  },
  {
   "cell_type": "code",
   "execution_count": 15,
   "metadata": {},
   "outputs": [
    {
     "data": {
      "image/png": "[encoded data removed]",
      "text/plain": [
       "<Figure size 432x432 with 3 Axes>"
      ]
     },
     "metadata": {
      "needs_background": "light"
     },
     "output_type": "display_data"
    }
   ],
   "source": [
    "sns.jointplot(x='review_overall', y='rating_numbers', data=reviews_stats, alpha=0.5)\n",
    "plt.show()"
   ]
  },
  {
   "cell_type": "markdown",
   "metadata": {},
   "source": [
    "#### Observations:\n",
    "1. Around 50% of distinct beers have received number of reviews less than or equal to 2.\n",
    "2. We need a significant number of reviews received in order to create the model.\n",
    "3. Mean number of ratings is around 12 because of some beers having received high number of ratings.\n",
    "4. We can see the distribution is highly skewed.\n",
    "\n",
    "In order to create the model we would need beers having atleast N reviews. We don't want beers with very few reviews. \n",
    "So, based on above plots we can choose beers having atleast 51 reviews, so that it can predict better. Ratings are very well spread across all values for number of reviews > 51.\n",
    "We would consider all beers which have received reviews >= 51. This is approximately 5% of the total number of beers(40304)."
   ]
  },
  {
   "cell_type": "code",
   "execution_count": 16,
   "metadata": {},
   "outputs": [
    {
     "data": {
      "text/plain": [
       "count    2028.000000\n",
       "mean      145.067554\n",
       "std       122.624804\n",
       "min        51.000000\n",
       "25%        69.000000\n",
       "50%       100.000000\n",
       "75%       170.000000\n",
       "max       977.000000\n",
       "Name: rating_numbers, dtype: float64"
      ]
     },
     "execution_count": 16,
     "metadata": {},
     "output_type": "execute_result"
    }
   ],
   "source": [
    "# Taking rating_numbers >= 51\n",
    "reviews_stats = reviews_stats[reviews_stats['rating_numbers'] >= 51]\n",
    "reviews_stats['rating_numbers'].describe()\n"
   ]
  },
  {
   "cell_type": "code",
   "execution_count": 17,
   "metadata": {},
   "outputs": [
    {
     "data": {
      "image/png": "[encoded data removed]",
      "text/plain": [
       "<Figure size 432x288 with 1 Axes>"
      ]
     },
     "metadata": {
      "needs_background": "light"
     },
     "output_type": "display_data"
    }
   ],
   "source": [
    "# Let's visualize this\n",
    "sns.distplot(reviews_stats['rating_numbers'], bins=30, kde=False)\n",
    "plt.show()"
   ]
  },
  {
   "cell_type": "code",
   "execution_count": 18,
   "metadata": {},
   "outputs": [
    {
     "data": {
      "image/png": "[encoded data removed]",
      "text/plain": [
       "<Figure size 432x288 with 1 Axes>"
      ]
     },
     "metadata": {
      "needs_background": "light"
     },
     "output_type": "display_data"
    }
   ],
   "source": [
    "ax = sns.boxplot( y=\"rating_numbers\", data=reviews_stats)"
   ]
  },
  {
   "cell_type": "markdown",
   "metadata": {},
   "source": [
    "Now we are left with 2028/40304 beers. Approximately 5.03% of original count."
   ]
  },
  {
   "cell_type": "code",
   "execution_count": 19,
   "metadata": {},
   "outputs": [],
   "source": [
    "# Filtering the original dataframe \n",
    "\n",
    "df_beer = df_beer.loc[df_beer['beer_beerid'].isin(reviews_stats.index)]"
   ]
  },
  {
   "cell_type": "code",
   "execution_count": 20,
   "metadata": {},
   "outputs": [
    {
     "name": "stdout",
     "output_type": "stream",
     "text": [
      "<class 'pandas.core.frame.DataFrame'>\n",
      "Int64Index: 294197 entries, 12 to 475767\n",
      "Data columns (total 3 columns):\n",
      "beer_beerid           294197 non-null int64\n",
      "review_profilename    294197 non-null object\n",
      "review_overall        294197 non-null float64\n",
      "dtypes: float64(1), int64(1), object(1)\n",
      "memory usage: 9.0+ MB\n"
     ]
    }
   ],
   "source": [
    "df_beer.info()"
   ]
  },
  {
   "cell_type": "code",
   "execution_count": 21,
   "metadata": {},
   "outputs": [
    {
     "data": {
      "text/plain": [
       "beer_beerid            2028\n",
       "review_profilename    19447\n",
       "review_overall            9\n",
       "dtype: int64"
      ]
     },
     "execution_count": 21,
     "metadata": {},
     "output_type": "execute_result"
    }
   ],
   "source": [
    "# Getting unique count of each column.\n",
    "df_beer.nunique()"
   ]
  },
  {
   "cell_type": "markdown",
   "metadata": {},
   "source": [
    "Observations:\n",
    "1. Now we are left with 2028 distinct beers and 19447 distinct userids.\n",
    "2. There are 9 distinct review ratings left.\n",
    "3. Total number of records left = 294197."
   ]
  },
  {
   "cell_type": "code",
   "execution_count": 22,
   "metadata": {},
   "outputs": [],
   "source": [
    "# Let's group by user_id and count the number of reviews each user has written and see the mean distribution for it.\n",
    "\n",
    "reviews_stats_user = pd.DataFrame(df_beer.groupby('review_profilename')['review_overall'].mean())\n",
    "reviews_stats_user['rating_numbers'] = pd.DataFrame(df_beer.groupby('review_profilename')['review_overall'].count())"
   ]
  },
  {
   "cell_type": "code",
   "execution_count": 23,
   "metadata": {},
   "outputs": [
    {
     "data": {
      "text/plain": [
       "count    19447.000000\n",
       "mean        15.128143\n",
       "std         36.208335\n",
       "min          1.000000\n",
       "10%          1.000000\n",
       "20%          1.000000\n",
       "30%          1.000000\n",
       "40%          2.000000\n",
       "50%          3.000000\n",
       "60%          4.000000\n",
       "70%          7.000000\n",
       "75%         10.000000\n",
       "80%         15.000000\n",
       "85%         24.000000\n",
       "90%         40.000000\n",
       "95%         76.000000\n",
       "max        508.000000\n",
       "Name: rating_numbers, dtype: float64"
      ]
     },
     "execution_count": 23,
     "metadata": {},
     "output_type": "execute_result"
    }
   ],
   "source": [
    "# Let's see the distribution of number of reviews\n",
    "reviews_stats_user['rating_numbers'].describe([.1, .2, .3, .4, .5, .6, .7, .75, .8, .85, .9, .95])"
   ]
  },
  {
   "cell_type": "code",
   "execution_count": 24,
   "metadata": {},
   "outputs": [
    {
     "data": {
      "image/png": "[encoded data removed]",
      "text/plain": [
       "<Figure size 432x288 with 1 Axes>"
      ]
     },
     "metadata": {
      "needs_background": "light"
     },
     "output_type": "display_data"
    }
   ],
   "source": [
    "# Let's visualize this\n",
    "sns.distplot(reviews_stats_user['rating_numbers'], bins=30, kde=False)\n",
    "plt.show()"
   ]
  },
  {
   "cell_type": "code",
   "execution_count": 25,
   "metadata": {},
   "outputs": [
    {
     "data": {
      "image/png": "[encoded data removed]",
      "text/plain": [
       "<Figure size 432x288 with 1 Axes>"
      ]
     },
     "metadata": {
      "needs_background": "light"
     },
     "output_type": "display_data"
    }
   ],
   "source": [
    "ax = sns.boxplot( y=\"rating_numbers\", data=reviews_stats_user)"
   ]
  },
  {
   "cell_type": "code",
   "execution_count": 26,
   "metadata": {},
   "outputs": [
    {
     "data": {
      "image/png": "[encoded data removed]",
      "text/plain": [
       "<Figure size 432x432 with 3 Axes>"
      ]
     },
     "metadata": {
      "needs_background": "light"
     },
     "output_type": "display_data"
    }
   ],
   "source": [
    "sns.jointplot(x='review_overall', y='rating_numbers', data=reviews_stats_user, alpha=0.5)\n",
    "plt.show()"
   ]
  },
  {
   "cell_type": "markdown",
   "metadata": {},
   "source": [
    "#### Observations:\n",
    "1. Around 50% of distinct users have reviewed less than or equal to 3 times.\n",
    "2. We need a significant number of reviews given by a user in order to create the model.\n",
    "3. Mean number of reviews given is around 15 because of some users have given high number of reviews.\n",
    "4. We can see the distribution is highly skewed.\n",
    "\n",
    "We need to take only those users for which we have atleast a few ratings so that we can make recommendations. \n",
    "Based on above graphs we can take minimum number of reviews given a user to be considered = 24. For atleast 24 reviews the distribution is well spread across all values. This is approximately 15% of the total number of users(19447). We would consider all users which have received reviews >= 24."
   ]
  },
  {
   "cell_type": "code",
   "execution_count": 27,
   "metadata": {},
   "outputs": [
    {
     "data": {
      "text/plain": [
       "count    2936.000000\n",
       "mean       76.485354\n",
       "std        64.137447\n",
       "min        24.000000\n",
       "25%        34.000000\n",
       "50%        53.000000\n",
       "75%        93.000000\n",
       "max       508.000000\n",
       "Name: rating_numbers, dtype: float64"
      ]
     },
     "execution_count": 27,
     "metadata": {},
     "output_type": "execute_result"
    }
   ],
   "source": [
    "# Taking counts >= 24\n",
    "reviews_stats_user = reviews_stats_user[reviews_stats_user['rating_numbers'] >= 24]\n",
    "reviews_stats_user['rating_numbers'].describe()"
   ]
  },
  {
   "cell_type": "code",
   "execution_count": 28,
   "metadata": {},
   "outputs": [
    {
     "data": {
      "image/png": "[encoded data removed]",
      "text/plain": [
       "<Figure size 432x288 with 1 Axes>"
      ]
     },
     "metadata": {
      "needs_background": "light"
     },
     "output_type": "display_data"
    }
   ],
   "source": [
    "# Let's visualize this\n",
    "sns.distplot(reviews_stats_user['rating_numbers'], bins=30, kde=False)\n",
    "plt.show()"
   ]
  },
  {
   "cell_type": "code",
   "execution_count": 29,
   "metadata": {},
   "outputs": [
    {
     "data": {
      "image/png": "[encoded data removed]",
      "text/plain": [
       "<Figure size 432x288 with 1 Axes>"
      ]
     },
     "metadata": {
      "needs_background": "light"
     },
     "output_type": "display_data"
    }
   ],
   "source": [
    "ax = sns.boxplot( y=\"rating_numbers\", data=reviews_stats_user)"
   ]
  },
  {
   "cell_type": "markdown",
   "metadata": {},
   "source": [
    "Now we are left with 2936/19447 distinct users. Approximately 15.1% of original count."
   ]
  },
  {
   "cell_type": "code",
   "execution_count": 30,
   "metadata": {},
   "outputs": [],
   "source": [
    "# Filtering the original dataframe \n",
    "\n",
    "df_beer = df_beer.loc[df_beer['review_profilename'].isin(reviews_stats_user.index)]"
   ]
  },
  {
   "cell_type": "code",
   "execution_count": 31,
   "metadata": {},
   "outputs": [
    {
     "name": "stdout",
     "output_type": "stream",
     "text": [
      "<class 'pandas.core.frame.DataFrame'>\n",
      "Int64Index: 224561 entries, 12 to 475767\n",
      "Data columns (total 3 columns):\n",
      "beer_beerid           224561 non-null int64\n",
      "review_profilename    224561 non-null object\n",
      "review_overall        224561 non-null float64\n",
      "dtypes: float64(1), int64(1), object(1)\n",
      "memory usage: 6.9+ MB\n"
     ]
    }
   ],
   "source": [
    "df_beer.info()"
   ]
  },
  {
   "cell_type": "code",
   "execution_count": 32,
   "metadata": {},
   "outputs": [
    {
     "data": {
      "text/plain": [
       "beer_beerid           2028\n",
       "review_profilename    2936\n",
       "review_overall           9\n",
       "dtype: int64"
      ]
     },
     "execution_count": 32,
     "metadata": {},
     "output_type": "execute_result"
    }
   ],
   "source": [
    "# Getting unique count of each column.\n",
    "df_beer.nunique()"
   ]
  },
  {
   "cell_type": "markdown",
   "metadata": {},
   "source": [
    "Observations:\n",
    "1. Now we are left with 2028 distinct beers and 2936 distinct userids.\n",
    "2. There are 9 distinct review ratings left.\n",
    "3. Total number of records left = 224561."
   ]
  },
  {
   "cell_type": "markdown",
   "metadata": {},
   "source": [
    "## Data Exploration"
   ]
  },
  {
   "cell_type": "markdown",
   "metadata": {},
   "source": [
    "#### Getting distinct values of ratings:"
   ]
  },
  {
   "cell_type": "code",
   "execution_count": 33,
   "metadata": {},
   "outputs": [
    {
     "name": "stdout",
     "output_type": "stream",
     "text": [
      "[1.0, 1.5, 2.0, 2.5, 3.0, 3.5, 4.0, 4.5, 5.0]\n"
     ]
    }
   ],
   "source": [
    "# Initially we had 10 distinct ratings. After Data Preparation we are left with following 9 ratings. 0 ratings are removed.\n",
    "print(sorted(df_beer['review_overall'].unique()))"
   ]
  },
  {
   "cell_type": "code",
   "execution_count": 34,
   "metadata": {},
   "outputs": [
    {
     "data": {
      "image/png": "[encoded data removed]",
      "text/plain": [
       "<Figure size 432x288 with 1 Axes>"
      ]
     },
     "metadata": {
      "needs_background": "light"
     },
     "output_type": "display_data"
    }
   ],
   "source": [
    "# Visualizing the counts\n",
    "sns.countplot(x=\"review_overall\", data=df_beer)\n",
    "plt.show()"
   ]
  },
  {
   "cell_type": "markdown",
   "metadata": {},
   "source": [
    "#### Visualizing average beer ratings:"
   ]
  },
  {
   "cell_type": "code",
   "execution_count": 35,
   "metadata": {},
   "outputs": [
    {
     "data": {
      "image/png": "[encoded data removed]",
      "text/plain": [
       "<Figure size 432x288 with 1 Axes>"
      ]
     },
     "metadata": {
      "needs_background": "light"
     },
     "output_type": "display_data"
    }
   ],
   "source": [
    "avg_beer_ratings = pd.DataFrame(df_beer.groupby('beer_beerid')['review_overall'].mean())\n",
    "plt.hist(avg_beer_ratings['review_overall'], bins=100)\n",
    "plt.show()"
   ]
  },
  {
   "cell_type": "code",
   "execution_count": 36,
   "metadata": {},
   "outputs": [
    {
     "data": {
      "text/plain": [
       "3.807962870059009"
      ]
     },
     "execution_count": 36,
     "metadata": {},
     "output_type": "execute_result"
    }
   ],
   "source": [
    "avg_beer_ratings.review_overall.mean()"
   ]
  },
  {
   "cell_type": "markdown",
   "metadata": {},
   "source": [
    "#### Observations: \n",
    "Most of the beers are rated between 3-4.5 on an average and avg. rating ~ 3.81."
   ]
  },
  {
   "cell_type": "markdown",
   "metadata": {},
   "source": [
    "#### Visualizing average user ratings:"
   ]
  },
  {
   "cell_type": "code",
   "execution_count": 37,
   "metadata": {},
   "outputs": [
    {
     "data": {
      "image/png": "[encoded data removed]",
      "text/plain": [
       "<Figure size 432x288 with 1 Axes>"
      ]
     },
     "metadata": {
      "needs_background": "light"
     },
     "output_type": "display_data"
    }
   ],
   "source": [
    "avg_user_ratings = pd.DataFrame(df_beer.groupby('review_profilename')['review_overall'].mean())\n",
    "plt.hist(avg_user_ratings['review_overall'], bins=100)\n",
    "plt.show()"
   ]
  },
  {
   "cell_type": "code",
   "execution_count": 38,
   "metadata": {},
   "outputs": [
    {
     "data": {
      "text/plain": [
       "3.8799610517279204"
      ]
     },
     "execution_count": 38,
     "metadata": {},
     "output_type": "execute_result"
    }
   ],
   "source": [
    "avg_user_ratings.review_overall.mean()"
   ]
  },
  {
   "cell_type": "markdown",
   "metadata": {},
   "source": [
    "#### Observations: \n",
    "Most users tend to rate the beer between 3.2-4.4 on an average and avg_user rating ~ 3.88."
   ]
  },
  {
   "cell_type": "markdown",
   "metadata": {},
   "source": [
    "#### Visaulizing the average number of ratings given to the beers."
   ]
  },
  {
   "cell_type": "code",
   "execution_count": 39,
   "metadata": {},
   "outputs": [
    {
     "data": {
      "image/png": "[encoded data removed]",
      "text/plain": [
       "<Figure size 432x288 with 1 Axes>"
      ]
     },
     "metadata": {
      "needs_background": "light"
     },
     "output_type": "display_data"
    }
   ],
   "source": [
    "num_beer_reviews = pd.DataFrame(df_beer.groupby('beer_beerid')['review_overall'].count())\n",
    "plt.hist(num_beer_reviews['review_overall'], bins=100)\n",
    "plt.show()"
   ]
  },
  {
   "cell_type": "markdown",
   "metadata": {},
   "source": [
    "Observation : This is similar to the plot we created above while identifying N. We can see that high number of beers have number of reviews between 50-200."
   ]
  },
  {
   "cell_type": "markdown",
   "metadata": {},
   "source": [
    "####  Visaulizing the average number of ratings given by the users."
   ]
  },
  {
   "cell_type": "code",
   "execution_count": 40,
   "metadata": {},
   "outputs": [
    {
     "data": {
      "image/png": "[encoded data removed]",
      "text/plain": [
       "<Figure size 432x288 with 1 Axes>"
      ]
     },
     "metadata": {
      "needs_background": "light"
     },
     "output_type": "display_data"
    }
   ],
   "source": [
    "num_user_reviews = pd.DataFrame(df_beer.groupby('review_profilename')['review_overall'].count())\n",
    "plt.hist(num_user_reviews['review_overall'], bins=100)\n",
    "plt.show()"
   ]
  },
  {
   "cell_type": "markdown",
   "metadata": {},
   "source": [
    "Observation : This is similar to the plot we created above while we chose the optimum number of user ratings to be taken. We can see that high number of users have given number of rating between 25-200."
   ]
  },
  {
   "cell_type": "code",
   "execution_count": 41,
   "metadata": {},
   "outputs": [
    {
     "data": {
      "text/plain": [
       "(224561, 3)"
      ]
     },
     "execution_count": 41,
     "metadata": {},
     "output_type": "execute_result"
    }
   ],
   "source": [
    "# Resetting the indexes after removing records.\n",
    "df_beer.reset_index(inplace=True, drop=True)\n",
    "\n",
    "df_beer.shape"
   ]
  },
  {
   "cell_type": "markdown",
   "metadata": {},
   "source": [
    "## Recommendation Models"
   ]
  },
  {
   "cell_type": "markdown",
   "metadata": {},
   "source": [
    "### Dividing the dataset into train and test"
   ]
  },
  {
   "cell_type": "markdown",
   "metadata": {},
   "source": [
    "First we would do user based recommendation than item based recommendation"
   ]
  },
  {
   "cell_type": "code",
   "execution_count": 42,
   "metadata": {},
   "outputs": [],
   "source": [
    "# Creating test train splits.\n",
    "from sklearn.model_selection import train_test_split\n",
    "train, test = train_test_split(df_beer, test_size=0.30, random_state=40)"
   ]
  },
  {
   "cell_type": "code",
   "execution_count": 43,
   "metadata": {},
   "outputs": [
    {
     "name": "stdout",
     "output_type": "stream",
     "text": [
      "(157192, 3)\n",
      "(67369, 3)\n"
     ]
    }
   ],
   "source": [
    "print(train.shape)\n",
    "print(test.shape)"
   ]
  },
  {
   "cell_type": "markdown",
   "metadata": {},
   "source": [
    "### User Based Recommendation"
   ]
  },
  {
   "cell_type": "code",
   "execution_count": 44,
   "metadata": {},
   "outputs": [
    {
     "name": "stdout",
     "output_type": "stream",
     "text": [
      "(2936, 2028)\n"
     ]
    },
    {
     "data": {
      "text/html": [
       "<div>\n",
       "<style scoped>\n",
       "    .dataframe tbody tr th:only-of-type {\n",
       "        vertical-align: middle;\n",
       "    }\n",
       "\n",
       "    .dataframe tbody tr th {\n",
       "        vertical-align: top;\n",
       "    }\n",
       "\n",
       "    .dataframe thead th {\n",
       "        text-align: right;\n",
       "    }\n",
       "</style>\n",
       "<table border=\"1\" class=\"dataframe\">\n",
       "  <thead>\n",
       "    <tr style=\"text-align: right;\">\n",
       "      <th>beer_beerid</th>\n",
       "      <th>5</th>\n",
       "      <th>6</th>\n",
       "      <th>7</th>\n",
       "      <th>10</th>\n",
       "      <th>14</th>\n",
       "      <th>15</th>\n",
       "      <th>17</th>\n",
       "      <th>19</th>\n",
       "      <th>30</th>\n",
       "      <th>31</th>\n",
       "      <th>...</th>\n",
       "      <th>71919</th>\n",
       "      <th>71969</th>\n",
       "      <th>72138</th>\n",
       "      <th>73131</th>\n",
       "      <th>74123</th>\n",
       "      <th>74272</th>\n",
       "      <th>74323</th>\n",
       "      <th>74390</th>\n",
       "      <th>74986</th>\n",
       "      <th>75086</th>\n",
       "    </tr>\n",
       "    <tr>\n",
       "      <th>review_profilename</th>\n",
       "      <th></th>\n",
       "      <th></th>\n",
       "      <th></th>\n",
       "      <th></th>\n",
       "      <th></th>\n",
       "      <th></th>\n",
       "      <th></th>\n",
       "      <th></th>\n",
       "      <th></th>\n",
       "      <th></th>\n",
       "      <th></th>\n",
       "      <th></th>\n",
       "      <th></th>\n",
       "      <th></th>\n",
       "      <th></th>\n",
       "      <th></th>\n",
       "      <th></th>\n",
       "      <th></th>\n",
       "      <th></th>\n",
       "      <th></th>\n",
       "      <th></th>\n",
       "    </tr>\n",
       "  </thead>\n",
       "  <tbody>\n",
       "    <tr>\n",
       "      <th>0110x011</th>\n",
       "      <td>0.0</td>\n",
       "      <td>0.0</td>\n",
       "      <td>0.0</td>\n",
       "      <td>0.0</td>\n",
       "      <td>0.0</td>\n",
       "      <td>0.0</td>\n",
       "      <td>0.0</td>\n",
       "      <td>0.0</td>\n",
       "      <td>0.0</td>\n",
       "      <td>0.0</td>\n",
       "      <td>...</td>\n",
       "      <td>0.0</td>\n",
       "      <td>0.0</td>\n",
       "      <td>0.0</td>\n",
       "      <td>0.0</td>\n",
       "      <td>0.0</td>\n",
       "      <td>0.0</td>\n",
       "      <td>0.0</td>\n",
       "      <td>0.0</td>\n",
       "      <td>0.0</td>\n",
       "      <td>0.0</td>\n",
       "    </tr>\n",
       "    <tr>\n",
       "      <th>05Harley</th>\n",
       "      <td>0.0</td>\n",
       "      <td>0.0</td>\n",
       "      <td>0.0</td>\n",
       "      <td>0.0</td>\n",
       "      <td>0.0</td>\n",
       "      <td>0.0</td>\n",
       "      <td>0.0</td>\n",
       "      <td>0.0</td>\n",
       "      <td>0.0</td>\n",
       "      <td>0.0</td>\n",
       "      <td>...</td>\n",
       "      <td>0.0</td>\n",
       "      <td>0.0</td>\n",
       "      <td>0.0</td>\n",
       "      <td>0.0</td>\n",
       "      <td>0.0</td>\n",
       "      <td>0.0</td>\n",
       "      <td>0.0</td>\n",
       "      <td>0.0</td>\n",
       "      <td>0.0</td>\n",
       "      <td>0.0</td>\n",
       "    </tr>\n",
       "    <tr>\n",
       "      <th>100floods</th>\n",
       "      <td>0.0</td>\n",
       "      <td>0.0</td>\n",
       "      <td>0.0</td>\n",
       "      <td>0.0</td>\n",
       "      <td>0.0</td>\n",
       "      <td>0.0</td>\n",
       "      <td>0.0</td>\n",
       "      <td>0.0</td>\n",
       "      <td>0.0</td>\n",
       "      <td>0.0</td>\n",
       "      <td>...</td>\n",
       "      <td>0.0</td>\n",
       "      <td>0.0</td>\n",
       "      <td>0.0</td>\n",
       "      <td>0.0</td>\n",
       "      <td>0.0</td>\n",
       "      <td>0.0</td>\n",
       "      <td>0.0</td>\n",
       "      <td>0.0</td>\n",
       "      <td>0.0</td>\n",
       "      <td>0.0</td>\n",
       "    </tr>\n",
       "    <tr>\n",
       "      <th>1759Girl</th>\n",
       "      <td>0.0</td>\n",
       "      <td>0.0</td>\n",
       "      <td>0.0</td>\n",
       "      <td>0.0</td>\n",
       "      <td>0.0</td>\n",
       "      <td>0.0</td>\n",
       "      <td>0.0</td>\n",
       "      <td>0.0</td>\n",
       "      <td>0.0</td>\n",
       "      <td>0.0</td>\n",
       "      <td>...</td>\n",
       "      <td>0.0</td>\n",
       "      <td>0.0</td>\n",
       "      <td>0.0</td>\n",
       "      <td>0.0</td>\n",
       "      <td>0.0</td>\n",
       "      <td>0.0</td>\n",
       "      <td>0.0</td>\n",
       "      <td>0.0</td>\n",
       "      <td>0.0</td>\n",
       "      <td>0.0</td>\n",
       "    </tr>\n",
       "    <tr>\n",
       "      <th>1fastz28</th>\n",
       "      <td>0.0</td>\n",
       "      <td>3.5</td>\n",
       "      <td>0.0</td>\n",
       "      <td>4.0</td>\n",
       "      <td>0.0</td>\n",
       "      <td>0.0</td>\n",
       "      <td>0.0</td>\n",
       "      <td>0.0</td>\n",
       "      <td>0.0</td>\n",
       "      <td>0.0</td>\n",
       "      <td>...</td>\n",
       "      <td>0.0</td>\n",
       "      <td>0.0</td>\n",
       "      <td>0.0</td>\n",
       "      <td>0.0</td>\n",
       "      <td>0.0</td>\n",
       "      <td>0.0</td>\n",
       "      <td>0.0</td>\n",
       "      <td>0.0</td>\n",
       "      <td>0.0</td>\n",
       "      <td>0.0</td>\n",
       "    </tr>\n",
       "  </tbody>\n",
       "</table>\n",
       "<p>5 rows × 2028 columns</p>\n",
       "</div>"
      ],
      "text/plain": [
       "beer_beerid         5      6      7      10     14     15     17     19     \\\n",
       "review_profilename                                                           \n",
       "0110x011              0.0    0.0    0.0    0.0    0.0    0.0    0.0    0.0   \n",
       "05Harley              0.0    0.0    0.0    0.0    0.0    0.0    0.0    0.0   \n",
       "100floods             0.0    0.0    0.0    0.0    0.0    0.0    0.0    0.0   \n",
       "1759Girl              0.0    0.0    0.0    0.0    0.0    0.0    0.0    0.0   \n",
       "1fastz28              0.0    3.5    0.0    4.0    0.0    0.0    0.0    0.0   \n",
       "\n",
       "beer_beerid         30     31     ...    71919  71969  72138  73131  74123  \\\n",
       "review_profilename                ...                                        \n",
       "0110x011              0.0    0.0  ...      0.0    0.0    0.0    0.0    0.0   \n",
       "05Harley              0.0    0.0  ...      0.0    0.0    0.0    0.0    0.0   \n",
       "100floods             0.0    0.0  ...      0.0    0.0    0.0    0.0    0.0   \n",
       "1759Girl              0.0    0.0  ...      0.0    0.0    0.0    0.0    0.0   \n",
       "1fastz28              0.0    0.0  ...      0.0    0.0    0.0    0.0    0.0   \n",
       "\n",
       "beer_beerid         74272  74323  74390  74986  75086  \n",
       "review_profilename                                     \n",
       "0110x011              0.0    0.0    0.0    0.0    0.0  \n",
       "05Harley              0.0    0.0    0.0    0.0    0.0  \n",
       "100floods             0.0    0.0    0.0    0.0    0.0  \n",
       "1759Girl              0.0    0.0    0.0    0.0    0.0  \n",
       "1fastz28              0.0    0.0    0.0    0.0    0.0  \n",
       "\n",
       "[5 rows x 2028 columns]"
      ]
     },
     "execution_count": 44,
     "metadata": {},
     "output_type": "execute_result"
    }
   ],
   "source": [
    "# pivot beer ratings into beer features\n",
    "df_beer_features = train.pivot(\n",
    "    index='review_profilename',\n",
    "    columns='beer_beerid',\n",
    "    values='review_overall'\n",
    ").fillna(0)\n",
    "\n",
    "# Printing the shape of dataframe\n",
    "print(df_beer_features.shape)\n",
    "\n",
    "df_beer_features.head()"
   ]
  },
  {
   "cell_type": "markdown",
   "metadata": {},
   "source": [
    "### Copy train and test dataset\n",
    "These dataset will be used for prediction and evaluation. \n",
    "- Dummy train will be used later for prediction of the beers which has not been rated by the user. To ignore the beers rated by the user, we will mark it as 0 during prediction. The beers not rated by user is marked as 1 for prediction. \n",
    "- Dummy test will be used for evaluation. To evaluate, we will only make prediction on the beers rated by the user. So, this is marked as 1. This is just opposite of dummy_train."
   ]
  },
  {
   "cell_type": "code",
   "execution_count": 45,
   "metadata": {},
   "outputs": [],
   "source": [
    "dummy_train = train.copy()\n",
    "dummy_test = test.copy()"
   ]
  },
  {
   "cell_type": "code",
   "execution_count": 46,
   "metadata": {},
   "outputs": [],
   "source": [
    "dummy_train['review_overall'] = dummy_train['review_overall'].apply(lambda x: 0 if x>=1 else 1)\n",
    "dummy_test['review_overall'] = dummy_test['review_overall'].apply(lambda x: 1 if x>=1 else 0)"
   ]
  },
  {
   "cell_type": "code",
   "execution_count": 47,
   "metadata": {},
   "outputs": [],
   "source": [
    "# The beers not rated by user is marked as 1 for prediction. \n",
    "dummy_train = dummy_train.pivot(\n",
    "    index='review_profilename',\n",
    "    columns='beer_beerid',\n",
    "    values='review_overall'\n",
    ").fillna(1)\n",
    "\n",
    "# The beers not rated by user is marked as 0 for evaluation. \n",
    "dummy_test = dummy_test.pivot(\n",
    "    index='review_profilename',\n",
    "    columns='beer_beerid',\n",
    "    values='review_overall'\n",
    ").fillna(0)"
   ]
  },
  {
   "cell_type": "code",
   "execution_count": 48,
   "metadata": {},
   "outputs": [
    {
     "data": {
      "text/html": [
       "<div>\n",
       "<style scoped>\n",
       "    .dataframe tbody tr th:only-of-type {\n",
       "        vertical-align: middle;\n",
       "    }\n",
       "\n",
       "    .dataframe tbody tr th {\n",
       "        vertical-align: top;\n",
       "    }\n",
       "\n",
       "    .dataframe thead th {\n",
       "        text-align: right;\n",
       "    }\n",
       "</style>\n",
       "<table border=\"1\" class=\"dataframe\">\n",
       "  <thead>\n",
       "    <tr style=\"text-align: right;\">\n",
       "      <th>beer_beerid</th>\n",
       "      <th>5</th>\n",
       "      <th>6</th>\n",
       "      <th>7</th>\n",
       "      <th>10</th>\n",
       "      <th>14</th>\n",
       "      <th>15</th>\n",
       "      <th>17</th>\n",
       "      <th>19</th>\n",
       "      <th>30</th>\n",
       "      <th>31</th>\n",
       "      <th>...</th>\n",
       "      <th>71919</th>\n",
       "      <th>71969</th>\n",
       "      <th>72138</th>\n",
       "      <th>73131</th>\n",
       "      <th>74123</th>\n",
       "      <th>74272</th>\n",
       "      <th>74323</th>\n",
       "      <th>74390</th>\n",
       "      <th>74986</th>\n",
       "      <th>75086</th>\n",
       "    </tr>\n",
       "    <tr>\n",
       "      <th>review_profilename</th>\n",
       "      <th></th>\n",
       "      <th></th>\n",
       "      <th></th>\n",
       "      <th></th>\n",
       "      <th></th>\n",
       "      <th></th>\n",
       "      <th></th>\n",
       "      <th></th>\n",
       "      <th></th>\n",
       "      <th></th>\n",
       "      <th></th>\n",
       "      <th></th>\n",
       "      <th></th>\n",
       "      <th></th>\n",
       "      <th></th>\n",
       "      <th></th>\n",
       "      <th></th>\n",
       "      <th></th>\n",
       "      <th></th>\n",
       "      <th></th>\n",
       "      <th></th>\n",
       "    </tr>\n",
       "  </thead>\n",
       "  <tbody>\n",
       "    <tr>\n",
       "      <th>0110x011</th>\n",
       "      <td>1.0</td>\n",
       "      <td>1.0</td>\n",
       "      <td>1.0</td>\n",
       "      <td>1.0</td>\n",
       "      <td>1.0</td>\n",
       "      <td>1.0</td>\n",
       "      <td>1.0</td>\n",
       "      <td>1.0</td>\n",
       "      <td>1.0</td>\n",
       "      <td>1.0</td>\n",
       "      <td>...</td>\n",
       "      <td>1.0</td>\n",
       "      <td>1.0</td>\n",
       "      <td>1.0</td>\n",
       "      <td>1.0</td>\n",
       "      <td>1.0</td>\n",
       "      <td>1.0</td>\n",
       "      <td>1.0</td>\n",
       "      <td>1.0</td>\n",
       "      <td>1.0</td>\n",
       "      <td>1.0</td>\n",
       "    </tr>\n",
       "    <tr>\n",
       "      <th>05Harley</th>\n",
       "      <td>1.0</td>\n",
       "      <td>1.0</td>\n",
       "      <td>1.0</td>\n",
       "      <td>1.0</td>\n",
       "      <td>1.0</td>\n",
       "      <td>1.0</td>\n",
       "      <td>1.0</td>\n",
       "      <td>1.0</td>\n",
       "      <td>1.0</td>\n",
       "      <td>1.0</td>\n",
       "      <td>...</td>\n",
       "      <td>1.0</td>\n",
       "      <td>1.0</td>\n",
       "      <td>1.0</td>\n",
       "      <td>1.0</td>\n",
       "      <td>1.0</td>\n",
       "      <td>1.0</td>\n",
       "      <td>1.0</td>\n",
       "      <td>1.0</td>\n",
       "      <td>1.0</td>\n",
       "      <td>1.0</td>\n",
       "    </tr>\n",
       "    <tr>\n",
       "      <th>100floods</th>\n",
       "      <td>1.0</td>\n",
       "      <td>1.0</td>\n",
       "      <td>1.0</td>\n",
       "      <td>1.0</td>\n",
       "      <td>1.0</td>\n",
       "      <td>1.0</td>\n",
       "      <td>1.0</td>\n",
       "      <td>1.0</td>\n",
       "      <td>1.0</td>\n",
       "      <td>1.0</td>\n",
       "      <td>...</td>\n",
       "      <td>1.0</td>\n",
       "      <td>1.0</td>\n",
       "      <td>1.0</td>\n",
       "      <td>1.0</td>\n",
       "      <td>1.0</td>\n",
       "      <td>1.0</td>\n",
       "      <td>1.0</td>\n",
       "      <td>1.0</td>\n",
       "      <td>1.0</td>\n",
       "      <td>1.0</td>\n",
       "    </tr>\n",
       "    <tr>\n",
       "      <th>1759Girl</th>\n",
       "      <td>1.0</td>\n",
       "      <td>1.0</td>\n",
       "      <td>1.0</td>\n",
       "      <td>1.0</td>\n",
       "      <td>1.0</td>\n",
       "      <td>1.0</td>\n",
       "      <td>1.0</td>\n",
       "      <td>1.0</td>\n",
       "      <td>1.0</td>\n",
       "      <td>1.0</td>\n",
       "      <td>...</td>\n",
       "      <td>1.0</td>\n",
       "      <td>1.0</td>\n",
       "      <td>1.0</td>\n",
       "      <td>1.0</td>\n",
       "      <td>1.0</td>\n",
       "      <td>1.0</td>\n",
       "      <td>1.0</td>\n",
       "      <td>1.0</td>\n",
       "      <td>1.0</td>\n",
       "      <td>1.0</td>\n",
       "    </tr>\n",
       "    <tr>\n",
       "      <th>1fastz28</th>\n",
       "      <td>1.0</td>\n",
       "      <td>0.0</td>\n",
       "      <td>1.0</td>\n",
       "      <td>0.0</td>\n",
       "      <td>1.0</td>\n",
       "      <td>1.0</td>\n",
       "      <td>1.0</td>\n",
       "      <td>1.0</td>\n",
       "      <td>1.0</td>\n",
       "      <td>1.0</td>\n",
       "      <td>...</td>\n",
       "      <td>1.0</td>\n",
       "      <td>1.0</td>\n",
       "      <td>1.0</td>\n",
       "      <td>1.0</td>\n",
       "      <td>1.0</td>\n",
       "      <td>1.0</td>\n",
       "      <td>1.0</td>\n",
       "      <td>1.0</td>\n",
       "      <td>1.0</td>\n",
       "      <td>1.0</td>\n",
       "    </tr>\n",
       "  </tbody>\n",
       "</table>\n",
       "<p>5 rows × 2028 columns</p>\n",
       "</div>"
      ],
      "text/plain": [
       "beer_beerid         5      6      7      10     14     15     17     19     \\\n",
       "review_profilename                                                           \n",
       "0110x011              1.0    1.0    1.0    1.0    1.0    1.0    1.0    1.0   \n",
       "05Harley              1.0    1.0    1.0    1.0    1.0    1.0    1.0    1.0   \n",
       "100floods             1.0    1.0    1.0    1.0    1.0    1.0    1.0    1.0   \n",
       "1759Girl              1.0    1.0    1.0    1.0    1.0    1.0    1.0    1.0   \n",
       "1fastz28              1.0    0.0    1.0    0.0    1.0    1.0    1.0    1.0   \n",
       "\n",
       "beer_beerid         30     31     ...    71919  71969  72138  73131  74123  \\\n",
       "review_profilename                ...                                        \n",
       "0110x011              1.0    1.0  ...      1.0    1.0    1.0    1.0    1.0   \n",
       "05Harley              1.0    1.0  ...      1.0    1.0    1.0    1.0    1.0   \n",
       "100floods             1.0    1.0  ...      1.0    1.0    1.0    1.0    1.0   \n",
       "1759Girl              1.0    1.0  ...      1.0    1.0    1.0    1.0    1.0   \n",
       "1fastz28              1.0    1.0  ...      1.0    1.0    1.0    1.0    1.0   \n",
       "\n",
       "beer_beerid         74272  74323  74390  74986  75086  \n",
       "review_profilename                                     \n",
       "0110x011              1.0    1.0    1.0    1.0    1.0  \n",
       "05Harley              1.0    1.0    1.0    1.0    1.0  \n",
       "100floods             1.0    1.0    1.0    1.0    1.0  \n",
       "1759Girl              1.0    1.0    1.0    1.0    1.0  \n",
       "1fastz28              1.0    1.0    1.0    1.0    1.0  \n",
       "\n",
       "[5 rows x 2028 columns]"
      ]
     },
     "execution_count": 48,
     "metadata": {},
     "output_type": "execute_result"
    }
   ],
   "source": [
    "dummy_train.head()"
   ]
  },
  {
   "cell_type": "code",
   "execution_count": 49,
   "metadata": {},
   "outputs": [
    {
     "data": {
      "text/html": [
       "<div>\n",
       "<style scoped>\n",
       "    .dataframe tbody tr th:only-of-type {\n",
       "        vertical-align: middle;\n",
       "    }\n",
       "\n",
       "    .dataframe tbody tr th {\n",
       "        vertical-align: top;\n",
       "    }\n",
       "\n",
       "    .dataframe thead th {\n",
       "        text-align: right;\n",
       "    }\n",
       "</style>\n",
       "<table border=\"1\" class=\"dataframe\">\n",
       "  <thead>\n",
       "    <tr style=\"text-align: right;\">\n",
       "      <th>beer_beerid</th>\n",
       "      <th>5</th>\n",
       "      <th>6</th>\n",
       "      <th>7</th>\n",
       "      <th>10</th>\n",
       "      <th>14</th>\n",
       "      <th>15</th>\n",
       "      <th>17</th>\n",
       "      <th>19</th>\n",
       "      <th>30</th>\n",
       "      <th>31</th>\n",
       "      <th>...</th>\n",
       "      <th>71919</th>\n",
       "      <th>71969</th>\n",
       "      <th>72138</th>\n",
       "      <th>73131</th>\n",
       "      <th>74123</th>\n",
       "      <th>74272</th>\n",
       "      <th>74323</th>\n",
       "      <th>74390</th>\n",
       "      <th>74986</th>\n",
       "      <th>75086</th>\n",
       "    </tr>\n",
       "    <tr>\n",
       "      <th>review_profilename</th>\n",
       "      <th></th>\n",
       "      <th></th>\n",
       "      <th></th>\n",
       "      <th></th>\n",
       "      <th></th>\n",
       "      <th></th>\n",
       "      <th></th>\n",
       "      <th></th>\n",
       "      <th></th>\n",
       "      <th></th>\n",
       "      <th></th>\n",
       "      <th></th>\n",
       "      <th></th>\n",
       "      <th></th>\n",
       "      <th></th>\n",
       "      <th></th>\n",
       "      <th></th>\n",
       "      <th></th>\n",
       "      <th></th>\n",
       "      <th></th>\n",
       "      <th></th>\n",
       "    </tr>\n",
       "  </thead>\n",
       "  <tbody>\n",
       "    <tr>\n",
       "      <th>0110x011</th>\n",
       "      <td>0.0</td>\n",
       "      <td>0.0</td>\n",
       "      <td>0.0</td>\n",
       "      <td>0.0</td>\n",
       "      <td>0.0</td>\n",
       "      <td>0.0</td>\n",
       "      <td>0.0</td>\n",
       "      <td>0.0</td>\n",
       "      <td>0.0</td>\n",
       "      <td>0.0</td>\n",
       "      <td>...</td>\n",
       "      <td>0.0</td>\n",
       "      <td>0.0</td>\n",
       "      <td>0.0</td>\n",
       "      <td>0.0</td>\n",
       "      <td>0.0</td>\n",
       "      <td>0.0</td>\n",
       "      <td>0.0</td>\n",
       "      <td>0.0</td>\n",
       "      <td>0.0</td>\n",
       "      <td>0.0</td>\n",
       "    </tr>\n",
       "    <tr>\n",
       "      <th>05Harley</th>\n",
       "      <td>0.0</td>\n",
       "      <td>0.0</td>\n",
       "      <td>0.0</td>\n",
       "      <td>0.0</td>\n",
       "      <td>0.0</td>\n",
       "      <td>0.0</td>\n",
       "      <td>0.0</td>\n",
       "      <td>0.0</td>\n",
       "      <td>0.0</td>\n",
       "      <td>0.0</td>\n",
       "      <td>...</td>\n",
       "      <td>0.0</td>\n",
       "      <td>0.0</td>\n",
       "      <td>0.0</td>\n",
       "      <td>0.0</td>\n",
       "      <td>0.0</td>\n",
       "      <td>0.0</td>\n",
       "      <td>0.0</td>\n",
       "      <td>0.0</td>\n",
       "      <td>0.0</td>\n",
       "      <td>0.0</td>\n",
       "    </tr>\n",
       "    <tr>\n",
       "      <th>100floods</th>\n",
       "      <td>0.0</td>\n",
       "      <td>0.0</td>\n",
       "      <td>0.0</td>\n",
       "      <td>0.0</td>\n",
       "      <td>0.0</td>\n",
       "      <td>0.0</td>\n",
       "      <td>0.0</td>\n",
       "      <td>0.0</td>\n",
       "      <td>0.0</td>\n",
       "      <td>0.0</td>\n",
       "      <td>...</td>\n",
       "      <td>0.0</td>\n",
       "      <td>0.0</td>\n",
       "      <td>0.0</td>\n",
       "      <td>0.0</td>\n",
       "      <td>0.0</td>\n",
       "      <td>0.0</td>\n",
       "      <td>0.0</td>\n",
       "      <td>0.0</td>\n",
       "      <td>0.0</td>\n",
       "      <td>0.0</td>\n",
       "    </tr>\n",
       "    <tr>\n",
       "      <th>1759Girl</th>\n",
       "      <td>0.0</td>\n",
       "      <td>0.0</td>\n",
       "      <td>0.0</td>\n",
       "      <td>0.0</td>\n",
       "      <td>0.0</td>\n",
       "      <td>0.0</td>\n",
       "      <td>0.0</td>\n",
       "      <td>0.0</td>\n",
       "      <td>0.0</td>\n",
       "      <td>0.0</td>\n",
       "      <td>...</td>\n",
       "      <td>0.0</td>\n",
       "      <td>0.0</td>\n",
       "      <td>0.0</td>\n",
       "      <td>0.0</td>\n",
       "      <td>0.0</td>\n",
       "      <td>0.0</td>\n",
       "      <td>0.0</td>\n",
       "      <td>0.0</td>\n",
       "      <td>0.0</td>\n",
       "      <td>0.0</td>\n",
       "    </tr>\n",
       "    <tr>\n",
       "      <th>1fastz28</th>\n",
       "      <td>0.0</td>\n",
       "      <td>0.0</td>\n",
       "      <td>0.0</td>\n",
       "      <td>0.0</td>\n",
       "      <td>0.0</td>\n",
       "      <td>0.0</td>\n",
       "      <td>0.0</td>\n",
       "      <td>0.0</td>\n",
       "      <td>0.0</td>\n",
       "      <td>0.0</td>\n",
       "      <td>...</td>\n",
       "      <td>0.0</td>\n",
       "      <td>0.0</td>\n",
       "      <td>0.0</td>\n",
       "      <td>0.0</td>\n",
       "      <td>1.0</td>\n",
       "      <td>0.0</td>\n",
       "      <td>0.0</td>\n",
       "      <td>0.0</td>\n",
       "      <td>0.0</td>\n",
       "      <td>0.0</td>\n",
       "    </tr>\n",
       "  </tbody>\n",
       "</table>\n",
       "<p>5 rows × 2028 columns</p>\n",
       "</div>"
      ],
      "text/plain": [
       "beer_beerid         5      6      7      10     14     15     17     19     \\\n",
       "review_profilename                                                           \n",
       "0110x011              0.0    0.0    0.0    0.0    0.0    0.0    0.0    0.0   \n",
       "05Harley              0.0    0.0    0.0    0.0    0.0    0.0    0.0    0.0   \n",
       "100floods             0.0    0.0    0.0    0.0    0.0    0.0    0.0    0.0   \n",
       "1759Girl              0.0    0.0    0.0    0.0    0.0    0.0    0.0    0.0   \n",
       "1fastz28              0.0    0.0    0.0    0.0    0.0    0.0    0.0    0.0   \n",
       "\n",
       "beer_beerid         30     31     ...    71919  71969  72138  73131  74123  \\\n",
       "review_profilename                ...                                        \n",
       "0110x011              0.0    0.0  ...      0.0    0.0    0.0    0.0    0.0   \n",
       "05Harley              0.0    0.0  ...      0.0    0.0    0.0    0.0    0.0   \n",
       "100floods             0.0    0.0  ...      0.0    0.0    0.0    0.0    0.0   \n",
       "1759Girl              0.0    0.0  ...      0.0    0.0    0.0    0.0    0.0   \n",
       "1fastz28              0.0    0.0  ...      0.0    0.0    0.0    0.0    1.0   \n",
       "\n",
       "beer_beerid         74272  74323  74390  74986  75086  \n",
       "review_profilename                                     \n",
       "0110x011              0.0    0.0    0.0    0.0    0.0  \n",
       "05Harley              0.0    0.0    0.0    0.0    0.0  \n",
       "100floods             0.0    0.0    0.0    0.0    0.0  \n",
       "1759Girl              0.0    0.0    0.0    0.0    0.0  \n",
       "1fastz28              0.0    0.0    0.0    0.0    0.0  \n",
       "\n",
       "[5 rows x 2028 columns]"
      ]
     },
     "execution_count": 49,
     "metadata": {},
     "output_type": "execute_result"
    }
   ],
   "source": [
    "dummy_test.head()"
   ]
  },
  {
   "cell_type": "markdown",
   "metadata": {},
   "source": [
    "#### Using Cosine Similarity"
   ]
  },
  {
   "cell_type": "code",
   "execution_count": 50,
   "metadata": {},
   "outputs": [
    {
     "name": "stdout",
     "output_type": "stream",
     "text": [
      "[[1.         0.         0.         ... 0.         0.03995561 0.        ]\n",
      " [0.         1.         0.05127674 ... 0.03533718 0.09612698 0.        ]\n",
      " [0.         0.05127674 1.         ... 0.         0.07265033 0.        ]\n",
      " ...\n",
      " [0.         0.03533718 0.         ... 1.         0.         0.        ]\n",
      " [0.03995561 0.09612698 0.07265033 ... 0.         1.         0.        ]\n",
      " [0.         0.         0.         ... 0.         0.         1.        ]]\n"
     ]
    }
   ],
   "source": [
    "from sklearn.metrics.pairwise import pairwise_distances\n",
    "\n",
    "# User Similarity Matrix\n",
    "user_correlation = 1 - pairwise_distances(df_beer_features, metric='cosine')\n",
    "user_correlation[np.isnan(user_correlation)] = 0\n",
    "print(user_correlation)"
   ]
  },
  {
   "cell_type": "code",
   "execution_count": 51,
   "metadata": {},
   "outputs": [
    {
     "data": {
      "text/plain": [
       "(2936, 2936)"
      ]
     },
     "execution_count": 51,
     "metadata": {},
     "output_type": "execute_result"
    }
   ],
   "source": [
    "user_correlation.shape"
   ]
  },
  {
   "cell_type": "markdown",
   "metadata": {},
   "source": [
    "#### Using adjusted Cosine \n",
    "\n",
    "Here, not removing the NaN values and calculating the mean only for the beers rated by the user"
   ]
  },
  {
   "cell_type": "code",
   "execution_count": 52,
   "metadata": {},
   "outputs": [
    {
     "data": {
      "text/html": [
       "<div>\n",
       "<style scoped>\n",
       "    .dataframe tbody tr th:only-of-type {\n",
       "        vertical-align: middle;\n",
       "    }\n",
       "\n",
       "    .dataframe tbody tr th {\n",
       "        vertical-align: top;\n",
       "    }\n",
       "\n",
       "    .dataframe thead th {\n",
       "        text-align: right;\n",
       "    }\n",
       "</style>\n",
       "<table border=\"1\" class=\"dataframe\">\n",
       "  <thead>\n",
       "    <tr style=\"text-align: right;\">\n",
       "      <th>beer_beerid</th>\n",
       "      <th>5</th>\n",
       "      <th>6</th>\n",
       "      <th>7</th>\n",
       "      <th>10</th>\n",
       "      <th>14</th>\n",
       "      <th>15</th>\n",
       "      <th>17</th>\n",
       "      <th>19</th>\n",
       "      <th>30</th>\n",
       "      <th>31</th>\n",
       "      <th>...</th>\n",
       "      <th>71919</th>\n",
       "      <th>71969</th>\n",
       "      <th>72138</th>\n",
       "      <th>73131</th>\n",
       "      <th>74123</th>\n",
       "      <th>74272</th>\n",
       "      <th>74323</th>\n",
       "      <th>74390</th>\n",
       "      <th>74986</th>\n",
       "      <th>75086</th>\n",
       "    </tr>\n",
       "    <tr>\n",
       "      <th>review_profilename</th>\n",
       "      <th></th>\n",
       "      <th></th>\n",
       "      <th></th>\n",
       "      <th></th>\n",
       "      <th></th>\n",
       "      <th></th>\n",
       "      <th></th>\n",
       "      <th></th>\n",
       "      <th></th>\n",
       "      <th></th>\n",
       "      <th></th>\n",
       "      <th></th>\n",
       "      <th></th>\n",
       "      <th></th>\n",
       "      <th></th>\n",
       "      <th></th>\n",
       "      <th></th>\n",
       "      <th></th>\n",
       "      <th></th>\n",
       "      <th></th>\n",
       "      <th></th>\n",
       "    </tr>\n",
       "  </thead>\n",
       "  <tbody>\n",
       "    <tr>\n",
       "      <th>0110x011</th>\n",
       "      <td>NaN</td>\n",
       "      <td>NaN</td>\n",
       "      <td>NaN</td>\n",
       "      <td>NaN</td>\n",
       "      <td>NaN</td>\n",
       "      <td>NaN</td>\n",
       "      <td>NaN</td>\n",
       "      <td>NaN</td>\n",
       "      <td>NaN</td>\n",
       "      <td>NaN</td>\n",
       "      <td>...</td>\n",
       "      <td>NaN</td>\n",
       "      <td>NaN</td>\n",
       "      <td>NaN</td>\n",
       "      <td>NaN</td>\n",
       "      <td>NaN</td>\n",
       "      <td>NaN</td>\n",
       "      <td>NaN</td>\n",
       "      <td>NaN</td>\n",
       "      <td>NaN</td>\n",
       "      <td>NaN</td>\n",
       "    </tr>\n",
       "    <tr>\n",
       "      <th>05Harley</th>\n",
       "      <td>NaN</td>\n",
       "      <td>NaN</td>\n",
       "      <td>NaN</td>\n",
       "      <td>NaN</td>\n",
       "      <td>NaN</td>\n",
       "      <td>NaN</td>\n",
       "      <td>NaN</td>\n",
       "      <td>NaN</td>\n",
       "      <td>NaN</td>\n",
       "      <td>NaN</td>\n",
       "      <td>...</td>\n",
       "      <td>NaN</td>\n",
       "      <td>NaN</td>\n",
       "      <td>NaN</td>\n",
       "      <td>NaN</td>\n",
       "      <td>NaN</td>\n",
       "      <td>NaN</td>\n",
       "      <td>NaN</td>\n",
       "      <td>NaN</td>\n",
       "      <td>NaN</td>\n",
       "      <td>NaN</td>\n",
       "    </tr>\n",
       "    <tr>\n",
       "      <th>100floods</th>\n",
       "      <td>NaN</td>\n",
       "      <td>NaN</td>\n",
       "      <td>NaN</td>\n",
       "      <td>NaN</td>\n",
       "      <td>NaN</td>\n",
       "      <td>NaN</td>\n",
       "      <td>NaN</td>\n",
       "      <td>NaN</td>\n",
       "      <td>NaN</td>\n",
       "      <td>NaN</td>\n",
       "      <td>...</td>\n",
       "      <td>NaN</td>\n",
       "      <td>NaN</td>\n",
       "      <td>NaN</td>\n",
       "      <td>NaN</td>\n",
       "      <td>NaN</td>\n",
       "      <td>NaN</td>\n",
       "      <td>NaN</td>\n",
       "      <td>NaN</td>\n",
       "      <td>NaN</td>\n",
       "      <td>NaN</td>\n",
       "    </tr>\n",
       "    <tr>\n",
       "      <th>1759Girl</th>\n",
       "      <td>NaN</td>\n",
       "      <td>NaN</td>\n",
       "      <td>NaN</td>\n",
       "      <td>NaN</td>\n",
       "      <td>NaN</td>\n",
       "      <td>NaN</td>\n",
       "      <td>NaN</td>\n",
       "      <td>NaN</td>\n",
       "      <td>NaN</td>\n",
       "      <td>NaN</td>\n",
       "      <td>...</td>\n",
       "      <td>NaN</td>\n",
       "      <td>NaN</td>\n",
       "      <td>NaN</td>\n",
       "      <td>NaN</td>\n",
       "      <td>NaN</td>\n",
       "      <td>NaN</td>\n",
       "      <td>NaN</td>\n",
       "      <td>NaN</td>\n",
       "      <td>NaN</td>\n",
       "      <td>NaN</td>\n",
       "    </tr>\n",
       "    <tr>\n",
       "      <th>1fastz28</th>\n",
       "      <td>NaN</td>\n",
       "      <td>3.5</td>\n",
       "      <td>NaN</td>\n",
       "      <td>4.0</td>\n",
       "      <td>NaN</td>\n",
       "      <td>NaN</td>\n",
       "      <td>NaN</td>\n",
       "      <td>NaN</td>\n",
       "      <td>NaN</td>\n",
       "      <td>NaN</td>\n",
       "      <td>...</td>\n",
       "      <td>NaN</td>\n",
       "      <td>NaN</td>\n",
       "      <td>NaN</td>\n",
       "      <td>NaN</td>\n",
       "      <td>NaN</td>\n",
       "      <td>NaN</td>\n",
       "      <td>NaN</td>\n",
       "      <td>NaN</td>\n",
       "      <td>NaN</td>\n",
       "      <td>NaN</td>\n",
       "    </tr>\n",
       "  </tbody>\n",
       "</table>\n",
       "<p>5 rows × 2028 columns</p>\n",
       "</div>"
      ],
      "text/plain": [
       "beer_beerid         5      6      7      10     14     15     17     19     \\\n",
       "review_profilename                                                           \n",
       "0110x011              NaN    NaN    NaN    NaN    NaN    NaN    NaN    NaN   \n",
       "05Harley              NaN    NaN    NaN    NaN    NaN    NaN    NaN    NaN   \n",
       "100floods             NaN    NaN    NaN    NaN    NaN    NaN    NaN    NaN   \n",
       "1759Girl              NaN    NaN    NaN    NaN    NaN    NaN    NaN    NaN   \n",
       "1fastz28              NaN    3.5    NaN    4.0    NaN    NaN    NaN    NaN   \n",
       "\n",
       "beer_beerid         30     31     ...    71919  71969  72138  73131  74123  \\\n",
       "review_profilename                ...                                        \n",
       "0110x011              NaN    NaN  ...      NaN    NaN    NaN    NaN    NaN   \n",
       "05Harley              NaN    NaN  ...      NaN    NaN    NaN    NaN    NaN   \n",
       "100floods             NaN    NaN  ...      NaN    NaN    NaN    NaN    NaN   \n",
       "1759Girl              NaN    NaN  ...      NaN    NaN    NaN    NaN    NaN   \n",
       "1fastz28              NaN    NaN  ...      NaN    NaN    NaN    NaN    NaN   \n",
       "\n",
       "beer_beerid         74272  74323  74390  74986  75086  \n",
       "review_profilename                                     \n",
       "0110x011              NaN    NaN    NaN    NaN    NaN  \n",
       "05Harley              NaN    NaN    NaN    NaN    NaN  \n",
       "100floods             NaN    NaN    NaN    NaN    NaN  \n",
       "1759Girl              NaN    NaN    NaN    NaN    NaN  \n",
       "1fastz28              NaN    NaN    NaN    NaN    NaN  \n",
       "\n",
       "[5 rows x 2028 columns]"
      ]
     },
     "execution_count": 52,
     "metadata": {},
     "output_type": "execute_result"
    }
   ],
   "source": [
    "beer_features = train.pivot(\n",
    "    index='review_profilename',\n",
    "    columns='beer_beerid',\n",
    "    values='review_overall'\n",
    ")\n",
    "\n",
    "beer_features.head()"
   ]
  },
  {
   "cell_type": "markdown",
   "metadata": {},
   "source": [
    "Normalising the rating of the beer for each user aroung 0 mean"
   ]
  },
  {
   "cell_type": "code",
   "execution_count": 53,
   "metadata": {},
   "outputs": [
    {
     "data": {
      "text/html": [
       "<div>\n",
       "<style scoped>\n",
       "    .dataframe tbody tr th:only-of-type {\n",
       "        vertical-align: middle;\n",
       "    }\n",
       "\n",
       "    .dataframe tbody tr th {\n",
       "        vertical-align: top;\n",
       "    }\n",
       "\n",
       "    .dataframe thead th {\n",
       "        text-align: right;\n",
       "    }\n",
       "</style>\n",
       "<table border=\"1\" class=\"dataframe\">\n",
       "  <thead>\n",
       "    <tr style=\"text-align: right;\">\n",
       "      <th>beer_beerid</th>\n",
       "      <th>5</th>\n",
       "      <th>6</th>\n",
       "      <th>7</th>\n",
       "      <th>10</th>\n",
       "      <th>14</th>\n",
       "      <th>15</th>\n",
       "      <th>17</th>\n",
       "      <th>19</th>\n",
       "      <th>30</th>\n",
       "      <th>31</th>\n",
       "      <th>...</th>\n",
       "      <th>71919</th>\n",
       "      <th>71969</th>\n",
       "      <th>72138</th>\n",
       "      <th>73131</th>\n",
       "      <th>74123</th>\n",
       "      <th>74272</th>\n",
       "      <th>74323</th>\n",
       "      <th>74390</th>\n",
       "      <th>74986</th>\n",
       "      <th>75086</th>\n",
       "    </tr>\n",
       "    <tr>\n",
       "      <th>review_profilename</th>\n",
       "      <th></th>\n",
       "      <th></th>\n",
       "      <th></th>\n",
       "      <th></th>\n",
       "      <th></th>\n",
       "      <th></th>\n",
       "      <th></th>\n",
       "      <th></th>\n",
       "      <th></th>\n",
       "      <th></th>\n",
       "      <th></th>\n",
       "      <th></th>\n",
       "      <th></th>\n",
       "      <th></th>\n",
       "      <th></th>\n",
       "      <th></th>\n",
       "      <th></th>\n",
       "      <th></th>\n",
       "      <th></th>\n",
       "      <th></th>\n",
       "      <th></th>\n",
       "    </tr>\n",
       "  </thead>\n",
       "  <tbody>\n",
       "    <tr>\n",
       "      <th>0110x011</th>\n",
       "      <td>NaN</td>\n",
       "      <td>NaN</td>\n",
       "      <td>NaN</td>\n",
       "      <td>NaN</td>\n",
       "      <td>NaN</td>\n",
       "      <td>NaN</td>\n",
       "      <td>NaN</td>\n",
       "      <td>NaN</td>\n",
       "      <td>NaN</td>\n",
       "      <td>NaN</td>\n",
       "      <td>...</td>\n",
       "      <td>NaN</td>\n",
       "      <td>NaN</td>\n",
       "      <td>NaN</td>\n",
       "      <td>NaN</td>\n",
       "      <td>NaN</td>\n",
       "      <td>NaN</td>\n",
       "      <td>NaN</td>\n",
       "      <td>NaN</td>\n",
       "      <td>NaN</td>\n",
       "      <td>NaN</td>\n",
       "    </tr>\n",
       "    <tr>\n",
       "      <th>05Harley</th>\n",
       "      <td>NaN</td>\n",
       "      <td>NaN</td>\n",
       "      <td>NaN</td>\n",
       "      <td>NaN</td>\n",
       "      <td>NaN</td>\n",
       "      <td>NaN</td>\n",
       "      <td>NaN</td>\n",
       "      <td>NaN</td>\n",
       "      <td>NaN</td>\n",
       "      <td>NaN</td>\n",
       "      <td>...</td>\n",
       "      <td>NaN</td>\n",
       "      <td>NaN</td>\n",
       "      <td>NaN</td>\n",
       "      <td>NaN</td>\n",
       "      <td>NaN</td>\n",
       "      <td>NaN</td>\n",
       "      <td>NaN</td>\n",
       "      <td>NaN</td>\n",
       "      <td>NaN</td>\n",
       "      <td>NaN</td>\n",
       "    </tr>\n",
       "    <tr>\n",
       "      <th>100floods</th>\n",
       "      <td>NaN</td>\n",
       "      <td>NaN</td>\n",
       "      <td>NaN</td>\n",
       "      <td>NaN</td>\n",
       "      <td>NaN</td>\n",
       "      <td>NaN</td>\n",
       "      <td>NaN</td>\n",
       "      <td>NaN</td>\n",
       "      <td>NaN</td>\n",
       "      <td>NaN</td>\n",
       "      <td>...</td>\n",
       "      <td>NaN</td>\n",
       "      <td>NaN</td>\n",
       "      <td>NaN</td>\n",
       "      <td>NaN</td>\n",
       "      <td>NaN</td>\n",
       "      <td>NaN</td>\n",
       "      <td>NaN</td>\n",
       "      <td>NaN</td>\n",
       "      <td>NaN</td>\n",
       "      <td>NaN</td>\n",
       "    </tr>\n",
       "    <tr>\n",
       "      <th>1759Girl</th>\n",
       "      <td>NaN</td>\n",
       "      <td>NaN</td>\n",
       "      <td>NaN</td>\n",
       "      <td>NaN</td>\n",
       "      <td>NaN</td>\n",
       "      <td>NaN</td>\n",
       "      <td>NaN</td>\n",
       "      <td>NaN</td>\n",
       "      <td>NaN</td>\n",
       "      <td>NaN</td>\n",
       "      <td>...</td>\n",
       "      <td>NaN</td>\n",
       "      <td>NaN</td>\n",
       "      <td>NaN</td>\n",
       "      <td>NaN</td>\n",
       "      <td>NaN</td>\n",
       "      <td>NaN</td>\n",
       "      <td>NaN</td>\n",
       "      <td>NaN</td>\n",
       "      <td>NaN</td>\n",
       "      <td>NaN</td>\n",
       "    </tr>\n",
       "    <tr>\n",
       "      <th>1fastz28</th>\n",
       "      <td>NaN</td>\n",
       "      <td>-0.410448</td>\n",
       "      <td>NaN</td>\n",
       "      <td>0.089552</td>\n",
       "      <td>NaN</td>\n",
       "      <td>NaN</td>\n",
       "      <td>NaN</td>\n",
       "      <td>NaN</td>\n",
       "      <td>NaN</td>\n",
       "      <td>NaN</td>\n",
       "      <td>...</td>\n",
       "      <td>NaN</td>\n",
       "      <td>NaN</td>\n",
       "      <td>NaN</td>\n",
       "      <td>NaN</td>\n",
       "      <td>NaN</td>\n",
       "      <td>NaN</td>\n",
       "      <td>NaN</td>\n",
       "      <td>NaN</td>\n",
       "      <td>NaN</td>\n",
       "      <td>NaN</td>\n",
       "    </tr>\n",
       "  </tbody>\n",
       "</table>\n",
       "<p>5 rows × 2028 columns</p>\n",
       "</div>"
      ],
      "text/plain": [
       "beer_beerid         5         6      7         10     14     15     17     \\\n",
       "review_profilename                                                          \n",
       "0110x011              NaN       NaN    NaN       NaN    NaN    NaN    NaN   \n",
       "05Harley              NaN       NaN    NaN       NaN    NaN    NaN    NaN   \n",
       "100floods             NaN       NaN    NaN       NaN    NaN    NaN    NaN   \n",
       "1759Girl              NaN       NaN    NaN       NaN    NaN    NaN    NaN   \n",
       "1fastz28              NaN -0.410448    NaN  0.089552    NaN    NaN    NaN   \n",
       "\n",
       "beer_beerid         19     30     31     ...    71919  71969  72138  73131  \\\n",
       "review_profilename                       ...                                 \n",
       "0110x011              NaN    NaN    NaN  ...      NaN    NaN    NaN    NaN   \n",
       "05Harley              NaN    NaN    NaN  ...      NaN    NaN    NaN    NaN   \n",
       "100floods             NaN    NaN    NaN  ...      NaN    NaN    NaN    NaN   \n",
       "1759Girl              NaN    NaN    NaN  ...      NaN    NaN    NaN    NaN   \n",
       "1fastz28              NaN    NaN    NaN  ...      NaN    NaN    NaN    NaN   \n",
       "\n",
       "beer_beerid         74123  74272  74323  74390  74986  75086  \n",
       "review_profilename                                            \n",
       "0110x011              NaN    NaN    NaN    NaN    NaN    NaN  \n",
       "05Harley              NaN    NaN    NaN    NaN    NaN    NaN  \n",
       "100floods             NaN    NaN    NaN    NaN    NaN    NaN  \n",
       "1759Girl              NaN    NaN    NaN    NaN    NaN    NaN  \n",
       "1fastz28              NaN    NaN    NaN    NaN    NaN    NaN  \n",
       "\n",
       "[5 rows x 2028 columns]"
      ]
     },
     "execution_count": 53,
     "metadata": {},
     "output_type": "execute_result"
    }
   ],
   "source": [
    "mean = np.nanmean(beer_features, axis=1)\n",
    "df_subtracted = (beer_features.T-mean).T\n",
    "\n",
    "df_subtracted.head()"
   ]
  },
  {
   "cell_type": "markdown",
   "metadata": {},
   "source": [
    "Finding cosine similarity"
   ]
  },
  {
   "cell_type": "code",
   "execution_count": 54,
   "metadata": {},
   "outputs": [
    {
     "name": "stdout",
     "output_type": "stream",
     "text": [
      "[[ 1.          0.          0.         ...  0.          0.00423187\n",
      "   0.        ]\n",
      " [ 0.          1.         -0.00548088 ... -0.03048806  0.03536375\n",
      "   0.        ]\n",
      " [ 0.         -0.00548088  1.         ...  0.          0.00380848\n",
      "   0.        ]\n",
      " ...\n",
      " [ 0.         -0.03048806  0.         ...  1.          0.\n",
      "   0.        ]\n",
      " [ 0.00423187  0.03536375  0.00380848 ...  0.          1.\n",
      "   0.        ]\n",
      " [ 0.          0.          0.         ...  0.          0.\n",
      "   1.        ]]\n"
     ]
    }
   ],
   "source": [
    "# User Similarity Matrix\n",
    "user_correlation = 1.0 - pairwise_distances(df_subtracted.fillna(0), metric='cosine')\n",
    "user_correlation[np.isnan(user_correlation)] = 0\n",
    "print(user_correlation)"
   ]
  },
  {
   "cell_type": "markdown",
   "metadata": {},
   "source": [
    "### Prediction\n",
    "\n",
    "Doing the prediction for the users which are positively related with other users, and not the users which are negatively related as we are interested in the users which are more similar to the current users. So, ignoring the correlation for values less than 0. "
   ]
  },
  {
   "cell_type": "code",
   "execution_count": 55,
   "metadata": {},
   "outputs": [
    {
     "data": {
      "text/plain": [
       "array([[1.        , 0.        , 0.        , ..., 0.        , 0.00423187,\n",
       "        0.        ],\n",
       "       [0.        , 1.        , 0.        , ..., 0.        , 0.03536375,\n",
       "        0.        ],\n",
       "       [0.        , 0.        , 1.        , ..., 0.        , 0.00380848,\n",
       "        0.        ],\n",
       "       ...,\n",
       "       [0.        , 0.        , 0.        , ..., 1.        , 0.        ,\n",
       "        0.        ],\n",
       "       [0.00423187, 0.03536375, 0.00380848, ..., 0.        , 1.        ,\n",
       "        0.        ],\n",
       "       [0.        , 0.        , 0.        , ..., 0.        , 0.        ,\n",
       "        1.        ]])"
      ]
     },
     "execution_count": 55,
     "metadata": {},
     "output_type": "execute_result"
    }
   ],
   "source": [
    "user_correlation[user_correlation<0]=0\n",
    "user_correlation"
   ]
  },
  {
   "cell_type": "markdown",
   "metadata": {},
   "source": [
    "Rating predicted by the user (for beers rated as well as not rated) is the weighted sum of correlation with the beer rating (as present in the rating dataset). "
   ]
  },
  {
   "cell_type": "code",
   "execution_count": 56,
   "metadata": {},
   "outputs": [
    {
     "data": {
      "text/plain": [
       "array([[0.54512747, 1.87686679, 1.89416409, ..., 0.41906563, 3.3294939 ,\n",
       "        1.29489479],\n",
       "       [2.21965744, 4.50005124, 3.05025511, ..., 1.62368332, 5.59678859,\n",
       "        3.18654478],\n",
       "       [0.37139808, 1.86893812, 0.76449358, ..., 1.07456329, 1.27878193,\n",
       "        1.11446562],\n",
       "       ...,\n",
       "       [4.33243057, 9.32276888, 8.03688418, ..., 3.72169353, 3.91195418,\n",
       "        2.7112977 ],\n",
       "       [2.47899878, 7.21259499, 3.89311121, ..., 2.49074345, 4.50803765,\n",
       "        2.40396679],\n",
       "       [2.83180404, 4.7805516 , 4.39997863, ..., 0.69172993, 2.16132892,\n",
       "        1.73000308]])"
      ]
     },
     "execution_count": 56,
     "metadata": {},
     "output_type": "execute_result"
    }
   ],
   "source": [
    "user_predicted_ratings = np.dot(user_correlation, beer_features.fillna(0))\n",
    "user_predicted_ratings"
   ]
  },
  {
   "cell_type": "code",
   "execution_count": 57,
   "metadata": {},
   "outputs": [
    {
     "data": {
      "text/plain": [
       "(2936, 2028)"
      ]
     },
     "execution_count": 57,
     "metadata": {},
     "output_type": "execute_result"
    }
   ],
   "source": [
    "user_predicted_ratings.shape"
   ]
  },
  {
   "cell_type": "markdown",
   "metadata": {},
   "source": [
    "Since we are interested only in the beers not rated by the user, we will ignore the beers rated by the user by making it zero. "
   ]
  },
  {
   "cell_type": "code",
   "execution_count": 58,
   "metadata": {},
   "outputs": [
    {
     "data": {
      "text/html": [
       "<div>\n",
       "<style scoped>\n",
       "    .dataframe tbody tr th:only-of-type {\n",
       "        vertical-align: middle;\n",
       "    }\n",
       "\n",
       "    .dataframe tbody tr th {\n",
       "        vertical-align: top;\n",
       "    }\n",
       "\n",
       "    .dataframe thead th {\n",
       "        text-align: right;\n",
       "    }\n",
       "</style>\n",
       "<table border=\"1\" class=\"dataframe\">\n",
       "  <thead>\n",
       "    <tr style=\"text-align: right;\">\n",
       "      <th>beer_beerid</th>\n",
       "      <th>5</th>\n",
       "      <th>6</th>\n",
       "      <th>7</th>\n",
       "      <th>10</th>\n",
       "      <th>14</th>\n",
       "      <th>15</th>\n",
       "      <th>17</th>\n",
       "      <th>19</th>\n",
       "      <th>30</th>\n",
       "      <th>31</th>\n",
       "      <th>...</th>\n",
       "      <th>71919</th>\n",
       "      <th>71969</th>\n",
       "      <th>72138</th>\n",
       "      <th>73131</th>\n",
       "      <th>74123</th>\n",
       "      <th>74272</th>\n",
       "      <th>74323</th>\n",
       "      <th>74390</th>\n",
       "      <th>74986</th>\n",
       "      <th>75086</th>\n",
       "    </tr>\n",
       "    <tr>\n",
       "      <th>review_profilename</th>\n",
       "      <th></th>\n",
       "      <th></th>\n",
       "      <th></th>\n",
       "      <th></th>\n",
       "      <th></th>\n",
       "      <th></th>\n",
       "      <th></th>\n",
       "      <th></th>\n",
       "      <th></th>\n",
       "      <th></th>\n",
       "      <th></th>\n",
       "      <th></th>\n",
       "      <th></th>\n",
       "      <th></th>\n",
       "      <th></th>\n",
       "      <th></th>\n",
       "      <th></th>\n",
       "      <th></th>\n",
       "      <th></th>\n",
       "      <th></th>\n",
       "      <th></th>\n",
       "    </tr>\n",
       "  </thead>\n",
       "  <tbody>\n",
       "    <tr>\n",
       "      <th>0110x011</th>\n",
       "      <td>0.545127</td>\n",
       "      <td>1.876867</td>\n",
       "      <td>1.894164</td>\n",
       "      <td>2.069622</td>\n",
       "      <td>0.285340</td>\n",
       "      <td>0.583800</td>\n",
       "      <td>2.355692</td>\n",
       "      <td>1.408548</td>\n",
       "      <td>7.238795</td>\n",
       "      <td>2.709046</td>\n",
       "      <td>...</td>\n",
       "      <td>0.895309</td>\n",
       "      <td>2.041688</td>\n",
       "      <td>4.111709</td>\n",
       "      <td>1.591550</td>\n",
       "      <td>0.228248</td>\n",
       "      <td>0.318341</td>\n",
       "      <td>0.463136</td>\n",
       "      <td>0.419066</td>\n",
       "      <td>3.329494</td>\n",
       "      <td>1.294895</td>\n",
       "    </tr>\n",
       "    <tr>\n",
       "      <th>05Harley</th>\n",
       "      <td>2.219657</td>\n",
       "      <td>4.500051</td>\n",
       "      <td>3.050255</td>\n",
       "      <td>5.314040</td>\n",
       "      <td>0.846822</td>\n",
       "      <td>1.602969</td>\n",
       "      <td>3.326802</td>\n",
       "      <td>1.979786</td>\n",
       "      <td>9.228832</td>\n",
       "      <td>5.299144</td>\n",
       "      <td>...</td>\n",
       "      <td>2.164857</td>\n",
       "      <td>3.526223</td>\n",
       "      <td>7.408061</td>\n",
       "      <td>0.853167</td>\n",
       "      <td>0.499701</td>\n",
       "      <td>2.003223</td>\n",
       "      <td>2.212483</td>\n",
       "      <td>1.623683</td>\n",
       "      <td>5.596789</td>\n",
       "      <td>3.186545</td>\n",
       "    </tr>\n",
       "    <tr>\n",
       "      <th>100floods</th>\n",
       "      <td>0.371398</td>\n",
       "      <td>1.868938</td>\n",
       "      <td>0.764494</td>\n",
       "      <td>2.335213</td>\n",
       "      <td>0.551755</td>\n",
       "      <td>0.636664</td>\n",
       "      <td>1.607724</td>\n",
       "      <td>0.999514</td>\n",
       "      <td>4.629827</td>\n",
       "      <td>3.602200</td>\n",
       "      <td>...</td>\n",
       "      <td>0.249800</td>\n",
       "      <td>0.455640</td>\n",
       "      <td>2.455481</td>\n",
       "      <td>0.497214</td>\n",
       "      <td>1.267249</td>\n",
       "      <td>0.638537</td>\n",
       "      <td>1.224463</td>\n",
       "      <td>1.074563</td>\n",
       "      <td>1.278782</td>\n",
       "      <td>1.114466</td>\n",
       "    </tr>\n",
       "    <tr>\n",
       "      <th>1759Girl</th>\n",
       "      <td>3.456786</td>\n",
       "      <td>6.079848</td>\n",
       "      <td>3.810684</td>\n",
       "      <td>5.960914</td>\n",
       "      <td>0.727760</td>\n",
       "      <td>0.797255</td>\n",
       "      <td>3.910406</td>\n",
       "      <td>3.091209</td>\n",
       "      <td>13.289385</td>\n",
       "      <td>12.312925</td>\n",
       "      <td>...</td>\n",
       "      <td>1.068464</td>\n",
       "      <td>2.729279</td>\n",
       "      <td>5.093816</td>\n",
       "      <td>1.414110</td>\n",
       "      <td>1.767874</td>\n",
       "      <td>1.776554</td>\n",
       "      <td>1.428777</td>\n",
       "      <td>1.790073</td>\n",
       "      <td>3.636413</td>\n",
       "      <td>2.018674</td>\n",
       "    </tr>\n",
       "    <tr>\n",
       "      <th>1fastz28</th>\n",
       "      <td>4.673565</td>\n",
       "      <td>0.000000</td>\n",
       "      <td>4.608767</td>\n",
       "      <td>0.000000</td>\n",
       "      <td>2.502237</td>\n",
       "      <td>2.303899</td>\n",
       "      <td>6.854866</td>\n",
       "      <td>5.906428</td>\n",
       "      <td>15.945582</td>\n",
       "      <td>10.828255</td>\n",
       "      <td>...</td>\n",
       "      <td>1.419654</td>\n",
       "      <td>1.358074</td>\n",
       "      <td>5.032394</td>\n",
       "      <td>1.755833</td>\n",
       "      <td>1.090310</td>\n",
       "      <td>1.286546</td>\n",
       "      <td>2.140551</td>\n",
       "      <td>1.688403</td>\n",
       "      <td>3.134239</td>\n",
       "      <td>3.291982</td>\n",
       "    </tr>\n",
       "  </tbody>\n",
       "</table>\n",
       "<p>5 rows × 2028 columns</p>\n",
       "</div>"
      ],
      "text/plain": [
       "beer_beerid            5         6         7         10        14     \\\n",
       "review_profilename                                                     \n",
       "0110x011            0.545127  1.876867  1.894164  2.069622  0.285340   \n",
       "05Harley            2.219657  4.500051  3.050255  5.314040  0.846822   \n",
       "100floods           0.371398  1.868938  0.764494  2.335213  0.551755   \n",
       "1759Girl            3.456786  6.079848  3.810684  5.960914  0.727760   \n",
       "1fastz28            4.673565  0.000000  4.608767  0.000000  2.502237   \n",
       "\n",
       "beer_beerid            15        17        19         30         31     \\\n",
       "review_profilename                                                       \n",
       "0110x011            0.583800  2.355692  1.408548   7.238795   2.709046   \n",
       "05Harley            1.602969  3.326802  1.979786   9.228832   5.299144   \n",
       "100floods           0.636664  1.607724  0.999514   4.629827   3.602200   \n",
       "1759Girl            0.797255  3.910406  3.091209  13.289385  12.312925   \n",
       "1fastz28            2.303899  6.854866  5.906428  15.945582  10.828255   \n",
       "\n",
       "beer_beerid           ...        71919     71969     72138     73131  \\\n",
       "review_profilename    ...                                              \n",
       "0110x011              ...     0.895309  2.041688  4.111709  1.591550   \n",
       "05Harley              ...     2.164857  3.526223  7.408061  0.853167   \n",
       "100floods             ...     0.249800  0.455640  2.455481  0.497214   \n",
       "1759Girl              ...     1.068464  2.729279  5.093816  1.414110   \n",
       "1fastz28              ...     1.419654  1.358074  5.032394  1.755833   \n",
       "\n",
       "beer_beerid            74123     74272     74323     74390     74986     75086  \n",
       "review_profilename                                                              \n",
       "0110x011            0.228248  0.318341  0.463136  0.419066  3.329494  1.294895  \n",
       "05Harley            0.499701  2.003223  2.212483  1.623683  5.596789  3.186545  \n",
       "100floods           1.267249  0.638537  1.224463  1.074563  1.278782  1.114466  \n",
       "1759Girl            1.767874  1.776554  1.428777  1.790073  3.636413  2.018674  \n",
       "1fastz28            1.090310  1.286546  2.140551  1.688403  3.134239  3.291982  \n",
       "\n",
       "[5 rows x 2028 columns]"
      ]
     },
     "execution_count": 58,
     "metadata": {},
     "output_type": "execute_result"
    }
   ],
   "source": [
    "user_final_rating = np.multiply(user_predicted_ratings,dummy_train)\n",
    "user_final_rating.head()"
   ]
  },
  {
   "cell_type": "markdown",
   "metadata": {},
   "source": [
    "### Finding co-relation between first 10 users"
   ]
  },
  {
   "cell_type": "code",
   "execution_count": 59,
   "metadata": {},
   "outputs": [
    {
     "data": {
      "text/plain": [
       "['0110x011',\n",
       " '05Harley',\n",
       " '100floods',\n",
       " '1759Girl',\n",
       " '1fastz28',\n",
       " '32hoss32',\n",
       " '3Vandoo',\n",
       " '4000qtrap',\n",
       " '4DAloveofSTOUT',\n",
       " '51mmz0rz']"
      ]
     },
     "execution_count": 59,
     "metadata": {},
     "output_type": "execute_result"
    }
   ],
   "source": [
    "top_users = user_correlation[:10, :10]\n",
    "top_users_list = list(beer_features.index[:10])\n",
    "top_users_list"
   ]
  },
  {
   "cell_type": "code",
   "execution_count": 60,
   "metadata": {},
   "outputs": [],
   "source": [
    "# Creating a dataframe using above matrix and list of indexes\n",
    "top_users_df = pd.DataFrame(top_users, columns=top_users_list, index =top_users_list )"
   ]
  },
  {
   "cell_type": "code",
   "execution_count": 61,
   "metadata": {},
   "outputs": [
    {
     "data": {
      "text/html": [
       "<style  type=\"text/css\" >\n",
       "    #T_ce3ba1b4_ac3d_11e9_936b_48a472e57715row0_col0 {\n",
       "            background-color:  #081d58;\n",
       "        }    #T_ce3ba1b4_ac3d_11e9_936b_48a472e57715row0_col1 {\n",
       "            background-color:  #feffd6;\n",
       "        }    #T_ce3ba1b4_ac3d_11e9_936b_48a472e57715row0_col2 {\n",
       "            background-color:  #feffd8;\n",
       "        }    #T_ce3ba1b4_ac3d_11e9_936b_48a472e57715row0_col3 {\n",
       "            background-color:  #feffd8;\n",
       "        }    #T_ce3ba1b4_ac3d_11e9_936b_48a472e57715row0_col4 {\n",
       "            background-color:  #feffd6;\n",
       "        }    #T_ce3ba1b4_ac3d_11e9_936b_48a472e57715row0_col5 {\n",
       "            background-color:  #feffd8;\n",
       "        }    #T_ce3ba1b4_ac3d_11e9_936b_48a472e57715row0_col6 {\n",
       "            background-color:  #feffd8;\n",
       "        }    #T_ce3ba1b4_ac3d_11e9_936b_48a472e57715row0_col7 {\n",
       "            background-color:  #feffd8;\n",
       "        }    #T_ce3ba1b4_ac3d_11e9_936b_48a472e57715row0_col8 {\n",
       "            background-color:  #fdfed5;\n",
       "        }    #T_ce3ba1b4_ac3d_11e9_936b_48a472e57715row0_col9 {\n",
       "            background-color:  #fdfed4;\n",
       "        }    #T_ce3ba1b4_ac3d_11e9_936b_48a472e57715row1_col0 {\n",
       "            background-color:  #ffffd9;\n",
       "        }    #T_ce3ba1b4_ac3d_11e9_936b_48a472e57715row1_col1 {\n",
       "            background-color:  #081d58;\n",
       "        }    #T_ce3ba1b4_ac3d_11e9_936b_48a472e57715row1_col2 {\n",
       "            background-color:  #ffffd9;\n",
       "        }    #T_ce3ba1b4_ac3d_11e9_936b_48a472e57715row1_col3 {\n",
       "            background-color:  #fbfdd0;\n",
       "        }    #T_ce3ba1b4_ac3d_11e9_936b_48a472e57715row1_col4 {\n",
       "            background-color:  #feffd8;\n",
       "        }    #T_ce3ba1b4_ac3d_11e9_936b_48a472e57715row1_col5 {\n",
       "            background-color:  #ffffd9;\n",
       "        }    #T_ce3ba1b4_ac3d_11e9_936b_48a472e57715row1_col6 {\n",
       "            background-color:  #ffffd9;\n",
       "        }    #T_ce3ba1b4_ac3d_11e9_936b_48a472e57715row1_col7 {\n",
       "            background-color:  #ffffd9;\n",
       "        }    #T_ce3ba1b4_ac3d_11e9_936b_48a472e57715row1_col8 {\n",
       "            background-color:  #f2fabc;\n",
       "        }    #T_ce3ba1b4_ac3d_11e9_936b_48a472e57715row1_col9 {\n",
       "            background-color:  #ffffd9;\n",
       "        }    #T_ce3ba1b4_ac3d_11e9_936b_48a472e57715row2_col0 {\n",
       "            background-color:  #ffffd9;\n",
       "        }    #T_ce3ba1b4_ac3d_11e9_936b_48a472e57715row2_col1 {\n",
       "            background-color:  #ffffd9;\n",
       "        }    #T_ce3ba1b4_ac3d_11e9_936b_48a472e57715row2_col2 {\n",
       "            background-color:  #081d58;\n",
       "        }    #T_ce3ba1b4_ac3d_11e9_936b_48a472e57715row2_col3 {\n",
       "            background-color:  #ffffd9;\n",
       "        }    #T_ce3ba1b4_ac3d_11e9_936b_48a472e57715row2_col4 {\n",
       "            background-color:  #f6fbc5;\n",
       "        }    #T_ce3ba1b4_ac3d_11e9_936b_48a472e57715row2_col5 {\n",
       "            background-color:  #ffffd9;\n",
       "        }    #T_ce3ba1b4_ac3d_11e9_936b_48a472e57715row2_col6 {\n",
       "            background-color:  #f2fabc;\n",
       "        }    #T_ce3ba1b4_ac3d_11e9_936b_48a472e57715row2_col7 {\n",
       "            background-color:  #ffffd9;\n",
       "        }    #T_ce3ba1b4_ac3d_11e9_936b_48a472e57715row2_col8 {\n",
       "            background-color:  #feffd8;\n",
       "        }    #T_ce3ba1b4_ac3d_11e9_936b_48a472e57715row2_col9 {\n",
       "            background-color:  #ffffd9;\n",
       "        }    #T_ce3ba1b4_ac3d_11e9_936b_48a472e57715row3_col0 {\n",
       "            background-color:  #feffd8;\n",
       "        }    #T_ce3ba1b4_ac3d_11e9_936b_48a472e57715row3_col1 {\n",
       "            background-color:  #fbfdd0;\n",
       "        }    #T_ce3ba1b4_ac3d_11e9_936b_48a472e57715row3_col2 {\n",
       "            background-color:  #ffffd9;\n",
       "        }    #T_ce3ba1b4_ac3d_11e9_936b_48a472e57715row3_col3 {\n",
       "            background-color:  #081d58;\n",
       "        }    #T_ce3ba1b4_ac3d_11e9_936b_48a472e57715row3_col4 {\n",
       "            background-color:  #fbfdd0;\n",
       "        }    #T_ce3ba1b4_ac3d_11e9_936b_48a472e57715row3_col5 {\n",
       "            background-color:  #feffd8;\n",
       "        }    #T_ce3ba1b4_ac3d_11e9_936b_48a472e57715row3_col6 {\n",
       "            background-color:  #ffffd9;\n",
       "        }    #T_ce3ba1b4_ac3d_11e9_936b_48a472e57715row3_col7 {\n",
       "            background-color:  #fdfed5;\n",
       "        }    #T_ce3ba1b4_ac3d_11e9_936b_48a472e57715row3_col8 {\n",
       "            background-color:  #feffd6;\n",
       "        }    #T_ce3ba1b4_ac3d_11e9_936b_48a472e57715row3_col9 {\n",
       "            background-color:  #feffd8;\n",
       "        }    #T_ce3ba1b4_ac3d_11e9_936b_48a472e57715row4_col0 {\n",
       "            background-color:  #ffffd9;\n",
       "        }    #T_ce3ba1b4_ac3d_11e9_936b_48a472e57715row4_col1 {\n",
       "            background-color:  #ffffd9;\n",
       "        }    #T_ce3ba1b4_ac3d_11e9_936b_48a472e57715row4_col2 {\n",
       "            background-color:  #f7fcc6;\n",
       "        }    #T_ce3ba1b4_ac3d_11e9_936b_48a472e57715row4_col3 {\n",
       "            background-color:  #fcfed3;\n",
       "        }    #T_ce3ba1b4_ac3d_11e9_936b_48a472e57715row4_col4 {\n",
       "            background-color:  #081d58;\n",
       "        }    #T_ce3ba1b4_ac3d_11e9_936b_48a472e57715row4_col5 {\n",
       "            background-color:  #f4fbc1;\n",
       "        }    #T_ce3ba1b4_ac3d_11e9_936b_48a472e57715row4_col6 {\n",
       "            background-color:  #fdfed4;\n",
       "        }    #T_ce3ba1b4_ac3d_11e9_936b_48a472e57715row4_col7 {\n",
       "            background-color:  #feffd6;\n",
       "        }    #T_ce3ba1b4_ac3d_11e9_936b_48a472e57715row4_col8 {\n",
       "            background-color:  #ffffd9;\n",
       "        }    #T_ce3ba1b4_ac3d_11e9_936b_48a472e57715row4_col9 {\n",
       "            background-color:  #fdfed5;\n",
       "        }    #T_ce3ba1b4_ac3d_11e9_936b_48a472e57715row5_col0 {\n",
       "            background-color:  #feffd8;\n",
       "        }    #T_ce3ba1b4_ac3d_11e9_936b_48a472e57715row5_col1 {\n",
       "            background-color:  #feffd8;\n",
       "        }    #T_ce3ba1b4_ac3d_11e9_936b_48a472e57715row5_col2 {\n",
       "            background-color:  #ffffd9;\n",
       "        }    #T_ce3ba1b4_ac3d_11e9_936b_48a472e57715row5_col3 {\n",
       "            background-color:  #feffd8;\n",
       "        }    #T_ce3ba1b4_ac3d_11e9_936b_48a472e57715row5_col4 {\n",
       "            background-color:  #f3fabf;\n",
       "        }    #T_ce3ba1b4_ac3d_11e9_936b_48a472e57715row5_col5 {\n",
       "            background-color:  #081d58;\n",
       "        }    #T_ce3ba1b4_ac3d_11e9_936b_48a472e57715row5_col6 {\n",
       "            background-color:  #ffffd9;\n",
       "        }    #T_ce3ba1b4_ac3d_11e9_936b_48a472e57715row5_col7 {\n",
       "            background-color:  #feffd8;\n",
       "        }    #T_ce3ba1b4_ac3d_11e9_936b_48a472e57715row5_col8 {\n",
       "            background-color:  #feffd6;\n",
       "        }    #T_ce3ba1b4_ac3d_11e9_936b_48a472e57715row5_col9 {\n",
       "            background-color:  #feffd8;\n",
       "        }    #T_ce3ba1b4_ac3d_11e9_936b_48a472e57715row6_col0 {\n",
       "            background-color:  #ffffd9;\n",
       "        }    #T_ce3ba1b4_ac3d_11e9_936b_48a472e57715row6_col1 {\n",
       "            background-color:  #ffffd9;\n",
       "        }    #T_ce3ba1b4_ac3d_11e9_936b_48a472e57715row6_col2 {\n",
       "            background-color:  #f2fabc;\n",
       "        }    #T_ce3ba1b4_ac3d_11e9_936b_48a472e57715row6_col3 {\n",
       "            background-color:  #ffffd9;\n",
       "        }    #T_ce3ba1b4_ac3d_11e9_936b_48a472e57715row6_col4 {\n",
       "            background-color:  #fcfed1;\n",
       "        }    #T_ce3ba1b4_ac3d_11e9_936b_48a472e57715row6_col5 {\n",
       "            background-color:  #ffffd9;\n",
       "        }    #T_ce3ba1b4_ac3d_11e9_936b_48a472e57715row6_col6 {\n",
       "            background-color:  #081d58;\n",
       "        }    #T_ce3ba1b4_ac3d_11e9_936b_48a472e57715row6_col7 {\n",
       "            background-color:  #ffffd9;\n",
       "        }    #T_ce3ba1b4_ac3d_11e9_936b_48a472e57715row6_col8 {\n",
       "            background-color:  #feffd8;\n",
       "        }    #T_ce3ba1b4_ac3d_11e9_936b_48a472e57715row6_col9 {\n",
       "            background-color:  #ffffd9;\n",
       "        }    #T_ce3ba1b4_ac3d_11e9_936b_48a472e57715row7_col0 {\n",
       "            background-color:  #feffd8;\n",
       "        }    #T_ce3ba1b4_ac3d_11e9_936b_48a472e57715row7_col1 {\n",
       "            background-color:  #feffd8;\n",
       "        }    #T_ce3ba1b4_ac3d_11e9_936b_48a472e57715row7_col2 {\n",
       "            background-color:  #feffd8;\n",
       "        }    #T_ce3ba1b4_ac3d_11e9_936b_48a472e57715row7_col3 {\n",
       "            background-color:  #fdfed4;\n",
       "        }    #T_ce3ba1b4_ac3d_11e9_936b_48a472e57715row7_col4 {\n",
       "            background-color:  #fcfed3;\n",
       "        }    #T_ce3ba1b4_ac3d_11e9_936b_48a472e57715row7_col5 {\n",
       "            background-color:  #feffd8;\n",
       "        }    #T_ce3ba1b4_ac3d_11e9_936b_48a472e57715row7_col6 {\n",
       "            background-color:  #feffd8;\n",
       "        }    #T_ce3ba1b4_ac3d_11e9_936b_48a472e57715row7_col7 {\n",
       "            background-color:  #081d58;\n",
       "        }    #T_ce3ba1b4_ac3d_11e9_936b_48a472e57715row7_col8 {\n",
       "            background-color:  #fdfed4;\n",
       "        }    #T_ce3ba1b4_ac3d_11e9_936b_48a472e57715row7_col9 {\n",
       "            background-color:  #feffd8;\n",
       "        }    #T_ce3ba1b4_ac3d_11e9_936b_48a472e57715row8_col0 {\n",
       "            background-color:  #feffd8;\n",
       "        }    #T_ce3ba1b4_ac3d_11e9_936b_48a472e57715row8_col1 {\n",
       "            background-color:  #f3fabd;\n",
       "        }    #T_ce3ba1b4_ac3d_11e9_936b_48a472e57715row8_col2 {\n",
       "            background-color:  #ffffd9;\n",
       "        }    #T_ce3ba1b4_ac3d_11e9_936b_48a472e57715row8_col3 {\n",
       "            background-color:  #feffd8;\n",
       "        }    #T_ce3ba1b4_ac3d_11e9_936b_48a472e57715row8_col4 {\n",
       "            background-color:  #ffffd9;\n",
       "        }    #T_ce3ba1b4_ac3d_11e9_936b_48a472e57715row8_col5 {\n",
       "            background-color:  #ffffd9;\n",
       "        }    #T_ce3ba1b4_ac3d_11e9_936b_48a472e57715row8_col6 {\n",
       "            background-color:  #ffffd9;\n",
       "        }    #T_ce3ba1b4_ac3d_11e9_936b_48a472e57715row8_col7 {\n",
       "            background-color:  #feffd6;\n",
       "        }    #T_ce3ba1b4_ac3d_11e9_936b_48a472e57715row8_col8 {\n",
       "            background-color:  #081d58;\n",
       "        }    #T_ce3ba1b4_ac3d_11e9_936b_48a472e57715row8_col9 {\n",
       "            background-color:  #ffffd9;\n",
       "        }    #T_ce3ba1b4_ac3d_11e9_936b_48a472e57715row9_col0 {\n",
       "            background-color:  #fdfed4;\n",
       "        }    #T_ce3ba1b4_ac3d_11e9_936b_48a472e57715row9_col1 {\n",
       "            background-color:  #feffd8;\n",
       "        }    #T_ce3ba1b4_ac3d_11e9_936b_48a472e57715row9_col2 {\n",
       "            background-color:  #feffd8;\n",
       "        }    #T_ce3ba1b4_ac3d_11e9_936b_48a472e57715row9_col3 {\n",
       "            background-color:  #feffd8;\n",
       "        }    #T_ce3ba1b4_ac3d_11e9_936b_48a472e57715row9_col4 {\n",
       "            background-color:  #fcfed3;\n",
       "        }    #T_ce3ba1b4_ac3d_11e9_936b_48a472e57715row9_col5 {\n",
       "            background-color:  #feffd8;\n",
       "        }    #T_ce3ba1b4_ac3d_11e9_936b_48a472e57715row9_col6 {\n",
       "            background-color:  #feffd8;\n",
       "        }    #T_ce3ba1b4_ac3d_11e9_936b_48a472e57715row9_col7 {\n",
       "            background-color:  #feffd8;\n",
       "        }    #T_ce3ba1b4_ac3d_11e9_936b_48a472e57715row9_col8 {\n",
       "            background-color:  #fdfed5;\n",
       "        }    #T_ce3ba1b4_ac3d_11e9_936b_48a472e57715row9_col9 {\n",
       "            background-color:  #081d58;\n",
       "        }</style>  \n",
       "<table id=\"T_ce3ba1b4_ac3d_11e9_936b_48a472e57715\" > \n",
       "<thead>    <tr> \n",
       "        <th class=\"blank level0\" ></th> \n",
       "        <th class=\"col_heading level0 col0\" >0110x011</th> \n",
       "        <th class=\"col_heading level0 col1\" >05Harley</th> \n",
       "        <th class=\"col_heading level0 col2\" >100floods</th> \n",
       "        <th class=\"col_heading level0 col3\" >1759Girl</th> \n",
       "        <th class=\"col_heading level0 col4\" >1fastz28</th> \n",
       "        <th class=\"col_heading level0 col5\" >32hoss32</th> \n",
       "        <th class=\"col_heading level0 col6\" >3Vandoo</th> \n",
       "        <th class=\"col_heading level0 col7\" >4000qtrap</th> \n",
       "        <th class=\"col_heading level0 col8\" >4DAloveofSTOUT</th> \n",
       "        <th class=\"col_heading level0 col9\" >51mmz0rz</th> \n",
       "    </tr></thead> \n",
       "<tbody>    <tr> \n",
       "        <th id=\"T_ce3ba1b4_ac3d_11e9_936b_48a472e57715level0_row0\" class=\"row_heading level0 row0\" >0110x011</th> \n",
       "        <td id=\"T_ce3ba1b4_ac3d_11e9_936b_48a472e57715row0_col0\" class=\"data row0 col0\" >1</td> \n",
       "        <td id=\"T_ce3ba1b4_ac3d_11e9_936b_48a472e57715row0_col1\" class=\"data row0 col1\" >-0.119301</td> \n",
       "        <td id=\"T_ce3ba1b4_ac3d_11e9_936b_48a472e57715row0_col2\" class=\"data row0 col2\" >-0.121956</td> \n",
       "        <td id=\"T_ce3ba1b4_ac3d_11e9_936b_48a472e57715row0_col3\" class=\"data row0 col3\" >-0.115985</td> \n",
       "        <td id=\"T_ce3ba1b4_ac3d_11e9_936b_48a472e57715row0_col4\" class=\"data row0 col4\" >-0.122369</td> \n",
       "        <td id=\"T_ce3ba1b4_ac3d_11e9_936b_48a472e57715row0_col5\" class=\"data row0 col5\" >-0.117069</td> \n",
       "        <td id=\"T_ce3ba1b4_ac3d_11e9_936b_48a472e57715row0_col6\" class=\"data row0 col6\" >-0.119346</td> \n",
       "        <td id=\"T_ce3ba1b4_ac3d_11e9_936b_48a472e57715row0_col7\" class=\"data row0 col7\" >-0.114095</td> \n",
       "        <td id=\"T_ce3ba1b4_ac3d_11e9_936b_48a472e57715row0_col8\" class=\"data row0 col8\" >-0.117739</td> \n",
       "        <td id=\"T_ce3ba1b4_ac3d_11e9_936b_48a472e57715row0_col9\" class=\"data row0 col9\" >-0.101632</td> \n",
       "    </tr>    <tr> \n",
       "        <th id=\"T_ce3ba1b4_ac3d_11e9_936b_48a472e57715level0_row1\" class=\"row_heading level0 row1\" >05Harley</th> \n",
       "        <td id=\"T_ce3ba1b4_ac3d_11e9_936b_48a472e57715row1_col0\" class=\"data row1 col0\" >-0.119301</td> \n",
       "        <td id=\"T_ce3ba1b4_ac3d_11e9_936b_48a472e57715row1_col1\" class=\"data row1 col1\" >1</td> \n",
       "        <td id=\"T_ce3ba1b4_ac3d_11e9_936b_48a472e57715row1_col2\" class=\"data row1 col2\" >-0.128644</td> \n",
       "        <td id=\"T_ce3ba1b4_ac3d_11e9_936b_48a472e57715row1_col3\" class=\"data row1 col3\" >-0.0938335</td> \n",
       "        <td id=\"T_ce3ba1b4_ac3d_11e9_936b_48a472e57715row1_col4\" class=\"data row1 col4\" >-0.127551</td> \n",
       "        <td id=\"T_ce3ba1b4_ac3d_11e9_936b_48a472e57715row1_col5\" class=\"data row1 col5\" >-0.123483</td> \n",
       "        <td id=\"T_ce3ba1b4_ac3d_11e9_936b_48a472e57715row1_col6\" class=\"data row1 col6\" >-0.125906</td> \n",
       "        <td id=\"T_ce3ba1b4_ac3d_11e9_936b_48a472e57715row1_col7\" class=\"data row1 col7\" >-0.120141</td> \n",
       "        <td id=\"T_ce3ba1b4_ac3d_11e9_936b_48a472e57715row1_col8\" class=\"data row1 col8\" >-0.0288542</td> \n",
       "        <td id=\"T_ce3ba1b4_ac3d_11e9_936b_48a472e57715row1_col9\" class=\"data row1 col9\" >-0.120183</td> \n",
       "    </tr>    <tr> \n",
       "        <th id=\"T_ce3ba1b4_ac3d_11e9_936b_48a472e57715level0_row2\" class=\"row_heading level0 row2\" >100floods</th> \n",
       "        <td id=\"T_ce3ba1b4_ac3d_11e9_936b_48a472e57715row2_col0\" class=\"data row2 col0\" >-0.121956</td> \n",
       "        <td id=\"T_ce3ba1b4_ac3d_11e9_936b_48a472e57715row2_col1\" class=\"data row2 col1\" >-0.128644</td> \n",
       "        <td id=\"T_ce3ba1b4_ac3d_11e9_936b_48a472e57715row2_col2\" class=\"data row2 col2\" >1</td> \n",
       "        <td id=\"T_ce3ba1b4_ac3d_11e9_936b_48a472e57715row2_col3\" class=\"data row2 col3\" >-0.124666</td> \n",
       "        <td id=\"T_ce3ba1b4_ac3d_11e9_936b_48a472e57715row2_col4\" class=\"data row2 col4\" >-0.0593097</td> \n",
       "        <td id=\"T_ce3ba1b4_ac3d_11e9_936b_48a472e57715row2_col5\" class=\"data row2 col5\" >-0.124867</td> \n",
       "        <td id=\"T_ce3ba1b4_ac3d_11e9_936b_48a472e57715row2_col6\" class=\"data row2 col6\" >-0.0242862</td> \n",
       "        <td id=\"T_ce3ba1b4_ac3d_11e9_936b_48a472e57715row2_col7\" class=\"data row2 col7\" >-0.122843</td> \n",
       "        <td id=\"T_ce3ba1b4_ac3d_11e9_936b_48a472e57715row2_col8\" class=\"data row2 col8\" >-0.127072</td> \n",
       "        <td id=\"T_ce3ba1b4_ac3d_11e9_936b_48a472e57715row2_col9\" class=\"data row2 col9\" >-0.122616</td> \n",
       "    </tr>    <tr> \n",
       "        <th id=\"T_ce3ba1b4_ac3d_11e9_936b_48a472e57715level0_row3\" class=\"row_heading level0 row3\" >1759Girl</th> \n",
       "        <td id=\"T_ce3ba1b4_ac3d_11e9_936b_48a472e57715row3_col0\" class=\"data row3 col0\" >-0.115985</td> \n",
       "        <td id=\"T_ce3ba1b4_ac3d_11e9_936b_48a472e57715row3_col1\" class=\"data row3 col1\" >-0.0938335</td> \n",
       "        <td id=\"T_ce3ba1b4_ac3d_11e9_936b_48a472e57715row3_col2\" class=\"data row3 col2\" >-0.124666</td> \n",
       "        <td id=\"T_ce3ba1b4_ac3d_11e9_936b_48a472e57715row3_col3\" class=\"data row3 col3\" >1</td> \n",
       "        <td id=\"T_ce3ba1b4_ac3d_11e9_936b_48a472e57715row3_col4\" class=\"data row3 col4\" >-0.0987412</td> \n",
       "        <td id=\"T_ce3ba1b4_ac3d_11e9_936b_48a472e57715row3_col5\" class=\"data row3 col5\" >-0.119561</td> \n",
       "        <td id=\"T_ce3ba1b4_ac3d_11e9_936b_48a472e57715row3_col6\" class=\"data row3 col6\" >-0.122276</td> \n",
       "        <td id=\"T_ce3ba1b4_ac3d_11e9_936b_48a472e57715row3_col7\" class=\"data row3 col7\" >-0.106889</td> \n",
       "        <td id=\"T_ce3ba1b4_ac3d_11e9_936b_48a472e57715row3_col8\" class=\"data row3 col8\" >-0.120176</td> \n",
       "        <td id=\"T_ce3ba1b4_ac3d_11e9_936b_48a472e57715row3_col9\" class=\"data row3 col9\" >-0.116756</td> \n",
       "    </tr>    <tr> \n",
       "        <th id=\"T_ce3ba1b4_ac3d_11e9_936b_48a472e57715level0_row4\" class=\"row_heading level0 row4\" >1fastz28</th> \n",
       "        <td id=\"T_ce3ba1b4_ac3d_11e9_936b_48a472e57715row4_col0\" class=\"data row4 col0\" >-0.122369</td> \n",
       "        <td id=\"T_ce3ba1b4_ac3d_11e9_936b_48a472e57715row4_col1\" class=\"data row4 col1\" >-0.127551</td> \n",
       "        <td id=\"T_ce3ba1b4_ac3d_11e9_936b_48a472e57715row4_col2\" class=\"data row4 col2\" >-0.0593097</td> \n",
       "        <td id=\"T_ce3ba1b4_ac3d_11e9_936b_48a472e57715row4_col3\" class=\"data row4 col3\" >-0.0987412</td> \n",
       "        <td id=\"T_ce3ba1b4_ac3d_11e9_936b_48a472e57715row4_col4\" class=\"data row4 col4\" >1</td> \n",
       "        <td id=\"T_ce3ba1b4_ac3d_11e9_936b_48a472e57715row4_col5\" class=\"data row4 col5\" >-0.038866</td> \n",
       "        <td id=\"T_ce3ba1b4_ac3d_11e9_936b_48a472e57715row4_col6\" class=\"data row4 col6\" >-0.103993</td> \n",
       "        <td id=\"T_ce3ba1b4_ac3d_11e9_936b_48a472e57715row4_col7\" class=\"data row4 col7\" >-0.110283</td> \n",
       "        <td id=\"T_ce3ba1b4_ac3d_11e9_936b_48a472e57715row4_col8\" class=\"data row4 col8\" >-0.133036</td> \n",
       "        <td id=\"T_ce3ba1b4_ac3d_11e9_936b_48a472e57715row4_col9\" class=\"data row4 col9\" >-0.107775</td> \n",
       "    </tr>    <tr> \n",
       "        <th id=\"T_ce3ba1b4_ac3d_11e9_936b_48a472e57715level0_row5\" class=\"row_heading level0 row5\" >32hoss32</th> \n",
       "        <td id=\"T_ce3ba1b4_ac3d_11e9_936b_48a472e57715row5_col0\" class=\"data row5 col0\" >-0.117069</td> \n",
       "        <td id=\"T_ce3ba1b4_ac3d_11e9_936b_48a472e57715row5_col1\" class=\"data row5 col1\" >-0.123483</td> \n",
       "        <td id=\"T_ce3ba1b4_ac3d_11e9_936b_48a472e57715row5_col2\" class=\"data row5 col2\" >-0.124867</td> \n",
       "        <td id=\"T_ce3ba1b4_ac3d_11e9_936b_48a472e57715row5_col3\" class=\"data row5 col3\" >-0.119561</td> \n",
       "        <td id=\"T_ce3ba1b4_ac3d_11e9_936b_48a472e57715row5_col4\" class=\"data row5 col4\" >-0.038866</td> \n",
       "        <td id=\"T_ce3ba1b4_ac3d_11e9_936b_48a472e57715row5_col5\" class=\"data row5 col5\" >1</td> \n",
       "        <td id=\"T_ce3ba1b4_ac3d_11e9_936b_48a472e57715row5_col6\" class=\"data row5 col6\" >-0.123105</td> \n",
       "        <td id=\"T_ce3ba1b4_ac3d_11e9_936b_48a472e57715row5_col7\" class=\"data row5 col7\" >-0.117866</td> \n",
       "        <td id=\"T_ce3ba1b4_ac3d_11e9_936b_48a472e57715row5_col8\" class=\"data row5 col8\" >-0.122004</td> \n",
       "        <td id=\"T_ce3ba1b4_ac3d_11e9_936b_48a472e57715row5_col9\" class=\"data row5 col9\" >-0.117639</td> \n",
       "    </tr>    <tr> \n",
       "        <th id=\"T_ce3ba1b4_ac3d_11e9_936b_48a472e57715level0_row6\" class=\"row_heading level0 row6\" >3Vandoo</th> \n",
       "        <td id=\"T_ce3ba1b4_ac3d_11e9_936b_48a472e57715row6_col0\" class=\"data row6 col0\" >-0.119346</td> \n",
       "        <td id=\"T_ce3ba1b4_ac3d_11e9_936b_48a472e57715row6_col1\" class=\"data row6 col1\" >-0.125906</td> \n",
       "        <td id=\"T_ce3ba1b4_ac3d_11e9_936b_48a472e57715row6_col2\" class=\"data row6 col2\" >-0.0242862</td> \n",
       "        <td id=\"T_ce3ba1b4_ac3d_11e9_936b_48a472e57715row6_col3\" class=\"data row6 col3\" >-0.122276</td> \n",
       "        <td id=\"T_ce3ba1b4_ac3d_11e9_936b_48a472e57715row6_col4\" class=\"data row6 col4\" >-0.103993</td> \n",
       "        <td id=\"T_ce3ba1b4_ac3d_11e9_936b_48a472e57715row6_col5\" class=\"data row6 col5\" >-0.123105</td> \n",
       "        <td id=\"T_ce3ba1b4_ac3d_11e9_936b_48a472e57715row6_col6\" class=\"data row6 col6\" >1</td> \n",
       "        <td id=\"T_ce3ba1b4_ac3d_11e9_936b_48a472e57715row6_col7\" class=\"data row6 col7\" >-0.120351</td> \n",
       "        <td id=\"T_ce3ba1b4_ac3d_11e9_936b_48a472e57715row6_col8\" class=\"data row6 col8\" >-0.124294</td> \n",
       "        <td id=\"T_ce3ba1b4_ac3d_11e9_936b_48a472e57715row6_col9\" class=\"data row6 col9\" >-0.120154</td> \n",
       "    </tr>    <tr> \n",
       "        <th id=\"T_ce3ba1b4_ac3d_11e9_936b_48a472e57715level0_row7\" class=\"row_heading level0 row7\" >4000qtrap</th> \n",
       "        <td id=\"T_ce3ba1b4_ac3d_11e9_936b_48a472e57715row7_col0\" class=\"data row7 col0\" >-0.114095</td> \n",
       "        <td id=\"T_ce3ba1b4_ac3d_11e9_936b_48a472e57715row7_col1\" class=\"data row7 col1\" >-0.120141</td> \n",
       "        <td id=\"T_ce3ba1b4_ac3d_11e9_936b_48a472e57715row7_col2\" class=\"data row7 col2\" >-0.122843</td> \n",
       "        <td id=\"T_ce3ba1b4_ac3d_11e9_936b_48a472e57715row7_col3\" class=\"data row7 col3\" >-0.106889</td> \n",
       "        <td id=\"T_ce3ba1b4_ac3d_11e9_936b_48a472e57715row7_col4\" class=\"data row7 col4\" >-0.110283</td> \n",
       "        <td id=\"T_ce3ba1b4_ac3d_11e9_936b_48a472e57715row7_col5\" class=\"data row7 col5\" >-0.117866</td> \n",
       "        <td id=\"T_ce3ba1b4_ac3d_11e9_936b_48a472e57715row7_col6\" class=\"data row7 col6\" >-0.120351</td> \n",
       "        <td id=\"T_ce3ba1b4_ac3d_11e9_936b_48a472e57715row7_col7\" class=\"data row7 col7\" >1</td> \n",
       "        <td id=\"T_ce3ba1b4_ac3d_11e9_936b_48a472e57715row7_col8\" class=\"data row7 col8\" >-0.111142</td> \n",
       "        <td id=\"T_ce3ba1b4_ac3d_11e9_936b_48a472e57715row7_col9\" class=\"data row7 col9\" >-0.114899</td> \n",
       "    </tr>    <tr> \n",
       "        <th id=\"T_ce3ba1b4_ac3d_11e9_936b_48a472e57715level0_row8\" class=\"row_heading level0 row8\" >4DAloveofSTOUT</th> \n",
       "        <td id=\"T_ce3ba1b4_ac3d_11e9_936b_48a472e57715row8_col0\" class=\"data row8 col0\" >-0.117739</td> \n",
       "        <td id=\"T_ce3ba1b4_ac3d_11e9_936b_48a472e57715row8_col1\" class=\"data row8 col1\" >-0.0288542</td> \n",
       "        <td id=\"T_ce3ba1b4_ac3d_11e9_936b_48a472e57715row8_col2\" class=\"data row8 col2\" >-0.127072</td> \n",
       "        <td id=\"T_ce3ba1b4_ac3d_11e9_936b_48a472e57715row8_col3\" class=\"data row8 col3\" >-0.120176</td> \n",
       "        <td id=\"T_ce3ba1b4_ac3d_11e9_936b_48a472e57715row8_col4\" class=\"data row8 col4\" >-0.133036</td> \n",
       "        <td id=\"T_ce3ba1b4_ac3d_11e9_936b_48a472e57715row8_col5\" class=\"data row8 col5\" >-0.122004</td> \n",
       "        <td id=\"T_ce3ba1b4_ac3d_11e9_936b_48a472e57715row8_col6\" class=\"data row8 col6\" >-0.124294</td> \n",
       "        <td id=\"T_ce3ba1b4_ac3d_11e9_936b_48a472e57715row8_col7\" class=\"data row8 col7\" >-0.111142</td> \n",
       "        <td id=\"T_ce3ba1b4_ac3d_11e9_936b_48a472e57715row8_col8\" class=\"data row8 col8\" >1</td> \n",
       "        <td id=\"T_ce3ba1b4_ac3d_11e9_936b_48a472e57715row8_col9\" class=\"data row8 col9\" >-0.118634</td> \n",
       "    </tr>    <tr> \n",
       "        <th id=\"T_ce3ba1b4_ac3d_11e9_936b_48a472e57715level0_row9\" class=\"row_heading level0 row9\" >51mmz0rz</th> \n",
       "        <td id=\"T_ce3ba1b4_ac3d_11e9_936b_48a472e57715row9_col0\" class=\"data row9 col0\" >-0.101632</td> \n",
       "        <td id=\"T_ce3ba1b4_ac3d_11e9_936b_48a472e57715row9_col1\" class=\"data row9 col1\" >-0.120183</td> \n",
       "        <td id=\"T_ce3ba1b4_ac3d_11e9_936b_48a472e57715row9_col2\" class=\"data row9 col2\" >-0.122616</td> \n",
       "        <td id=\"T_ce3ba1b4_ac3d_11e9_936b_48a472e57715row9_col3\" class=\"data row9 col3\" >-0.116756</td> \n",
       "        <td id=\"T_ce3ba1b4_ac3d_11e9_936b_48a472e57715row9_col4\" class=\"data row9 col4\" >-0.107775</td> \n",
       "        <td id=\"T_ce3ba1b4_ac3d_11e9_936b_48a472e57715row9_col5\" class=\"data row9 col5\" >-0.117639</td> \n",
       "        <td id=\"T_ce3ba1b4_ac3d_11e9_936b_48a472e57715row9_col6\" class=\"data row9 col6\" >-0.120154</td> \n",
       "        <td id=\"T_ce3ba1b4_ac3d_11e9_936b_48a472e57715row9_col7\" class=\"data row9 col7\" >-0.114899</td> \n",
       "        <td id=\"T_ce3ba1b4_ac3d_11e9_936b_48a472e57715row9_col8\" class=\"data row9 col8\" >-0.118634</td> \n",
       "        <td id=\"T_ce3ba1b4_ac3d_11e9_936b_48a472e57715row9_col9\" class=\"data row9 col9\" >1</td> \n",
       "    </tr></tbody> \n",
       "</table> "
      ],
      "text/plain": [
       "<pandas.io.formats.style.Styler at 0x1ee92139f60>"
      ]
     },
     "execution_count": 61,
     "metadata": {},
     "output_type": "execute_result"
    }
   ],
   "source": [
    "# Plotting co-relation matrix\n",
    "\n",
    "corr = top_users_df.corr()\n",
    "corr.style.background_gradient(cmap=\"YlGnBu\")"
   ]
  },
  {
   "cell_type": "markdown",
   "metadata": {},
   "source": [
    "Observation: There isnt much co-relation between first 10 users."
   ]
  },
  {
   "cell_type": "markdown",
   "metadata": {},
   "source": [
    "### Item Based Similarity"
   ]
  },
  {
   "cell_type": "markdown",
   "metadata": {},
   "source": [
    "Taking the transpose of the rating matrix to normalize the rating around the mean for different beer ID. In the user based similarity, we had taken mean for each user instead of each beer. "
   ]
  },
  {
   "cell_type": "code",
   "execution_count": 62,
   "metadata": {},
   "outputs": [
    {
     "data": {
      "text/html": [
       "<div>\n",
       "<style scoped>\n",
       "    .dataframe tbody tr th:only-of-type {\n",
       "        vertical-align: middle;\n",
       "    }\n",
       "\n",
       "    .dataframe tbody tr th {\n",
       "        vertical-align: top;\n",
       "    }\n",
       "\n",
       "    .dataframe thead th {\n",
       "        text-align: right;\n",
       "    }\n",
       "</style>\n",
       "<table border=\"1\" class=\"dataframe\">\n",
       "  <thead>\n",
       "    <tr style=\"text-align: right;\">\n",
       "      <th>review_profilename</th>\n",
       "      <th>0110x011</th>\n",
       "      <th>05Harley</th>\n",
       "      <th>100floods</th>\n",
       "      <th>1759Girl</th>\n",
       "      <th>1fastz28</th>\n",
       "      <th>32hoss32</th>\n",
       "      <th>3Vandoo</th>\n",
       "      <th>4000qtrap</th>\n",
       "      <th>4DAloveofSTOUT</th>\n",
       "      <th>51mmz0rz</th>\n",
       "      <th>...</th>\n",
       "      <th>zerk</th>\n",
       "      <th>zerofear13</th>\n",
       "      <th>zhanson88</th>\n",
       "      <th>zimm421</th>\n",
       "      <th>zjungleist</th>\n",
       "      <th>zoolzoo</th>\n",
       "      <th>zoso1967</th>\n",
       "      <th>zoso493</th>\n",
       "      <th>zrab11</th>\n",
       "      <th>zymurgy4all</th>\n",
       "    </tr>\n",
       "    <tr>\n",
       "      <th>beer_beerid</th>\n",
       "      <th></th>\n",
       "      <th></th>\n",
       "      <th></th>\n",
       "      <th></th>\n",
       "      <th></th>\n",
       "      <th></th>\n",
       "      <th></th>\n",
       "      <th></th>\n",
       "      <th></th>\n",
       "      <th></th>\n",
       "      <th></th>\n",
       "      <th></th>\n",
       "      <th></th>\n",
       "      <th></th>\n",
       "      <th></th>\n",
       "      <th></th>\n",
       "      <th></th>\n",
       "      <th></th>\n",
       "      <th></th>\n",
       "      <th></th>\n",
       "      <th></th>\n",
       "    </tr>\n",
       "  </thead>\n",
       "  <tbody>\n",
       "    <tr>\n",
       "      <th>5</th>\n",
       "      <td>NaN</td>\n",
       "      <td>NaN</td>\n",
       "      <td>NaN</td>\n",
       "      <td>NaN</td>\n",
       "      <td>NaN</td>\n",
       "      <td>NaN</td>\n",
       "      <td>NaN</td>\n",
       "      <td>NaN</td>\n",
       "      <td>NaN</td>\n",
       "      <td>NaN</td>\n",
       "      <td>...</td>\n",
       "      <td>NaN</td>\n",
       "      <td>NaN</td>\n",
       "      <td>NaN</td>\n",
       "      <td>NaN</td>\n",
       "      <td>NaN</td>\n",
       "      <td>NaN</td>\n",
       "      <td>NaN</td>\n",
       "      <td>NaN</td>\n",
       "      <td>NaN</td>\n",
       "      <td>NaN</td>\n",
       "    </tr>\n",
       "    <tr>\n",
       "      <th>6</th>\n",
       "      <td>NaN</td>\n",
       "      <td>NaN</td>\n",
       "      <td>NaN</td>\n",
       "      <td>NaN</td>\n",
       "      <td>3.5</td>\n",
       "      <td>NaN</td>\n",
       "      <td>NaN</td>\n",
       "      <td>NaN</td>\n",
       "      <td>NaN</td>\n",
       "      <td>NaN</td>\n",
       "      <td>...</td>\n",
       "      <td>NaN</td>\n",
       "      <td>NaN</td>\n",
       "      <td>NaN</td>\n",
       "      <td>NaN</td>\n",
       "      <td>NaN</td>\n",
       "      <td>NaN</td>\n",
       "      <td>NaN</td>\n",
       "      <td>NaN</td>\n",
       "      <td>NaN</td>\n",
       "      <td>NaN</td>\n",
       "    </tr>\n",
       "    <tr>\n",
       "      <th>7</th>\n",
       "      <td>NaN</td>\n",
       "      <td>NaN</td>\n",
       "      <td>NaN</td>\n",
       "      <td>NaN</td>\n",
       "      <td>NaN</td>\n",
       "      <td>NaN</td>\n",
       "      <td>NaN</td>\n",
       "      <td>NaN</td>\n",
       "      <td>NaN</td>\n",
       "      <td>NaN</td>\n",
       "      <td>...</td>\n",
       "      <td>NaN</td>\n",
       "      <td>3.0</td>\n",
       "      <td>NaN</td>\n",
       "      <td>NaN</td>\n",
       "      <td>NaN</td>\n",
       "      <td>NaN</td>\n",
       "      <td>NaN</td>\n",
       "      <td>NaN</td>\n",
       "      <td>NaN</td>\n",
       "      <td>NaN</td>\n",
       "    </tr>\n",
       "    <tr>\n",
       "      <th>10</th>\n",
       "      <td>NaN</td>\n",
       "      <td>NaN</td>\n",
       "      <td>NaN</td>\n",
       "      <td>NaN</td>\n",
       "      <td>4.0</td>\n",
       "      <td>NaN</td>\n",
       "      <td>NaN</td>\n",
       "      <td>NaN</td>\n",
       "      <td>NaN</td>\n",
       "      <td>NaN</td>\n",
       "      <td>...</td>\n",
       "      <td>NaN</td>\n",
       "      <td>NaN</td>\n",
       "      <td>NaN</td>\n",
       "      <td>NaN</td>\n",
       "      <td>NaN</td>\n",
       "      <td>NaN</td>\n",
       "      <td>NaN</td>\n",
       "      <td>NaN</td>\n",
       "      <td>NaN</td>\n",
       "      <td>NaN</td>\n",
       "    </tr>\n",
       "    <tr>\n",
       "      <th>14</th>\n",
       "      <td>NaN</td>\n",
       "      <td>NaN</td>\n",
       "      <td>NaN</td>\n",
       "      <td>NaN</td>\n",
       "      <td>NaN</td>\n",
       "      <td>NaN</td>\n",
       "      <td>NaN</td>\n",
       "      <td>NaN</td>\n",
       "      <td>NaN</td>\n",
       "      <td>NaN</td>\n",
       "      <td>...</td>\n",
       "      <td>NaN</td>\n",
       "      <td>NaN</td>\n",
       "      <td>NaN</td>\n",
       "      <td>NaN</td>\n",
       "      <td>NaN</td>\n",
       "      <td>NaN</td>\n",
       "      <td>NaN</td>\n",
       "      <td>NaN</td>\n",
       "      <td>NaN</td>\n",
       "      <td>NaN</td>\n",
       "    </tr>\n",
       "  </tbody>\n",
       "</table>\n",
       "<p>5 rows × 2936 columns</p>\n",
       "</div>"
      ],
      "text/plain": [
       "review_profilename  0110x011  05Harley  100floods  1759Girl  1fastz28  \\\n",
       "beer_beerid                                                             \n",
       "5                        NaN       NaN        NaN       NaN       NaN   \n",
       "6                        NaN       NaN        NaN       NaN       3.5   \n",
       "7                        NaN       NaN        NaN       NaN       NaN   \n",
       "10                       NaN       NaN        NaN       NaN       4.0   \n",
       "14                       NaN       NaN        NaN       NaN       NaN   \n",
       "\n",
       "review_profilename  32hoss32  3Vandoo  4000qtrap  4DAloveofSTOUT  51mmz0rz  \\\n",
       "beer_beerid                                                                  \n",
       "5                        NaN      NaN        NaN             NaN       NaN   \n",
       "6                        NaN      NaN        NaN             NaN       NaN   \n",
       "7                        NaN      NaN        NaN             NaN       NaN   \n",
       "10                       NaN      NaN        NaN             NaN       NaN   \n",
       "14                       NaN      NaN        NaN             NaN       NaN   \n",
       "\n",
       "review_profilename     ...       zerk  zerofear13  zhanson88  zimm421  \\\n",
       "beer_beerid            ...                                              \n",
       "5                      ...        NaN         NaN        NaN      NaN   \n",
       "6                      ...        NaN         NaN        NaN      NaN   \n",
       "7                      ...        NaN         3.0        NaN      NaN   \n",
       "10                     ...        NaN         NaN        NaN      NaN   \n",
       "14                     ...        NaN         NaN        NaN      NaN   \n",
       "\n",
       "review_profilename  zjungleist  zoolzoo  zoso1967  zoso493  zrab11  \\\n",
       "beer_beerid                                                          \n",
       "5                          NaN      NaN       NaN      NaN     NaN   \n",
       "6                          NaN      NaN       NaN      NaN     NaN   \n",
       "7                          NaN      NaN       NaN      NaN     NaN   \n",
       "10                         NaN      NaN       NaN      NaN     NaN   \n",
       "14                         NaN      NaN       NaN      NaN     NaN   \n",
       "\n",
       "review_profilename  zymurgy4all  \n",
       "beer_beerid                      \n",
       "5                           NaN  \n",
       "6                           NaN  \n",
       "7                           NaN  \n",
       "10                          NaN  \n",
       "14                          NaN  \n",
       "\n",
       "[5 rows x 2936 columns]"
      ]
     },
     "execution_count": 62,
     "metadata": {},
     "output_type": "execute_result"
    }
   ],
   "source": [
    "beer_features = train.pivot(\n",
    "    index='review_profilename',\n",
    "    columns='beer_beerid',\n",
    "    values='review_overall'\n",
    ").T\n",
    "\n",
    "beer_features.head()"
   ]
  },
  {
   "cell_type": "code",
   "execution_count": 63,
   "metadata": {},
   "outputs": [],
   "source": [
    "# Normalising the beer rating for each beer\n",
    "mean = np.nanmean(beer_features, axis=1)\n",
    "df_subtracted = (beer_features.T-mean).T"
   ]
  },
  {
   "cell_type": "code",
   "execution_count": 64,
   "metadata": {},
   "outputs": [
    {
     "data": {
      "text/html": [
       "<div>\n",
       "<style scoped>\n",
       "    .dataframe tbody tr th:only-of-type {\n",
       "        vertical-align: middle;\n",
       "    }\n",
       "\n",
       "    .dataframe tbody tr th {\n",
       "        vertical-align: top;\n",
       "    }\n",
       "\n",
       "    .dataframe thead th {\n",
       "        text-align: right;\n",
       "    }\n",
       "</style>\n",
       "<table border=\"1\" class=\"dataframe\">\n",
       "  <thead>\n",
       "    <tr style=\"text-align: right;\">\n",
       "      <th>review_profilename</th>\n",
       "      <th>0110x011</th>\n",
       "      <th>05Harley</th>\n",
       "      <th>100floods</th>\n",
       "      <th>1759Girl</th>\n",
       "      <th>1fastz28</th>\n",
       "      <th>32hoss32</th>\n",
       "      <th>3Vandoo</th>\n",
       "      <th>4000qtrap</th>\n",
       "      <th>4DAloveofSTOUT</th>\n",
       "      <th>51mmz0rz</th>\n",
       "      <th>...</th>\n",
       "      <th>zerk</th>\n",
       "      <th>zerofear13</th>\n",
       "      <th>zhanson88</th>\n",
       "      <th>zimm421</th>\n",
       "      <th>zjungleist</th>\n",
       "      <th>zoolzoo</th>\n",
       "      <th>zoso1967</th>\n",
       "      <th>zoso493</th>\n",
       "      <th>zrab11</th>\n",
       "      <th>zymurgy4all</th>\n",
       "    </tr>\n",
       "    <tr>\n",
       "      <th>beer_beerid</th>\n",
       "      <th></th>\n",
       "      <th></th>\n",
       "      <th></th>\n",
       "      <th></th>\n",
       "      <th></th>\n",
       "      <th></th>\n",
       "      <th></th>\n",
       "      <th></th>\n",
       "      <th></th>\n",
       "      <th></th>\n",
       "      <th></th>\n",
       "      <th></th>\n",
       "      <th></th>\n",
       "      <th></th>\n",
       "      <th></th>\n",
       "      <th></th>\n",
       "      <th></th>\n",
       "      <th></th>\n",
       "      <th></th>\n",
       "      <th></th>\n",
       "      <th></th>\n",
       "    </tr>\n",
       "  </thead>\n",
       "  <tbody>\n",
       "    <tr>\n",
       "      <th>5</th>\n",
       "      <td>NaN</td>\n",
       "      <td>NaN</td>\n",
       "      <td>NaN</td>\n",
       "      <td>NaN</td>\n",
       "      <td>NaN</td>\n",
       "      <td>NaN</td>\n",
       "      <td>NaN</td>\n",
       "      <td>NaN</td>\n",
       "      <td>NaN</td>\n",
       "      <td>NaN</td>\n",
       "      <td>...</td>\n",
       "      <td>NaN</td>\n",
       "      <td>NaN</td>\n",
       "      <td>NaN</td>\n",
       "      <td>NaN</td>\n",
       "      <td>NaN</td>\n",
       "      <td>NaN</td>\n",
       "      <td>NaN</td>\n",
       "      <td>NaN</td>\n",
       "      <td>NaN</td>\n",
       "      <td>NaN</td>\n",
       "    </tr>\n",
       "    <tr>\n",
       "      <th>6</th>\n",
       "      <td>NaN</td>\n",
       "      <td>NaN</td>\n",
       "      <td>NaN</td>\n",
       "      <td>NaN</td>\n",
       "      <td>-0.220930</td>\n",
       "      <td>NaN</td>\n",
       "      <td>NaN</td>\n",
       "      <td>NaN</td>\n",
       "      <td>NaN</td>\n",
       "      <td>NaN</td>\n",
       "      <td>...</td>\n",
       "      <td>NaN</td>\n",
       "      <td>NaN</td>\n",
       "      <td>NaN</td>\n",
       "      <td>NaN</td>\n",
       "      <td>NaN</td>\n",
       "      <td>NaN</td>\n",
       "      <td>NaN</td>\n",
       "      <td>NaN</td>\n",
       "      <td>NaN</td>\n",
       "      <td>NaN</td>\n",
       "    </tr>\n",
       "    <tr>\n",
       "      <th>7</th>\n",
       "      <td>NaN</td>\n",
       "      <td>NaN</td>\n",
       "      <td>NaN</td>\n",
       "      <td>NaN</td>\n",
       "      <td>NaN</td>\n",
       "      <td>NaN</td>\n",
       "      <td>NaN</td>\n",
       "      <td>NaN</td>\n",
       "      <td>NaN</td>\n",
       "      <td>NaN</td>\n",
       "      <td>...</td>\n",
       "      <td>NaN</td>\n",
       "      <td>-0.257732</td>\n",
       "      <td>NaN</td>\n",
       "      <td>NaN</td>\n",
       "      <td>NaN</td>\n",
       "      <td>NaN</td>\n",
       "      <td>NaN</td>\n",
       "      <td>NaN</td>\n",
       "      <td>NaN</td>\n",
       "      <td>NaN</td>\n",
       "    </tr>\n",
       "    <tr>\n",
       "      <th>10</th>\n",
       "      <td>NaN</td>\n",
       "      <td>NaN</td>\n",
       "      <td>NaN</td>\n",
       "      <td>NaN</td>\n",
       "      <td>0.131783</td>\n",
       "      <td>NaN</td>\n",
       "      <td>NaN</td>\n",
       "      <td>NaN</td>\n",
       "      <td>NaN</td>\n",
       "      <td>NaN</td>\n",
       "      <td>...</td>\n",
       "      <td>NaN</td>\n",
       "      <td>NaN</td>\n",
       "      <td>NaN</td>\n",
       "      <td>NaN</td>\n",
       "      <td>NaN</td>\n",
       "      <td>NaN</td>\n",
       "      <td>NaN</td>\n",
       "      <td>NaN</td>\n",
       "      <td>NaN</td>\n",
       "      <td>NaN</td>\n",
       "    </tr>\n",
       "    <tr>\n",
       "      <th>14</th>\n",
       "      <td>NaN</td>\n",
       "      <td>NaN</td>\n",
       "      <td>NaN</td>\n",
       "      <td>NaN</td>\n",
       "      <td>NaN</td>\n",
       "      <td>NaN</td>\n",
       "      <td>NaN</td>\n",
       "      <td>NaN</td>\n",
       "      <td>NaN</td>\n",
       "      <td>NaN</td>\n",
       "      <td>...</td>\n",
       "      <td>NaN</td>\n",
       "      <td>NaN</td>\n",
       "      <td>NaN</td>\n",
       "      <td>NaN</td>\n",
       "      <td>NaN</td>\n",
       "      <td>NaN</td>\n",
       "      <td>NaN</td>\n",
       "      <td>NaN</td>\n",
       "      <td>NaN</td>\n",
       "      <td>NaN</td>\n",
       "    </tr>\n",
       "  </tbody>\n",
       "</table>\n",
       "<p>5 rows × 2936 columns</p>\n",
       "</div>"
      ],
      "text/plain": [
       "review_profilename  0110x011  05Harley  100floods  1759Girl  1fastz28  \\\n",
       "beer_beerid                                                             \n",
       "5                        NaN       NaN        NaN       NaN       NaN   \n",
       "6                        NaN       NaN        NaN       NaN -0.220930   \n",
       "7                        NaN       NaN        NaN       NaN       NaN   \n",
       "10                       NaN       NaN        NaN       NaN  0.131783   \n",
       "14                       NaN       NaN        NaN       NaN       NaN   \n",
       "\n",
       "review_profilename  32hoss32  3Vandoo  4000qtrap  4DAloveofSTOUT  51mmz0rz  \\\n",
       "beer_beerid                                                                  \n",
       "5                        NaN      NaN        NaN             NaN       NaN   \n",
       "6                        NaN      NaN        NaN             NaN       NaN   \n",
       "7                        NaN      NaN        NaN             NaN       NaN   \n",
       "10                       NaN      NaN        NaN             NaN       NaN   \n",
       "14                       NaN      NaN        NaN             NaN       NaN   \n",
       "\n",
       "review_profilename     ...       zerk  zerofear13  zhanson88  zimm421  \\\n",
       "beer_beerid            ...                                              \n",
       "5                      ...        NaN         NaN        NaN      NaN   \n",
       "6                      ...        NaN         NaN        NaN      NaN   \n",
       "7                      ...        NaN   -0.257732        NaN      NaN   \n",
       "10                     ...        NaN         NaN        NaN      NaN   \n",
       "14                     ...        NaN         NaN        NaN      NaN   \n",
       "\n",
       "review_profilename  zjungleist  zoolzoo  zoso1967  zoso493  zrab11  \\\n",
       "beer_beerid                                                          \n",
       "5                          NaN      NaN       NaN      NaN     NaN   \n",
       "6                          NaN      NaN       NaN      NaN     NaN   \n",
       "7                          NaN      NaN       NaN      NaN     NaN   \n",
       "10                         NaN      NaN       NaN      NaN     NaN   \n",
       "14                         NaN      NaN       NaN      NaN     NaN   \n",
       "\n",
       "review_profilename  zymurgy4all  \n",
       "beer_beerid                      \n",
       "5                           NaN  \n",
       "6                           NaN  \n",
       "7                           NaN  \n",
       "10                          NaN  \n",
       "14                          NaN  \n",
       "\n",
       "[5 rows x 2936 columns]"
      ]
     },
     "execution_count": 64,
     "metadata": {},
     "output_type": "execute_result"
    }
   ],
   "source": [
    "df_subtracted.head()"
   ]
  },
  {
   "cell_type": "markdown",
   "metadata": {},
   "source": [
    "Finding the cosine similarity. Note that since the data is normalised, both the cosine metric and correlation metric will give the same value. "
   ]
  },
  {
   "cell_type": "code",
   "execution_count": 65,
   "metadata": {},
   "outputs": [
    {
     "name": "stdout",
     "output_type": "stream",
     "text": [
      "[[ 1.00000000e+00 -1.26793663e-02  5.18128378e-02 ... -7.67196988e-04\n",
      "   2.76357182e-02 -2.43744596e-03]\n",
      " [-1.26793663e-02  1.00000000e+00 -1.75384992e-02 ... -5.00114139e-04\n",
      "   0.00000000e+00 -5.61485257e-02]\n",
      " [ 5.18128378e-02 -1.75384992e-02  1.00000000e+00 ...  7.29273096e-03\n",
      "   6.29423478e-03  3.69455048e-02]\n",
      " ...\n",
      " [-7.67196988e-04 -5.00114139e-04  7.29273096e-03 ...  1.00000000e+00\n",
      "   0.00000000e+00  2.98784922e-02]\n",
      " [ 2.76357182e-02  0.00000000e+00  6.29423478e-03 ...  0.00000000e+00\n",
      "   1.00000000e+00 -1.12487987e-02]\n",
      " [-2.43744596e-03 -5.61485257e-02  3.69455048e-02 ...  2.98784922e-02\n",
      "  -1.12487987e-02  1.00000000e+00]]\n"
     ]
    }
   ],
   "source": [
    "# User Similarity Matrix\n",
    "item_correlation = 1 - pairwise_distances(df_subtracted.fillna(0), metric='cosine')\n",
    "item_correlation[np.isnan(item_correlation)] = 0\n",
    "print(item_correlation)"
   ]
  },
  {
   "cell_type": "markdown",
   "metadata": {},
   "source": [
    "Filtering the correlation only for which the value is greater than 0. (Positively correlated)"
   ]
  },
  {
   "cell_type": "code",
   "execution_count": 66,
   "metadata": {},
   "outputs": [
    {
     "data": {
      "text/plain": [
       "array([[1.        , 0.        , 0.05181284, ..., 0.        , 0.02763572,\n",
       "        0.        ],\n",
       "       [0.        , 1.        , 0.        , ..., 0.        , 0.        ,\n",
       "        0.        ],\n",
       "       [0.05181284, 0.        , 1.        , ..., 0.00729273, 0.00629423,\n",
       "        0.0369455 ],\n",
       "       ...,\n",
       "       [0.        , 0.        , 0.00729273, ..., 1.        , 0.        ,\n",
       "        0.02987849],\n",
       "       [0.02763572, 0.        , 0.00629423, ..., 0.        , 1.        ,\n",
       "        0.        ],\n",
       "       [0.        , 0.        , 0.0369455 , ..., 0.02987849, 0.        ,\n",
       "        1.        ]])"
      ]
     },
     "execution_count": 66,
     "metadata": {},
     "output_type": "execute_result"
    }
   ],
   "source": [
    "item_correlation[item_correlation<0]=0\n",
    "item_correlation"
   ]
  },
  {
   "cell_type": "markdown",
   "metadata": {},
   "source": [
    "#### Prediction"
   ]
  },
  {
   "cell_type": "code",
   "execution_count": 67,
   "metadata": {},
   "outputs": [
    {
     "data": {
      "text/plain": [
       "array([[0.37291098, 0.42808107, 0.61618473, ..., 0.39224231, 0.8415823 ,\n",
       "        0.85982094],\n",
       "       [0.29315783, 0.84927171, 1.07639914, ..., 0.54134954, 0.74186316,\n",
       "        0.58564245],\n",
       "       [0.98761698, 0.51971505, 1.05157554, ..., 0.85899046, 1.27039586,\n",
       "        0.81265396],\n",
       "       ...,\n",
       "       [2.30599267, 1.61016483, 2.09032738, ..., 1.24464604, 0.66210859,\n",
       "        1.29908367],\n",
       "       [1.60069032, 1.81407361, 2.21001713, ..., 1.09629556, 1.30503268,\n",
       "        1.22866679],\n",
       "       [0.51911134, 0.5707666 , 0.64135352, ..., 0.19932714, 0.44682442,\n",
       "        0.77657316]])"
      ]
     },
     "execution_count": 67,
     "metadata": {},
     "output_type": "execute_result"
    }
   ],
   "source": [
    "item_predicted_ratings = np.dot((beer_features.fillna(0).T),item_correlation)\n",
    "item_predicted_ratings"
   ]
  },
  {
   "cell_type": "code",
   "execution_count": 68,
   "metadata": {},
   "outputs": [
    {
     "data": {
      "text/plain": [
       "(2936, 2028)"
      ]
     },
     "execution_count": 68,
     "metadata": {},
     "output_type": "execute_result"
    }
   ],
   "source": [
    "item_predicted_ratings.shape"
   ]
  },
  {
   "cell_type": "code",
   "execution_count": 69,
   "metadata": {},
   "outputs": [
    {
     "data": {
      "text/plain": [
       "(2936, 2028)"
      ]
     },
     "execution_count": 69,
     "metadata": {},
     "output_type": "execute_result"
    }
   ],
   "source": [
    "dummy_train.shape"
   ]
  },
  {
   "cell_type": "markdown",
   "metadata": {},
   "source": [
    "#### Filtering the rating only for the beers not rated by the user for recommendation"
   ]
  },
  {
   "cell_type": "code",
   "execution_count": 70,
   "metadata": {},
   "outputs": [
    {
     "data": {
      "text/html": [
       "<div>\n",
       "<style scoped>\n",
       "    .dataframe tbody tr th:only-of-type {\n",
       "        vertical-align: middle;\n",
       "    }\n",
       "\n",
       "    .dataframe tbody tr th {\n",
       "        vertical-align: top;\n",
       "    }\n",
       "\n",
       "    .dataframe thead th {\n",
       "        text-align: right;\n",
       "    }\n",
       "</style>\n",
       "<table border=\"1\" class=\"dataframe\">\n",
       "  <thead>\n",
       "    <tr style=\"text-align: right;\">\n",
       "      <th>beer_beerid</th>\n",
       "      <th>5</th>\n",
       "      <th>6</th>\n",
       "      <th>7</th>\n",
       "      <th>10</th>\n",
       "      <th>14</th>\n",
       "      <th>15</th>\n",
       "      <th>17</th>\n",
       "      <th>19</th>\n",
       "      <th>30</th>\n",
       "      <th>31</th>\n",
       "      <th>...</th>\n",
       "      <th>71919</th>\n",
       "      <th>71969</th>\n",
       "      <th>72138</th>\n",
       "      <th>73131</th>\n",
       "      <th>74123</th>\n",
       "      <th>74272</th>\n",
       "      <th>74323</th>\n",
       "      <th>74390</th>\n",
       "      <th>74986</th>\n",
       "      <th>75086</th>\n",
       "    </tr>\n",
       "    <tr>\n",
       "      <th>review_profilename</th>\n",
       "      <th></th>\n",
       "      <th></th>\n",
       "      <th></th>\n",
       "      <th></th>\n",
       "      <th></th>\n",
       "      <th></th>\n",
       "      <th></th>\n",
       "      <th></th>\n",
       "      <th></th>\n",
       "      <th></th>\n",
       "      <th></th>\n",
       "      <th></th>\n",
       "      <th></th>\n",
       "      <th></th>\n",
       "      <th></th>\n",
       "      <th></th>\n",
       "      <th></th>\n",
       "      <th></th>\n",
       "      <th></th>\n",
       "      <th></th>\n",
       "      <th></th>\n",
       "    </tr>\n",
       "  </thead>\n",
       "  <tbody>\n",
       "    <tr>\n",
       "      <th>0110x011</th>\n",
       "      <td>0.372911</td>\n",
       "      <td>0.428081</td>\n",
       "      <td>0.616185</td>\n",
       "      <td>0.498452</td>\n",
       "      <td>0.664023</td>\n",
       "      <td>0.513453</td>\n",
       "      <td>0.257512</td>\n",
       "      <td>0.487308</td>\n",
       "      <td>2.164645</td>\n",
       "      <td>1.074082</td>\n",
       "      <td>...</td>\n",
       "      <td>2.033690</td>\n",
       "      <td>0.808722</td>\n",
       "      <td>1.365216</td>\n",
       "      <td>0.287301</td>\n",
       "      <td>0.941412</td>\n",
       "      <td>0.872489</td>\n",
       "      <td>0.351191</td>\n",
       "      <td>0.392242</td>\n",
       "      <td>0.841582</td>\n",
       "      <td>0.859821</td>\n",
       "    </tr>\n",
       "    <tr>\n",
       "      <th>05Harley</th>\n",
       "      <td>0.293158</td>\n",
       "      <td>0.849272</td>\n",
       "      <td>1.076399</td>\n",
       "      <td>1.172139</td>\n",
       "      <td>0.880656</td>\n",
       "      <td>1.347390</td>\n",
       "      <td>0.737357</td>\n",
       "      <td>0.940340</td>\n",
       "      <td>2.089108</td>\n",
       "      <td>1.078556</td>\n",
       "      <td>...</td>\n",
       "      <td>0.642015</td>\n",
       "      <td>0.831744</td>\n",
       "      <td>1.456584</td>\n",
       "      <td>0.892119</td>\n",
       "      <td>0.175044</td>\n",
       "      <td>1.148764</td>\n",
       "      <td>0.768224</td>\n",
       "      <td>0.541350</td>\n",
       "      <td>0.741863</td>\n",
       "      <td>0.585642</td>\n",
       "    </tr>\n",
       "    <tr>\n",
       "      <th>100floods</th>\n",
       "      <td>0.987617</td>\n",
       "      <td>0.519715</td>\n",
       "      <td>1.051576</td>\n",
       "      <td>0.600898</td>\n",
       "      <td>0.245642</td>\n",
       "      <td>1.084412</td>\n",
       "      <td>1.441544</td>\n",
       "      <td>0.736519</td>\n",
       "      <td>2.417536</td>\n",
       "      <td>1.323712</td>\n",
       "      <td>...</td>\n",
       "      <td>0.297673</td>\n",
       "      <td>0.713920</td>\n",
       "      <td>0.593214</td>\n",
       "      <td>1.087315</td>\n",
       "      <td>0.748956</td>\n",
       "      <td>0.927105</td>\n",
       "      <td>0.759202</td>\n",
       "      <td>0.858990</td>\n",
       "      <td>1.270396</td>\n",
       "      <td>0.812654</td>\n",
       "    </tr>\n",
       "    <tr>\n",
       "      <th>1759Girl</th>\n",
       "      <td>1.475384</td>\n",
       "      <td>0.477249</td>\n",
       "      <td>1.601919</td>\n",
       "      <td>1.063959</td>\n",
       "      <td>1.134887</td>\n",
       "      <td>0.824852</td>\n",
       "      <td>1.768054</td>\n",
       "      <td>0.264807</td>\n",
       "      <td>1.751364</td>\n",
       "      <td>0.550420</td>\n",
       "      <td>...</td>\n",
       "      <td>0.497129</td>\n",
       "      <td>0.438727</td>\n",
       "      <td>0.975784</td>\n",
       "      <td>1.279198</td>\n",
       "      <td>0.924855</td>\n",
       "      <td>0.442419</td>\n",
       "      <td>0.734888</td>\n",
       "      <td>0.853378</td>\n",
       "      <td>0.425049</td>\n",
       "      <td>0.901600</td>\n",
       "    </tr>\n",
       "    <tr>\n",
       "      <th>1fastz28</th>\n",
       "      <td>4.887399</td>\n",
       "      <td>0.000000</td>\n",
       "      <td>3.894895</td>\n",
       "      <td>0.000000</td>\n",
       "      <td>3.648424</td>\n",
       "      <td>3.364486</td>\n",
       "      <td>3.377534</td>\n",
       "      <td>2.845374</td>\n",
       "      <td>3.921059</td>\n",
       "      <td>3.727352</td>\n",
       "      <td>...</td>\n",
       "      <td>1.612968</td>\n",
       "      <td>1.906697</td>\n",
       "      <td>2.007426</td>\n",
       "      <td>1.932500</td>\n",
       "      <td>2.054216</td>\n",
       "      <td>1.763594</td>\n",
       "      <td>1.493386</td>\n",
       "      <td>1.489240</td>\n",
       "      <td>2.917088</td>\n",
       "      <td>1.864875</td>\n",
       "    </tr>\n",
       "  </tbody>\n",
       "</table>\n",
       "<p>5 rows × 2028 columns</p>\n",
       "</div>"
      ],
      "text/plain": [
       "beer_beerid            5         6         7         10        14     \\\n",
       "review_profilename                                                     \n",
       "0110x011            0.372911  0.428081  0.616185  0.498452  0.664023   \n",
       "05Harley            0.293158  0.849272  1.076399  1.172139  0.880656   \n",
       "100floods           0.987617  0.519715  1.051576  0.600898  0.245642   \n",
       "1759Girl            1.475384  0.477249  1.601919  1.063959  1.134887   \n",
       "1fastz28            4.887399  0.000000  3.894895  0.000000  3.648424   \n",
       "\n",
       "beer_beerid            15        17        19        30        31     \\\n",
       "review_profilename                                                     \n",
       "0110x011            0.513453  0.257512  0.487308  2.164645  1.074082   \n",
       "05Harley            1.347390  0.737357  0.940340  2.089108  1.078556   \n",
       "100floods           1.084412  1.441544  0.736519  2.417536  1.323712   \n",
       "1759Girl            0.824852  1.768054  0.264807  1.751364  0.550420   \n",
       "1fastz28            3.364486  3.377534  2.845374  3.921059  3.727352   \n",
       "\n",
       "beer_beerid           ...        71919     71969     72138     73131  \\\n",
       "review_profilename    ...                                              \n",
       "0110x011              ...     2.033690  0.808722  1.365216  0.287301   \n",
       "05Harley              ...     0.642015  0.831744  1.456584  0.892119   \n",
       "100floods             ...     0.297673  0.713920  0.593214  1.087315   \n",
       "1759Girl              ...     0.497129  0.438727  0.975784  1.279198   \n",
       "1fastz28              ...     1.612968  1.906697  2.007426  1.932500   \n",
       "\n",
       "beer_beerid            74123     74272     74323     74390     74986     75086  \n",
       "review_profilename                                                              \n",
       "0110x011            0.941412  0.872489  0.351191  0.392242  0.841582  0.859821  \n",
       "05Harley            0.175044  1.148764  0.768224  0.541350  0.741863  0.585642  \n",
       "100floods           0.748956  0.927105  0.759202  0.858990  1.270396  0.812654  \n",
       "1759Girl            0.924855  0.442419  0.734888  0.853378  0.425049  0.901600  \n",
       "1fastz28            2.054216  1.763594  1.493386  1.489240  2.917088  1.864875  \n",
       "\n",
       "[5 rows x 2028 columns]"
      ]
     },
     "execution_count": 70,
     "metadata": {},
     "output_type": "execute_result"
    }
   ],
   "source": [
    "item_final_rating = np.multiply(item_predicted_ratings,dummy_train)\n",
    "item_final_rating.head()"
   ]
  },
  {
   "cell_type": "markdown",
   "metadata": {},
   "source": [
    "### Finding co-relation between first 10 users"
   ]
  },
  {
   "cell_type": "code",
   "execution_count": 71,
   "metadata": {},
   "outputs": [
    {
     "data": {
      "text/plain": [
       "[5, 6, 7, 10, 14, 15, 17, 19, 30, 31]"
      ]
     },
     "execution_count": 71,
     "metadata": {},
     "output_type": "execute_result"
    }
   ],
   "source": [
    "top_beers = item_correlation[:10, :10]\n",
    "top_beers_list = list(beer_features.index[:10])\n",
    "top_beers_list"
   ]
  },
  {
   "cell_type": "code",
   "execution_count": 72,
   "metadata": {},
   "outputs": [],
   "source": [
    "# Creating a dataframe using above matrix and list of indexes \n",
    "top_beers_df = pd.DataFrame(top_beers, columns=top_beers_list, index =top_beers_list )"
   ]
  },
  {
   "cell_type": "code",
   "execution_count": 73,
   "metadata": {},
   "outputs": [
    {
     "data": {
      "text/html": [
       "<style  type=\"text/css\" >\n",
       "    #T_cfc8f42e_ac3d_11e9_9b13_48a472e57715row0_col0 {\n",
       "            background-color:  #081d58;\n",
       "        }    #T_cfc8f42e_ac3d_11e9_9b13_48a472e57715row0_col1 {\n",
       "            background-color:  #fdfed5;\n",
       "        }    #T_cfc8f42e_ac3d_11e9_9b13_48a472e57715row0_col2 {\n",
       "            background-color:  #ecf7b1;\n",
       "        }    #T_cfc8f42e_ac3d_11e9_9b13_48a472e57715row0_col3 {\n",
       "            background-color:  #fdfed5;\n",
       "        }    #T_cfc8f42e_ac3d_11e9_9b13_48a472e57715row0_col4 {\n",
       "            background-color:  #feffd8;\n",
       "        }    #T_cfc8f42e_ac3d_11e9_9b13_48a472e57715row0_col5 {\n",
       "            background-color:  #ffffd9;\n",
       "        }    #T_cfc8f42e_ac3d_11e9_9b13_48a472e57715row0_col6 {\n",
       "            background-color:  #feffd8;\n",
       "        }    #T_cfc8f42e_ac3d_11e9_9b13_48a472e57715row0_col7 {\n",
       "            background-color:  #fcfed1;\n",
       "        }    #T_cfc8f42e_ac3d_11e9_9b13_48a472e57715row0_col8 {\n",
       "            background-color:  #feffd8;\n",
       "        }    #T_cfc8f42e_ac3d_11e9_9b13_48a472e57715row0_col9 {\n",
       "            background-color:  #f9fdcb;\n",
       "        }    #T_cfc8f42e_ac3d_11e9_9b13_48a472e57715row1_col0 {\n",
       "            background-color:  #fcfed1;\n",
       "        }    #T_cfc8f42e_ac3d_11e9_9b13_48a472e57715row1_col1 {\n",
       "            background-color:  #081d58;\n",
       "        }    #T_cfc8f42e_ac3d_11e9_9b13_48a472e57715row1_col2 {\n",
       "            background-color:  #fcfed1;\n",
       "        }    #T_cfc8f42e_ac3d_11e9_9b13_48a472e57715row1_col3 {\n",
       "            background-color:  #f7fcc7;\n",
       "        }    #T_cfc8f42e_ac3d_11e9_9b13_48a472e57715row1_col4 {\n",
       "            background-color:  #f3fabf;\n",
       "        }    #T_cfc8f42e_ac3d_11e9_9b13_48a472e57715row1_col5 {\n",
       "            background-color:  #f7fcc6;\n",
       "        }    #T_cfc8f42e_ac3d_11e9_9b13_48a472e57715row1_col6 {\n",
       "            background-color:  #feffd8;\n",
       "        }    #T_cfc8f42e_ac3d_11e9_9b13_48a472e57715row1_col7 {\n",
       "            background-color:  #fcfed3;\n",
       "        }    #T_cfc8f42e_ac3d_11e9_9b13_48a472e57715row1_col8 {\n",
       "            background-color:  #feffd8;\n",
       "        }    #T_cfc8f42e_ac3d_11e9_9b13_48a472e57715row1_col9 {\n",
       "            background-color:  #fdfed5;\n",
       "        }    #T_cfc8f42e_ac3d_11e9_9b13_48a472e57715row2_col0 {\n",
       "            background-color:  #ecf7b1;\n",
       "        }    #T_cfc8f42e_ac3d_11e9_9b13_48a472e57715row2_col1 {\n",
       "            background-color:  #fdfed5;\n",
       "        }    #T_cfc8f42e_ac3d_11e9_9b13_48a472e57715row2_col2 {\n",
       "            background-color:  #081d58;\n",
       "        }    #T_cfc8f42e_ac3d_11e9_9b13_48a472e57715row2_col3 {\n",
       "            background-color:  #f9fdcc;\n",
       "        }    #T_cfc8f42e_ac3d_11e9_9b13_48a472e57715row2_col4 {\n",
       "            background-color:  #feffd8;\n",
       "        }    #T_cfc8f42e_ac3d_11e9_9b13_48a472e57715row2_col5 {\n",
       "            background-color:  #ffffd9;\n",
       "        }    #T_cfc8f42e_ac3d_11e9_9b13_48a472e57715row2_col6 {\n",
       "            background-color:  #ffffd9;\n",
       "        }    #T_cfc8f42e_ac3d_11e9_9b13_48a472e57715row2_col7 {\n",
       "            background-color:  #fcfed1;\n",
       "        }    #T_cfc8f42e_ac3d_11e9_9b13_48a472e57715row2_col8 {\n",
       "            background-color:  #feffd8;\n",
       "        }    #T_cfc8f42e_ac3d_11e9_9b13_48a472e57715row2_col9 {\n",
       "            background-color:  #fdfed4;\n",
       "        }    #T_cfc8f42e_ac3d_11e9_9b13_48a472e57715row3_col0 {\n",
       "            background-color:  #fdfed4;\n",
       "        }    #T_cfc8f42e_ac3d_11e9_9b13_48a472e57715row3_col1 {\n",
       "            background-color:  #f8fcca;\n",
       "        }    #T_cfc8f42e_ac3d_11e9_9b13_48a472e57715row3_col2 {\n",
       "            background-color:  #f9fdcb;\n",
       "        }    #T_cfc8f42e_ac3d_11e9_9b13_48a472e57715row3_col3 {\n",
       "            background-color:  #081d58;\n",
       "        }    #T_cfc8f42e_ac3d_11e9_9b13_48a472e57715row3_col4 {\n",
       "            background-color:  #f3fabf;\n",
       "        }    #T_cfc8f42e_ac3d_11e9_9b13_48a472e57715row3_col5 {\n",
       "            background-color:  #f7fcc6;\n",
       "        }    #T_cfc8f42e_ac3d_11e9_9b13_48a472e57715row3_col6 {\n",
       "            background-color:  #fcfed1;\n",
       "        }    #T_cfc8f42e_ac3d_11e9_9b13_48a472e57715row3_col7 {\n",
       "            background-color:  #f8fcca;\n",
       "        }    #T_cfc8f42e_ac3d_11e9_9b13_48a472e57715row3_col8 {\n",
       "            background-color:  #fcfed1;\n",
       "        }    #T_cfc8f42e_ac3d_11e9_9b13_48a472e57715row3_col9 {\n",
       "            background-color:  #feffd8;\n",
       "        }    #T_cfc8f42e_ac3d_11e9_9b13_48a472e57715row4_col0 {\n",
       "            background-color:  #feffd8;\n",
       "        }    #T_cfc8f42e_ac3d_11e9_9b13_48a472e57715row4_col1 {\n",
       "            background-color:  #f5fbc4;\n",
       "        }    #T_cfc8f42e_ac3d_11e9_9b13_48a472e57715row4_col2 {\n",
       "            background-color:  #feffd8;\n",
       "        }    #T_cfc8f42e_ac3d_11e9_9b13_48a472e57715row4_col3 {\n",
       "            background-color:  #f4fbc1;\n",
       "        }    #T_cfc8f42e_ac3d_11e9_9b13_48a472e57715row4_col4 {\n",
       "            background-color:  #081d58;\n",
       "        }    #T_cfc8f42e_ac3d_11e9_9b13_48a472e57715row4_col5 {\n",
       "            background-color:  #dcf1b2;\n",
       "        }    #T_cfc8f42e_ac3d_11e9_9b13_48a472e57715row4_col6 {\n",
       "            background-color:  #ffffd9;\n",
       "        }    #T_cfc8f42e_ac3d_11e9_9b13_48a472e57715row4_col7 {\n",
       "            background-color:  #f4fbc1;\n",
       "        }    #T_cfc8f42e_ac3d_11e9_9b13_48a472e57715row4_col8 {\n",
       "            background-color:  #f7fcc7;\n",
       "        }    #T_cfc8f42e_ac3d_11e9_9b13_48a472e57715row4_col9 {\n",
       "            background-color:  #ffffd9;\n",
       "        }    #T_cfc8f42e_ac3d_11e9_9b13_48a472e57715row5_col0 {\n",
       "            background-color:  #ffffd9;\n",
       "        }    #T_cfc8f42e_ac3d_11e9_9b13_48a472e57715row5_col1 {\n",
       "            background-color:  #f8fcca;\n",
       "        }    #T_cfc8f42e_ac3d_11e9_9b13_48a472e57715row5_col2 {\n",
       "            background-color:  #ffffd9;\n",
       "        }    #T_cfc8f42e_ac3d_11e9_9b13_48a472e57715row5_col3 {\n",
       "            background-color:  #f8fcc9;\n",
       "        }    #T_cfc8f42e_ac3d_11e9_9b13_48a472e57715row5_col4 {\n",
       "            background-color:  #dbf1b2;\n",
       "        }    #T_cfc8f42e_ac3d_11e9_9b13_48a472e57715row5_col5 {\n",
       "            background-color:  #081d58;\n",
       "        }    #T_cfc8f42e_ac3d_11e9_9b13_48a472e57715row5_col6 {\n",
       "            background-color:  #f7fcc7;\n",
       "        }    #T_cfc8f42e_ac3d_11e9_9b13_48a472e57715row5_col7 {\n",
       "            background-color:  #ffffd9;\n",
       "        }    #T_cfc8f42e_ac3d_11e9_9b13_48a472e57715row5_col8 {\n",
       "            background-color:  #f9fdcc;\n",
       "        }    #T_cfc8f42e_ac3d_11e9_9b13_48a472e57715row5_col9 {\n",
       "            background-color:  #e5f5b2;\n",
       "        }    #T_cfc8f42e_ac3d_11e9_9b13_48a472e57715row6_col0 {\n",
       "            background-color:  #fcfed3;\n",
       "        }    #T_cfc8f42e_ac3d_11e9_9b13_48a472e57715row6_col1 {\n",
       "            background-color:  #fdfed5;\n",
       "        }    #T_cfc8f42e_ac3d_11e9_9b13_48a472e57715row6_col2 {\n",
       "            background-color:  #fcfed3;\n",
       "        }    #T_cfc8f42e_ac3d_11e9_9b13_48a472e57715row6_col3 {\n",
       "            background-color:  #fafdce;\n",
       "        }    #T_cfc8f42e_ac3d_11e9_9b13_48a472e57715row6_col4 {\n",
       "            background-color:  #fdfed4;\n",
       "        }    #T_cfc8f42e_ac3d_11e9_9b13_48a472e57715row6_col5 {\n",
       "            background-color:  #f4fbc1;\n",
       "        }    #T_cfc8f42e_ac3d_11e9_9b13_48a472e57715row6_col6 {\n",
       "            background-color:  #081d58;\n",
       "        }    #T_cfc8f42e_ac3d_11e9_9b13_48a472e57715row6_col7 {\n",
       "            background-color:  #f8fcca;\n",
       "        }    #T_cfc8f42e_ac3d_11e9_9b13_48a472e57715row6_col8 {\n",
       "            background-color:  #ffffd9;\n",
       "        }    #T_cfc8f42e_ac3d_11e9_9b13_48a472e57715row6_col9 {\n",
       "            background-color:  #f0f9b8;\n",
       "        }    #T_cfc8f42e_ac3d_11e9_9b13_48a472e57715row7_col0 {\n",
       "            background-color:  #fcfed1;\n",
       "        }    #T_cfc8f42e_ac3d_11e9_9b13_48a472e57715row7_col1 {\n",
       "            background-color:  #feffd6;\n",
       "        }    #T_cfc8f42e_ac3d_11e9_9b13_48a472e57715row7_col2 {\n",
       "            background-color:  #fcfed1;\n",
       "        }    #T_cfc8f42e_ac3d_11e9_9b13_48a472e57715row7_col3 {\n",
       "            background-color:  #f9fdcb;\n",
       "        }    #T_cfc8f42e_ac3d_11e9_9b13_48a472e57715row7_col4 {\n",
       "            background-color:  #f4fbc1;\n",
       "        }    #T_cfc8f42e_ac3d_11e9_9b13_48a472e57715row7_col5 {\n",
       "            background-color:  #ffffd9;\n",
       "        }    #T_cfc8f42e_ac3d_11e9_9b13_48a472e57715row7_col6 {\n",
       "            background-color:  #fafdcf;\n",
       "        }    #T_cfc8f42e_ac3d_11e9_9b13_48a472e57715row7_col7 {\n",
       "            background-color:  #081d58;\n",
       "        }    #T_cfc8f42e_ac3d_11e9_9b13_48a472e57715row7_col8 {\n",
       "            background-color:  #ffffd9;\n",
       "        }    #T_cfc8f42e_ac3d_11e9_9b13_48a472e57715row7_col9 {\n",
       "            background-color:  #f7fcc7;\n",
       "        }    #T_cfc8f42e_ac3d_11e9_9b13_48a472e57715row8_col0 {\n",
       "            background-color:  #fcfed1;\n",
       "        }    #T_cfc8f42e_ac3d_11e9_9b13_48a472e57715row8_col1 {\n",
       "            background-color:  #fdfed5;\n",
       "        }    #T_cfc8f42e_ac3d_11e9_9b13_48a472e57715row8_col2 {\n",
       "            background-color:  #fcfed1;\n",
       "        }    #T_cfc8f42e_ac3d_11e9_9b13_48a472e57715row8_col3 {\n",
       "            background-color:  #fafdce;\n",
       "        }    #T_cfc8f42e_ac3d_11e9_9b13_48a472e57715row8_col4 {\n",
       "            background-color:  #f4fbc1;\n",
       "        }    #T_cfc8f42e_ac3d_11e9_9b13_48a472e57715row8_col5 {\n",
       "            background-color:  #f7fcc6;\n",
       "        }    #T_cfc8f42e_ac3d_11e9_9b13_48a472e57715row8_col6 {\n",
       "            background-color:  #ffffd9;\n",
       "        }    #T_cfc8f42e_ac3d_11e9_9b13_48a472e57715row8_col7 {\n",
       "            background-color:  #fcfed3;\n",
       "        }    #T_cfc8f42e_ac3d_11e9_9b13_48a472e57715row8_col8 {\n",
       "            background-color:  #081d58;\n",
       "        }    #T_cfc8f42e_ac3d_11e9_9b13_48a472e57715row8_col9 {\n",
       "            background-color:  #f7fcc6;\n",
       "        }    #T_cfc8f42e_ac3d_11e9_9b13_48a472e57715row9_col0 {\n",
       "            background-color:  #f9fdcb;\n",
       "        }    #T_cfc8f42e_ac3d_11e9_9b13_48a472e57715row9_col1 {\n",
       "            background-color:  #ffffd9;\n",
       "        }    #T_cfc8f42e_ac3d_11e9_9b13_48a472e57715row9_col2 {\n",
       "            background-color:  #fdfed5;\n",
       "        }    #T_cfc8f42e_ac3d_11e9_9b13_48a472e57715row9_col3 {\n",
       "            background-color:  #ffffd9;\n",
       "        }    #T_cfc8f42e_ac3d_11e9_9b13_48a472e57715row9_col4 {\n",
       "            background-color:  #ffffd9;\n",
       "        }    #T_cfc8f42e_ac3d_11e9_9b13_48a472e57715row9_col5 {\n",
       "            background-color:  #e5f5b2;\n",
       "        }    #T_cfc8f42e_ac3d_11e9_9b13_48a472e57715row9_col6 {\n",
       "            background-color:  #f3fabf;\n",
       "        }    #T_cfc8f42e_ac3d_11e9_9b13_48a472e57715row9_col7 {\n",
       "            background-color:  #f8fcc9;\n",
       "        }    #T_cfc8f42e_ac3d_11e9_9b13_48a472e57715row9_col8 {\n",
       "            background-color:  #f9fdcc;\n",
       "        }    #T_cfc8f42e_ac3d_11e9_9b13_48a472e57715row9_col9 {\n",
       "            background-color:  #081d58;\n",
       "        }</style>  \n",
       "<table id=\"T_cfc8f42e_ac3d_11e9_9b13_48a472e57715\" > \n",
       "<thead>    <tr> \n",
       "        <th class=\"blank level0\" ></th> \n",
       "        <th class=\"col_heading level0 col0\" >5</th> \n",
       "        <th class=\"col_heading level0 col1\" >6</th> \n",
       "        <th class=\"col_heading level0 col2\" >7</th> \n",
       "        <th class=\"col_heading level0 col3\" >10</th> \n",
       "        <th class=\"col_heading level0 col4\" >14</th> \n",
       "        <th class=\"col_heading level0 col5\" >15</th> \n",
       "        <th class=\"col_heading level0 col6\" >17</th> \n",
       "        <th class=\"col_heading level0 col7\" >19</th> \n",
       "        <th class=\"col_heading level0 col8\" >30</th> \n",
       "        <th class=\"col_heading level0 col9\" >31</th> \n",
       "    </tr></thead> \n",
       "<tbody>    <tr> \n",
       "        <th id=\"T_cfc8f42e_ac3d_11e9_9b13_48a472e57715level0_row0\" class=\"row_heading level0 row0\" >5</th> \n",
       "        <td id=\"T_cfc8f42e_ac3d_11e9_9b13_48a472e57715row0_col0\" class=\"data row0 col0\" >1</td> \n",
       "        <td id=\"T_cfc8f42e_ac3d_11e9_9b13_48a472e57715row0_col1\" class=\"data row0 col1\" >-0.132019</td> \n",
       "        <td id=\"T_cfc8f42e_ac3d_11e9_9b13_48a472e57715row0_col2\" class=\"data row0 col2\" >-0.0114506</td> \n",
       "        <td id=\"T_cfc8f42e_ac3d_11e9_9b13_48a472e57715row0_col3\" class=\"data row0 col3\" >-0.140086</td> \n",
       "        <td id=\"T_cfc8f42e_ac3d_11e9_9b13_48a472e57715row0_col4\" class=\"data row0 col4\" >-0.154914</td> \n",
       "        <td id=\"T_cfc8f42e_ac3d_11e9_9b13_48a472e57715row0_col5\" class=\"data row0 col5\" >-0.161212</td> \n",
       "        <td id=\"T_cfc8f42e_ac3d_11e9_9b13_48a472e57715row0_col6\" class=\"data row0 col6\" >-0.13566</td> \n",
       "        <td id=\"T_cfc8f42e_ac3d_11e9_9b13_48a472e57715row0_col7\" class=\"data row0 col7\" >-0.131306</td> \n",
       "        <td id=\"T_cfc8f42e_ac3d_11e9_9b13_48a472e57715row0_col8\" class=\"data row0 col8\" >-0.132931</td> \n",
       "        <td id=\"T_cfc8f42e_ac3d_11e9_9b13_48a472e57715row0_col9\" class=\"data row0 col9\" >-0.108818</td> \n",
       "    </tr>    <tr> \n",
       "        <th id=\"T_cfc8f42e_ac3d_11e9_9b13_48a472e57715level0_row1\" class=\"row_heading level0 row1\" >6</th> \n",
       "        <td id=\"T_cfc8f42e_ac3d_11e9_9b13_48a472e57715row1_col0\" class=\"data row1 col0\" >-0.132019</td> \n",
       "        <td id=\"T_cfc8f42e_ac3d_11e9_9b13_48a472e57715row1_col1\" class=\"data row1 col1\" >1</td> \n",
       "        <td id=\"T_cfc8f42e_ac3d_11e9_9b13_48a472e57715row1_col2\" class=\"data row1 col2\" >-0.1314</td> \n",
       "        <td id=\"T_cfc8f42e_ac3d_11e9_9b13_48a472e57715row1_col3\" class=\"data row1 col3\" >-0.0909589</td> \n",
       "        <td id=\"T_cfc8f42e_ac3d_11e9_9b13_48a472e57715row1_col4\" class=\"data row1 col4\" >-0.0670986</td> \n",
       "        <td id=\"T_cfc8f42e_ac3d_11e9_9b13_48a472e57715row1_col5\" class=\"data row1 col5\" >-0.0913132</td> \n",
       "        <td id=\"T_cfc8f42e_ac3d_11e9_9b13_48a472e57715row1_col6\" class=\"data row1 col6\" >-0.132288</td> \n",
       "        <td id=\"T_cfc8f42e_ac3d_11e9_9b13_48a472e57715row1_col7\" class=\"data row1 col7\" >-0.133475</td> \n",
       "        <td id=\"T_cfc8f42e_ac3d_11e9_9b13_48a472e57715row1_col8\" class=\"data row1 col8\" >-0.130391</td> \n",
       "        <td id=\"T_cfc8f42e_ac3d_11e9_9b13_48a472e57715row1_col9\" class=\"data row1 col9\" >-0.14622</td> \n",
       "    </tr>    <tr> \n",
       "        <th id=\"T_cfc8f42e_ac3d_11e9_9b13_48a472e57715level0_row2\" class=\"row_heading level0 row2\" >7</th> \n",
       "        <td id=\"T_cfc8f42e_ac3d_11e9_9b13_48a472e57715row2_col0\" class=\"data row2 col0\" >-0.0114506</td> \n",
       "        <td id=\"T_cfc8f42e_ac3d_11e9_9b13_48a472e57715row2_col1\" class=\"data row2 col1\" >-0.1314</td> \n",
       "        <td id=\"T_cfc8f42e_ac3d_11e9_9b13_48a472e57715row2_col2\" class=\"data row2 col2\" >1</td> \n",
       "        <td id=\"T_cfc8f42e_ac3d_11e9_9b13_48a472e57715row2_col3\" class=\"data row2 col3\" >-0.108742</td> \n",
       "        <td id=\"T_cfc8f42e_ac3d_11e9_9b13_48a472e57715row2_col4\" class=\"data row2 col4\" >-0.153915</td> \n",
       "        <td id=\"T_cfc8f42e_ac3d_11e9_9b13_48a472e57715row2_col5\" class=\"data row2 col5\" >-0.161902</td> \n",
       "        <td id=\"T_cfc8f42e_ac3d_11e9_9b13_48a472e57715row2_col6\" class=\"data row2 col6\" >-0.135989</td> \n",
       "        <td id=\"T_cfc8f42e_ac3d_11e9_9b13_48a472e57715row2_col7\" class=\"data row2 col7\" >-0.131163</td> \n",
       "        <td id=\"T_cfc8f42e_ac3d_11e9_9b13_48a472e57715row2_col8\" class=\"data row2 col8\" >-0.132867</td> \n",
       "        <td id=\"T_cfc8f42e_ac3d_11e9_9b13_48a472e57715row2_col9\" class=\"data row2 col9\" >-0.143909</td> \n",
       "    </tr>    <tr> \n",
       "        <th id=\"T_cfc8f42e_ac3d_11e9_9b13_48a472e57715level0_row3\" class=\"row_heading level0 row3\" >10</th> \n",
       "        <td id=\"T_cfc8f42e_ac3d_11e9_9b13_48a472e57715row3_col0\" class=\"data row3 col0\" >-0.140086</td> \n",
       "        <td id=\"T_cfc8f42e_ac3d_11e9_9b13_48a472e57715row3_col1\" class=\"data row3 col1\" >-0.0909589</td> \n",
       "        <td id=\"T_cfc8f42e_ac3d_11e9_9b13_48a472e57715row3_col2\" class=\"data row3 col2\" >-0.108742</td> \n",
       "        <td id=\"T_cfc8f42e_ac3d_11e9_9b13_48a472e57715row3_col3\" class=\"data row3 col3\" >1</td> \n",
       "        <td id=\"T_cfc8f42e_ac3d_11e9_9b13_48a472e57715row3_col4\" class=\"data row3 col4\" >-0.0644397</td> \n",
       "        <td id=\"T_cfc8f42e_ac3d_11e9_9b13_48a472e57715row3_col5\" class=\"data row3 col5\" >-0.0914889</td> \n",
       "        <td id=\"T_cfc8f42e_ac3d_11e9_9b13_48a472e57715row3_col6\" class=\"data row3 col6\" >-0.112317</td> \n",
       "        <td id=\"T_cfc8f42e_ac3d_11e9_9b13_48a472e57715row3_col7\" class=\"data row3 col7\" >-0.102616</td> \n",
       "        <td id=\"T_cfc8f42e_ac3d_11e9_9b13_48a472e57715row3_col8\" class=\"data row3 col8\" >-0.111768</td> \n",
       "        <td id=\"T_cfc8f42e_ac3d_11e9_9b13_48a472e57715row3_col9\" class=\"data row3 col9\" >-0.154414</td> \n",
       "    </tr>    <tr> \n",
       "        <th id=\"T_cfc8f42e_ac3d_11e9_9b13_48a472e57715level0_row4\" class=\"row_heading level0 row4\" >14</th> \n",
       "        <td id=\"T_cfc8f42e_ac3d_11e9_9b13_48a472e57715row4_col0\" class=\"data row4 col0\" >-0.154914</td> \n",
       "        <td id=\"T_cfc8f42e_ac3d_11e9_9b13_48a472e57715row4_col1\" class=\"data row4 col1\" >-0.0670986</td> \n",
       "        <td id=\"T_cfc8f42e_ac3d_11e9_9b13_48a472e57715row4_col2\" class=\"data row4 col2\" >-0.153915</td> \n",
       "        <td id=\"T_cfc8f42e_ac3d_11e9_9b13_48a472e57715row4_col3\" class=\"data row4 col3\" >-0.0644397</td> \n",
       "        <td id=\"T_cfc8f42e_ac3d_11e9_9b13_48a472e57715row4_col4\" class=\"data row4 col4\" >1</td> \n",
       "        <td id=\"T_cfc8f42e_ac3d_11e9_9b13_48a472e57715row4_col5\" class=\"data row4 col5\" >0.0512395</td> \n",
       "        <td id=\"T_cfc8f42e_ac3d_11e9_9b13_48a472e57715row4_col6\" class=\"data row4 col6\" >-0.140131</td> \n",
       "        <td id=\"T_cfc8f42e_ac3d_11e9_9b13_48a472e57715row4_col7\" class=\"data row4 col7\" >-0.0727919</td> \n",
       "        <td id=\"T_cfc8f42e_ac3d_11e9_9b13_48a472e57715row4_col8\" class=\"data row4 col8\" >-0.0728604</td> \n",
       "        <td id=\"T_cfc8f42e_ac3d_11e9_9b13_48a472e57715row4_col9\" class=\"data row4 col9\" >-0.162647</td> \n",
       "    </tr>    <tr> \n",
       "        <th id=\"T_cfc8f42e_ac3d_11e9_9b13_48a472e57715level0_row5\" class=\"row_heading level0 row5\" >15</th> \n",
       "        <td id=\"T_cfc8f42e_ac3d_11e9_9b13_48a472e57715row5_col0\" class=\"data row5 col0\" >-0.161212</td> \n",
       "        <td id=\"T_cfc8f42e_ac3d_11e9_9b13_48a472e57715row5_col1\" class=\"data row5 col1\" >-0.0913132</td> \n",
       "        <td id=\"T_cfc8f42e_ac3d_11e9_9b13_48a472e57715row5_col2\" class=\"data row5 col2\" >-0.161902</td> \n",
       "        <td id=\"T_cfc8f42e_ac3d_11e9_9b13_48a472e57715row5_col3\" class=\"data row5 col3\" >-0.0914889</td> \n",
       "        <td id=\"T_cfc8f42e_ac3d_11e9_9b13_48a472e57715row5_col4\" class=\"data row5 col4\" >0.0512395</td> \n",
       "        <td id=\"T_cfc8f42e_ac3d_11e9_9b13_48a472e57715row5_col5\" class=\"data row5 col5\" >1</td> \n",
       "        <td id=\"T_cfc8f42e_ac3d_11e9_9b13_48a472e57715row5_col6\" class=\"data row5 col6\" >-0.0749422</td> \n",
       "        <td id=\"T_cfc8f42e_ac3d_11e9_9b13_48a472e57715row5_col7\" class=\"data row5 col7\" >-0.159095</td> \n",
       "        <td id=\"T_cfc8f42e_ac3d_11e9_9b13_48a472e57715row5_col8\" class=\"data row5 col8\" >-0.093649</td> \n",
       "        <td id=\"T_cfc8f42e_ac3d_11e9_9b13_48a472e57715row5_col9\" class=\"data row5 col9\" >0.0182394</td> \n",
       "    </tr>    <tr> \n",
       "        <th id=\"T_cfc8f42e_ac3d_11e9_9b13_48a472e57715level0_row6\" class=\"row_heading level0 row6\" >17</th> \n",
       "        <td id=\"T_cfc8f42e_ac3d_11e9_9b13_48a472e57715row6_col0\" class=\"data row6 col0\" >-0.13566</td> \n",
       "        <td id=\"T_cfc8f42e_ac3d_11e9_9b13_48a472e57715row6_col1\" class=\"data row6 col1\" >-0.132288</td> \n",
       "        <td id=\"T_cfc8f42e_ac3d_11e9_9b13_48a472e57715row6_col2\" class=\"data row6 col2\" >-0.135989</td> \n",
       "        <td id=\"T_cfc8f42e_ac3d_11e9_9b13_48a472e57715row6_col3\" class=\"data row6 col3\" >-0.112317</td> \n",
       "        <td id=\"T_cfc8f42e_ac3d_11e9_9b13_48a472e57715row6_col4\" class=\"data row6 col4\" >-0.140131</td> \n",
       "        <td id=\"T_cfc8f42e_ac3d_11e9_9b13_48a472e57715row6_col5\" class=\"data row6 col5\" >-0.0749422</td> \n",
       "        <td id=\"T_cfc8f42e_ac3d_11e9_9b13_48a472e57715row6_col6\" class=\"data row6 col6\" >1</td> \n",
       "        <td id=\"T_cfc8f42e_ac3d_11e9_9b13_48a472e57715row6_col7\" class=\"data row6 col7\" >-0.101879</td> \n",
       "        <td id=\"T_cfc8f42e_ac3d_11e9_9b13_48a472e57715row6_col8\" class=\"data row6 col8\" >-0.138763</td> \n",
       "        <td id=\"T_cfc8f42e_ac3d_11e9_9b13_48a472e57715row6_col9\" class=\"data row6 col9\" >-0.0425499</td> \n",
       "    </tr>    <tr> \n",
       "        <th id=\"T_cfc8f42e_ac3d_11e9_9b13_48a472e57715level0_row7\" class=\"row_heading level0 row7\" >19</th> \n",
       "        <td id=\"T_cfc8f42e_ac3d_11e9_9b13_48a472e57715row7_col0\" class=\"data row7 col0\" >-0.131306</td> \n",
       "        <td id=\"T_cfc8f42e_ac3d_11e9_9b13_48a472e57715row7_col1\" class=\"data row7 col1\" >-0.133475</td> \n",
       "        <td id=\"T_cfc8f42e_ac3d_11e9_9b13_48a472e57715row7_col2\" class=\"data row7 col2\" >-0.131163</td> \n",
       "        <td id=\"T_cfc8f42e_ac3d_11e9_9b13_48a472e57715row7_col3\" class=\"data row7 col3\" >-0.102616</td> \n",
       "        <td id=\"T_cfc8f42e_ac3d_11e9_9b13_48a472e57715row7_col4\" class=\"data row7 col4\" >-0.0727919</td> \n",
       "        <td id=\"T_cfc8f42e_ac3d_11e9_9b13_48a472e57715row7_col5\" class=\"data row7 col5\" >-0.159095</td> \n",
       "        <td id=\"T_cfc8f42e_ac3d_11e9_9b13_48a472e57715row7_col6\" class=\"data row7 col6\" >-0.101879</td> \n",
       "        <td id=\"T_cfc8f42e_ac3d_11e9_9b13_48a472e57715row7_col7\" class=\"data row7 col7\" >1</td> \n",
       "        <td id=\"T_cfc8f42e_ac3d_11e9_9b13_48a472e57715row7_col8\" class=\"data row7 col8\" >-0.134538</td> \n",
       "        <td id=\"T_cfc8f42e_ac3d_11e9_9b13_48a472e57715row7_col9\" class=\"data row7 col9\" >-0.0975828</td> \n",
       "    </tr>    <tr> \n",
       "        <th id=\"T_cfc8f42e_ac3d_11e9_9b13_48a472e57715level0_row8\" class=\"row_heading level0 row8\" >30</th> \n",
       "        <td id=\"T_cfc8f42e_ac3d_11e9_9b13_48a472e57715row8_col0\" class=\"data row8 col0\" >-0.132931</td> \n",
       "        <td id=\"T_cfc8f42e_ac3d_11e9_9b13_48a472e57715row8_col1\" class=\"data row8 col1\" >-0.130391</td> \n",
       "        <td id=\"T_cfc8f42e_ac3d_11e9_9b13_48a472e57715row8_col2\" class=\"data row8 col2\" >-0.132867</td> \n",
       "        <td id=\"T_cfc8f42e_ac3d_11e9_9b13_48a472e57715row8_col3\" class=\"data row8 col3\" >-0.111768</td> \n",
       "        <td id=\"T_cfc8f42e_ac3d_11e9_9b13_48a472e57715row8_col4\" class=\"data row8 col4\" >-0.0728604</td> \n",
       "        <td id=\"T_cfc8f42e_ac3d_11e9_9b13_48a472e57715row8_col5\" class=\"data row8 col5\" >-0.093649</td> \n",
       "        <td id=\"T_cfc8f42e_ac3d_11e9_9b13_48a472e57715row8_col6\" class=\"data row8 col6\" >-0.138763</td> \n",
       "        <td id=\"T_cfc8f42e_ac3d_11e9_9b13_48a472e57715row8_col7\" class=\"data row8 col7\" >-0.134538</td> \n",
       "        <td id=\"T_cfc8f42e_ac3d_11e9_9b13_48a472e57715row8_col8\" class=\"data row8 col8\" >1</td> \n",
       "        <td id=\"T_cfc8f42e_ac3d_11e9_9b13_48a472e57715row8_col9\" class=\"data row8 col9\" >-0.0941818</td> \n",
       "    </tr>    <tr> \n",
       "        <th id=\"T_cfc8f42e_ac3d_11e9_9b13_48a472e57715level0_row9\" class=\"row_heading level0 row9\" >31</th> \n",
       "        <td id=\"T_cfc8f42e_ac3d_11e9_9b13_48a472e57715row9_col0\" class=\"data row9 col0\" >-0.108818</td> \n",
       "        <td id=\"T_cfc8f42e_ac3d_11e9_9b13_48a472e57715row9_col1\" class=\"data row9 col1\" >-0.14622</td> \n",
       "        <td id=\"T_cfc8f42e_ac3d_11e9_9b13_48a472e57715row9_col2\" class=\"data row9 col2\" >-0.143909</td> \n",
       "        <td id=\"T_cfc8f42e_ac3d_11e9_9b13_48a472e57715row9_col3\" class=\"data row9 col3\" >-0.154414</td> \n",
       "        <td id=\"T_cfc8f42e_ac3d_11e9_9b13_48a472e57715row9_col4\" class=\"data row9 col4\" >-0.162647</td> \n",
       "        <td id=\"T_cfc8f42e_ac3d_11e9_9b13_48a472e57715row9_col5\" class=\"data row9 col5\" >0.0182394</td> \n",
       "        <td id=\"T_cfc8f42e_ac3d_11e9_9b13_48a472e57715row9_col6\" class=\"data row9 col6\" >-0.0425499</td> \n",
       "        <td id=\"T_cfc8f42e_ac3d_11e9_9b13_48a472e57715row9_col7\" class=\"data row9 col7\" >-0.0975828</td> \n",
       "        <td id=\"T_cfc8f42e_ac3d_11e9_9b13_48a472e57715row9_col8\" class=\"data row9 col8\" >-0.0941818</td> \n",
       "        <td id=\"T_cfc8f42e_ac3d_11e9_9b13_48a472e57715row9_col9\" class=\"data row9 col9\" >1</td> \n",
       "    </tr></tbody> \n",
       "</table> "
      ],
      "text/plain": [
       "<pandas.io.formats.style.Styler at 0x1ee94c03cf8>"
      ]
     },
     "execution_count": 73,
     "metadata": {},
     "output_type": "execute_result"
    }
   ],
   "source": [
    "# Plotting co-relation matrix\n",
    "\n",
    "corr = top_beers_df.corr()\n",
    "corr.style.background_gradient(cmap=\"YlGnBu\")"
   ]
  },
  {
   "cell_type": "markdown",
   "metadata": {},
   "source": [
    "Observation: There is very less co-relation among first 10 beers."
   ]
  },
  {
   "cell_type": "markdown",
   "metadata": {},
   "source": [
    "### Evaluation\n",
    "\n",
    "Evaluation will be same as we have seen above for the prediction. The only difference being, we would evaluate for the beer already rated by the user insead of predicting it for the beer not rated by the user. "
   ]
  },
  {
   "cell_type": "markdown",
   "metadata": {},
   "source": [
    "#### Using User Similarity"
   ]
  },
  {
   "cell_type": "code",
   "execution_count": 74,
   "metadata": {},
   "outputs": [
    {
     "name": "stdout",
     "output_type": "stream",
     "text": [
      "[[1.         0.         0.         ... 0.         0.         0.        ]\n",
      " [0.         1.         0.00204252 ... 0.         0.         0.        ]\n",
      " [0.         0.00204252 1.         ... 0.         0.         0.        ]\n",
      " ...\n",
      " [0.         0.         0.         ... 1.         0.         0.        ]\n",
      " [0.         0.         0.         ... 0.         1.         0.        ]\n",
      " [0.         0.         0.         ... 0.         0.         1.        ]]\n"
     ]
    }
   ],
   "source": [
    "test_beer_features = test.pivot(\n",
    "    index='review_profilename',\n",
    "    columns='beer_beerid',\n",
    "    values='review_overall'\n",
    ")\n",
    "mean = np.nanmean(test_beer_features, axis=1)\n",
    "test_df_subtracted = (test_beer_features.T-mean).T\n",
    "\n",
    "# User Similarity Matrix\n",
    "test_user_correlation = 1 - pairwise_distances(test_df_subtracted.fillna(0), metric='cosine')\n",
    "test_user_correlation[np.isnan(test_user_correlation)] = 0\n",
    "print(test_user_correlation)"
   ]
  },
  {
   "cell_type": "code",
   "execution_count": 75,
   "metadata": {},
   "outputs": [
    {
     "data": {
      "text/plain": [
       "array([[0.        , 0.71003498, 0.14019804, ..., 0.07272433, 0.67266557,\n",
       "        0.15391425],\n",
       "       [0.        , 0.39480418, 0.69544922, ..., 0.05281819, 0.44162009,\n",
       "        0.36488834],\n",
       "       [0.3415747 , 0.24260738, 0.55829356, ..., 0.        , 0.61913376,\n",
       "        1.01759282],\n",
       "       ...,\n",
       "       [0.28239174, 1.84207442, 1.56870338, ..., 0.43112603, 0.55563754,\n",
       "        0.17305097],\n",
       "       [0.5166354 , 1.1817433 , 1.36712047, ..., 0.24411048, 0.62523433,\n",
       "        0.17298813],\n",
       "       [0.89303895, 2.35202034, 1.12192906, ..., 0.30748989, 0.25328376,\n",
       "        0.10085667]])"
      ]
     },
     "execution_count": 75,
     "metadata": {},
     "output_type": "execute_result"
    }
   ],
   "source": [
    "test_user_correlation[test_user_correlation<0]=0\n",
    "test_user_predicted_ratings = np.dot(test_user_correlation, test_beer_features.fillna(0))\n",
    "test_user_predicted_ratings"
   ]
  },
  {
   "cell_type": "markdown",
   "metadata": {},
   "source": [
    "#### Doing prediction for the beer rated by the user"
   ]
  },
  {
   "cell_type": "code",
   "execution_count": 76,
   "metadata": {},
   "outputs": [],
   "source": [
    "test_user_final_rating = np.multiply(test_user_predicted_ratings,dummy_test)"
   ]
  },
  {
   "cell_type": "code",
   "execution_count": 77,
   "metadata": {},
   "outputs": [
    {
     "data": {
      "text/html": [
       "<div>\n",
       "<style scoped>\n",
       "    .dataframe tbody tr th:only-of-type {\n",
       "        vertical-align: middle;\n",
       "    }\n",
       "\n",
       "    .dataframe tbody tr th {\n",
       "        vertical-align: top;\n",
       "    }\n",
       "\n",
       "    .dataframe thead th {\n",
       "        text-align: right;\n",
       "    }\n",
       "</style>\n",
       "<table border=\"1\" class=\"dataframe\">\n",
       "  <thead>\n",
       "    <tr style=\"text-align: right;\">\n",
       "      <th>beer_beerid</th>\n",
       "      <th>5</th>\n",
       "      <th>6</th>\n",
       "      <th>7</th>\n",
       "      <th>10</th>\n",
       "      <th>14</th>\n",
       "      <th>15</th>\n",
       "      <th>17</th>\n",
       "      <th>19</th>\n",
       "      <th>30</th>\n",
       "      <th>31</th>\n",
       "      <th>...</th>\n",
       "      <th>71919</th>\n",
       "      <th>71969</th>\n",
       "      <th>72138</th>\n",
       "      <th>73131</th>\n",
       "      <th>74123</th>\n",
       "      <th>74272</th>\n",
       "      <th>74323</th>\n",
       "      <th>74390</th>\n",
       "      <th>74986</th>\n",
       "      <th>75086</th>\n",
       "    </tr>\n",
       "    <tr>\n",
       "      <th>review_profilename</th>\n",
       "      <th></th>\n",
       "      <th></th>\n",
       "      <th></th>\n",
       "      <th></th>\n",
       "      <th></th>\n",
       "      <th></th>\n",
       "      <th></th>\n",
       "      <th></th>\n",
       "      <th></th>\n",
       "      <th></th>\n",
       "      <th></th>\n",
       "      <th></th>\n",
       "      <th></th>\n",
       "      <th></th>\n",
       "      <th></th>\n",
       "      <th></th>\n",
       "      <th></th>\n",
       "      <th></th>\n",
       "      <th></th>\n",
       "      <th></th>\n",
       "      <th></th>\n",
       "    </tr>\n",
       "  </thead>\n",
       "  <tbody>\n",
       "    <tr>\n",
       "      <th>0110x011</th>\n",
       "      <td>0.0</td>\n",
       "      <td>0.0</td>\n",
       "      <td>0.0</td>\n",
       "      <td>0.0</td>\n",
       "      <td>0.0</td>\n",
       "      <td>0.0</td>\n",
       "      <td>0.0</td>\n",
       "      <td>0.0</td>\n",
       "      <td>0.0</td>\n",
       "      <td>0.0</td>\n",
       "      <td>...</td>\n",
       "      <td>0.0</td>\n",
       "      <td>0.0</td>\n",
       "      <td>0.0</td>\n",
       "      <td>0.0</td>\n",
       "      <td>0.000000</td>\n",
       "      <td>0.0</td>\n",
       "      <td>0.0</td>\n",
       "      <td>0.0</td>\n",
       "      <td>0.0</td>\n",
       "      <td>0.0</td>\n",
       "    </tr>\n",
       "    <tr>\n",
       "      <th>05Harley</th>\n",
       "      <td>0.0</td>\n",
       "      <td>0.0</td>\n",
       "      <td>0.0</td>\n",
       "      <td>0.0</td>\n",
       "      <td>0.0</td>\n",
       "      <td>0.0</td>\n",
       "      <td>0.0</td>\n",
       "      <td>0.0</td>\n",
       "      <td>0.0</td>\n",
       "      <td>0.0</td>\n",
       "      <td>...</td>\n",
       "      <td>0.0</td>\n",
       "      <td>0.0</td>\n",
       "      <td>0.0</td>\n",
       "      <td>0.0</td>\n",
       "      <td>0.000000</td>\n",
       "      <td>0.0</td>\n",
       "      <td>0.0</td>\n",
       "      <td>0.0</td>\n",
       "      <td>0.0</td>\n",
       "      <td>0.0</td>\n",
       "    </tr>\n",
       "    <tr>\n",
       "      <th>100floods</th>\n",
       "      <td>0.0</td>\n",
       "      <td>0.0</td>\n",
       "      <td>0.0</td>\n",
       "      <td>0.0</td>\n",
       "      <td>0.0</td>\n",
       "      <td>0.0</td>\n",
       "      <td>0.0</td>\n",
       "      <td>0.0</td>\n",
       "      <td>0.0</td>\n",
       "      <td>0.0</td>\n",
       "      <td>...</td>\n",
       "      <td>0.0</td>\n",
       "      <td>0.0</td>\n",
       "      <td>0.0</td>\n",
       "      <td>0.0</td>\n",
       "      <td>0.000000</td>\n",
       "      <td>0.0</td>\n",
       "      <td>0.0</td>\n",
       "      <td>0.0</td>\n",
       "      <td>0.0</td>\n",
       "      <td>0.0</td>\n",
       "    </tr>\n",
       "    <tr>\n",
       "      <th>1759Girl</th>\n",
       "      <td>0.0</td>\n",
       "      <td>0.0</td>\n",
       "      <td>0.0</td>\n",
       "      <td>0.0</td>\n",
       "      <td>0.0</td>\n",
       "      <td>0.0</td>\n",
       "      <td>0.0</td>\n",
       "      <td>0.0</td>\n",
       "      <td>0.0</td>\n",
       "      <td>0.0</td>\n",
       "      <td>...</td>\n",
       "      <td>0.0</td>\n",
       "      <td>0.0</td>\n",
       "      <td>0.0</td>\n",
       "      <td>0.0</td>\n",
       "      <td>0.000000</td>\n",
       "      <td>0.0</td>\n",
       "      <td>0.0</td>\n",
       "      <td>0.0</td>\n",
       "      <td>0.0</td>\n",
       "      <td>0.0</td>\n",
       "    </tr>\n",
       "    <tr>\n",
       "      <th>1fastz28</th>\n",
       "      <td>0.0</td>\n",
       "      <td>0.0</td>\n",
       "      <td>0.0</td>\n",
       "      <td>0.0</td>\n",
       "      <td>0.0</td>\n",
       "      <td>0.0</td>\n",
       "      <td>0.0</td>\n",
       "      <td>0.0</td>\n",
       "      <td>0.0</td>\n",
       "      <td>0.0</td>\n",
       "      <td>...</td>\n",
       "      <td>0.0</td>\n",
       "      <td>0.0</td>\n",
       "      <td>0.0</td>\n",
       "      <td>0.0</td>\n",
       "      <td>4.002528</td>\n",
       "      <td>0.0</td>\n",
       "      <td>0.0</td>\n",
       "      <td>0.0</td>\n",
       "      <td>0.0</td>\n",
       "      <td>0.0</td>\n",
       "    </tr>\n",
       "  </tbody>\n",
       "</table>\n",
       "<p>5 rows × 2028 columns</p>\n",
       "</div>"
      ],
      "text/plain": [
       "beer_beerid         5      6      7      10     14     15     17     19     \\\n",
       "review_profilename                                                           \n",
       "0110x011              0.0    0.0    0.0    0.0    0.0    0.0    0.0    0.0   \n",
       "05Harley              0.0    0.0    0.0    0.0    0.0    0.0    0.0    0.0   \n",
       "100floods             0.0    0.0    0.0    0.0    0.0    0.0    0.0    0.0   \n",
       "1759Girl              0.0    0.0    0.0    0.0    0.0    0.0    0.0    0.0   \n",
       "1fastz28              0.0    0.0    0.0    0.0    0.0    0.0    0.0    0.0   \n",
       "\n",
       "beer_beerid         30     31     ...    71919  71969  72138  73131     74123  \\\n",
       "review_profilename                ...                                           \n",
       "0110x011              0.0    0.0  ...      0.0    0.0    0.0    0.0  0.000000   \n",
       "05Harley              0.0    0.0  ...      0.0    0.0    0.0    0.0  0.000000   \n",
       "100floods             0.0    0.0  ...      0.0    0.0    0.0    0.0  0.000000   \n",
       "1759Girl              0.0    0.0  ...      0.0    0.0    0.0    0.0  0.000000   \n",
       "1fastz28              0.0    0.0  ...      0.0    0.0    0.0    0.0  4.002528   \n",
       "\n",
       "beer_beerid         74272  74323  74390  74986  75086  \n",
       "review_profilename                                     \n",
       "0110x011              0.0    0.0    0.0    0.0    0.0  \n",
       "05Harley              0.0    0.0    0.0    0.0    0.0  \n",
       "100floods             0.0    0.0    0.0    0.0    0.0  \n",
       "1759Girl              0.0    0.0    0.0    0.0    0.0  \n",
       "1fastz28              0.0    0.0    0.0    0.0    0.0  \n",
       "\n",
       "[5 rows x 2028 columns]"
      ]
     },
     "execution_count": 77,
     "metadata": {},
     "output_type": "execute_result"
    }
   ],
   "source": [
    "test_user_final_rating.head()"
   ]
  },
  {
   "cell_type": "markdown",
   "metadata": {},
   "source": [
    "#### Calculating the RMSE for only the beers rated by user. For  RMSE, normalising the rating to (1,5) range. "
   ]
  },
  {
   "cell_type": "code",
   "execution_count": 78,
   "metadata": {},
   "outputs": [
    {
     "name": "stdout",
     "output_type": "stream",
     "text": [
      "MinMaxScaler(copy=True, feature_range=(1, 5))\n",
      "[[nan nan nan ... nan nan nan]\n",
      " [nan nan nan ... nan nan nan]\n",
      " [nan nan nan ... nan nan nan]\n",
      " ...\n",
      " [nan nan nan ... nan nan nan]\n",
      " [nan nan nan ... nan nan nan]\n",
      " [nan nan nan ... nan nan nan]]\n"
     ]
    }
   ],
   "source": [
    "X  = test_user_final_rating.copy() \n",
    "X = X[X>0]\n",
    "\n",
    "scaler = MinMaxScaler(feature_range=(1, 5))\n",
    "print(scaler.fit(X))\n",
    "y = (scaler.transform(X))\n",
    "\n",
    "print(y)"
   ]
  },
  {
   "cell_type": "code",
   "execution_count": 79,
   "metadata": {},
   "outputs": [],
   "source": [
    "test_ = test.pivot(\n",
    "    index='review_profilename',\n",
    "    columns='beer_beerid',\n",
    "    values='review_overall'\n",
    ")"
   ]
  },
  {
   "cell_type": "code",
   "execution_count": 80,
   "metadata": {},
   "outputs": [],
   "source": [
    "# Finding total non-NaN value\n",
    "total_non_nan = np.count_nonzero(~np.isnan(y))"
   ]
  },
  {
   "cell_type": "code",
   "execution_count": 81,
   "metadata": {},
   "outputs": [
    {
     "name": "stdout",
     "output_type": "stream",
     "text": [
      "1.774788920111984\n"
     ]
    }
   ],
   "source": [
    "rmse = (sum(sum((test_ - y )**2))/total_non_nan)**0.5\n",
    "print(rmse)"
   ]
  },
  {
   "cell_type": "markdown",
   "metadata": {},
   "source": [
    "#### Using Item similarity"
   ]
  },
  {
   "cell_type": "code",
   "execution_count": 82,
   "metadata": {},
   "outputs": [],
   "source": [
    "test_beer_features = test.pivot(\n",
    "    index='review_profilename',\n",
    "    columns='beer_beerid',\n",
    "    values='review_overall'\n",
    ").T\n",
    "\n",
    "mean = np.nanmean(test_beer_features, axis=1)\n",
    "test_df_subtracted = (test_beer_features.T-mean).T\n",
    "\n",
    "test_item_correlation = 1 - pairwise_distances(test_df_subtracted.fillna(0), metric='cosine')\n",
    "test_item_correlation[np.isnan(test_item_correlation)] = 0\n",
    "test_item_correlation[test_item_correlation<0]=0"
   ]
  },
  {
   "cell_type": "code",
   "execution_count": 83,
   "metadata": {},
   "outputs": [
    {
     "data": {
      "text/plain": [
       "(2028, 2028)"
      ]
     },
     "execution_count": 83,
     "metadata": {},
     "output_type": "execute_result"
    }
   ],
   "source": [
    "test_item_correlation.shape"
   ]
  },
  {
   "cell_type": "code",
   "execution_count": 84,
   "metadata": {},
   "outputs": [
    {
     "data": {
      "text/plain": [
       "(2028, 2936)"
      ]
     },
     "execution_count": 84,
     "metadata": {},
     "output_type": "execute_result"
    }
   ],
   "source": [
    "test_beer_features.shape"
   ]
  },
  {
   "cell_type": "code",
   "execution_count": 85,
   "metadata": {},
   "outputs": [
    {
     "data": {
      "text/html": [
       "<div>\n",
       "<style scoped>\n",
       "    .dataframe tbody tr th:only-of-type {\n",
       "        vertical-align: middle;\n",
       "    }\n",
       "\n",
       "    .dataframe tbody tr th {\n",
       "        vertical-align: top;\n",
       "    }\n",
       "\n",
       "    .dataframe thead th {\n",
       "        text-align: right;\n",
       "    }\n",
       "</style>\n",
       "<table border=\"1\" class=\"dataframe\">\n",
       "  <thead>\n",
       "    <tr style=\"text-align: right;\">\n",
       "      <th>beer_beerid</th>\n",
       "      <th>5</th>\n",
       "      <th>6</th>\n",
       "      <th>7</th>\n",
       "      <th>10</th>\n",
       "      <th>14</th>\n",
       "      <th>15</th>\n",
       "      <th>17</th>\n",
       "      <th>19</th>\n",
       "      <th>30</th>\n",
       "      <th>31</th>\n",
       "      <th>...</th>\n",
       "      <th>71919</th>\n",
       "      <th>71969</th>\n",
       "      <th>72138</th>\n",
       "      <th>73131</th>\n",
       "      <th>74123</th>\n",
       "      <th>74272</th>\n",
       "      <th>74323</th>\n",
       "      <th>74390</th>\n",
       "      <th>74986</th>\n",
       "      <th>75086</th>\n",
       "    </tr>\n",
       "    <tr>\n",
       "      <th>review_profilename</th>\n",
       "      <th></th>\n",
       "      <th></th>\n",
       "      <th></th>\n",
       "      <th></th>\n",
       "      <th></th>\n",
       "      <th></th>\n",
       "      <th></th>\n",
       "      <th></th>\n",
       "      <th></th>\n",
       "      <th></th>\n",
       "      <th></th>\n",
       "      <th></th>\n",
       "      <th></th>\n",
       "      <th></th>\n",
       "      <th></th>\n",
       "      <th></th>\n",
       "      <th></th>\n",
       "      <th></th>\n",
       "      <th></th>\n",
       "      <th></th>\n",
       "      <th></th>\n",
       "    </tr>\n",
       "  </thead>\n",
       "  <tbody>\n",
       "    <tr>\n",
       "      <th>0110x011</th>\n",
       "      <td>0.0</td>\n",
       "      <td>0.0</td>\n",
       "      <td>0.0</td>\n",
       "      <td>0.0</td>\n",
       "      <td>0.0</td>\n",
       "      <td>0.0</td>\n",
       "      <td>0.0</td>\n",
       "      <td>0.0</td>\n",
       "      <td>0.0</td>\n",
       "      <td>0.0</td>\n",
       "      <td>...</td>\n",
       "      <td>0.0</td>\n",
       "      <td>0.0</td>\n",
       "      <td>0.0</td>\n",
       "      <td>0.0</td>\n",
       "      <td>0.000000</td>\n",
       "      <td>0.0</td>\n",
       "      <td>0.0</td>\n",
       "      <td>0.0</td>\n",
       "      <td>0.0</td>\n",
       "      <td>0.0</td>\n",
       "    </tr>\n",
       "    <tr>\n",
       "      <th>05Harley</th>\n",
       "      <td>0.0</td>\n",
       "      <td>0.0</td>\n",
       "      <td>0.0</td>\n",
       "      <td>0.0</td>\n",
       "      <td>0.0</td>\n",
       "      <td>0.0</td>\n",
       "      <td>0.0</td>\n",
       "      <td>0.0</td>\n",
       "      <td>0.0</td>\n",
       "      <td>0.0</td>\n",
       "      <td>...</td>\n",
       "      <td>0.0</td>\n",
       "      <td>0.0</td>\n",
       "      <td>0.0</td>\n",
       "      <td>0.0</td>\n",
       "      <td>0.000000</td>\n",
       "      <td>0.0</td>\n",
       "      <td>0.0</td>\n",
       "      <td>0.0</td>\n",
       "      <td>0.0</td>\n",
       "      <td>0.0</td>\n",
       "    </tr>\n",
       "    <tr>\n",
       "      <th>100floods</th>\n",
       "      <td>0.0</td>\n",
       "      <td>0.0</td>\n",
       "      <td>0.0</td>\n",
       "      <td>0.0</td>\n",
       "      <td>0.0</td>\n",
       "      <td>0.0</td>\n",
       "      <td>0.0</td>\n",
       "      <td>0.0</td>\n",
       "      <td>0.0</td>\n",
       "      <td>0.0</td>\n",
       "      <td>...</td>\n",
       "      <td>0.0</td>\n",
       "      <td>0.0</td>\n",
       "      <td>0.0</td>\n",
       "      <td>0.0</td>\n",
       "      <td>0.000000</td>\n",
       "      <td>0.0</td>\n",
       "      <td>0.0</td>\n",
       "      <td>0.0</td>\n",
       "      <td>0.0</td>\n",
       "      <td>0.0</td>\n",
       "    </tr>\n",
       "    <tr>\n",
       "      <th>1759Girl</th>\n",
       "      <td>0.0</td>\n",
       "      <td>0.0</td>\n",
       "      <td>0.0</td>\n",
       "      <td>0.0</td>\n",
       "      <td>0.0</td>\n",
       "      <td>0.0</td>\n",
       "      <td>0.0</td>\n",
       "      <td>0.0</td>\n",
       "      <td>0.0</td>\n",
       "      <td>0.0</td>\n",
       "      <td>...</td>\n",
       "      <td>0.0</td>\n",
       "      <td>0.0</td>\n",
       "      <td>0.0</td>\n",
       "      <td>0.0</td>\n",
       "      <td>0.000000</td>\n",
       "      <td>0.0</td>\n",
       "      <td>0.0</td>\n",
       "      <td>0.0</td>\n",
       "      <td>0.0</td>\n",
       "      <td>0.0</td>\n",
       "    </tr>\n",
       "    <tr>\n",
       "      <th>1fastz28</th>\n",
       "      <td>0.0</td>\n",
       "      <td>0.0</td>\n",
       "      <td>0.0</td>\n",
       "      <td>0.0</td>\n",
       "      <td>0.0</td>\n",
       "      <td>0.0</td>\n",
       "      <td>0.0</td>\n",
       "      <td>0.0</td>\n",
       "      <td>0.0</td>\n",
       "      <td>0.0</td>\n",
       "      <td>...</td>\n",
       "      <td>0.0</td>\n",
       "      <td>0.0</td>\n",
       "      <td>0.0</td>\n",
       "      <td>0.0</td>\n",
       "      <td>4.084946</td>\n",
       "      <td>0.0</td>\n",
       "      <td>0.0</td>\n",
       "      <td>0.0</td>\n",
       "      <td>0.0</td>\n",
       "      <td>0.0</td>\n",
       "    </tr>\n",
       "  </tbody>\n",
       "</table>\n",
       "<p>5 rows × 2028 columns</p>\n",
       "</div>"
      ],
      "text/plain": [
       "beer_beerid         5      6      7      10     14     15     17     19     \\\n",
       "review_profilename                                                           \n",
       "0110x011              0.0    0.0    0.0    0.0    0.0    0.0    0.0    0.0   \n",
       "05Harley              0.0    0.0    0.0    0.0    0.0    0.0    0.0    0.0   \n",
       "100floods             0.0    0.0    0.0    0.0    0.0    0.0    0.0    0.0   \n",
       "1759Girl              0.0    0.0    0.0    0.0    0.0    0.0    0.0    0.0   \n",
       "1fastz28              0.0    0.0    0.0    0.0    0.0    0.0    0.0    0.0   \n",
       "\n",
       "beer_beerid         30     31     ...    71919  71969  72138  73131     74123  \\\n",
       "review_profilename                ...                                           \n",
       "0110x011              0.0    0.0  ...      0.0    0.0    0.0    0.0  0.000000   \n",
       "05Harley              0.0    0.0  ...      0.0    0.0    0.0    0.0  0.000000   \n",
       "100floods             0.0    0.0  ...      0.0    0.0    0.0    0.0  0.000000   \n",
       "1759Girl              0.0    0.0  ...      0.0    0.0    0.0    0.0  0.000000   \n",
       "1fastz28              0.0    0.0  ...      0.0    0.0    0.0    0.0  4.084946   \n",
       "\n",
       "beer_beerid         74272  74323  74390  74986  75086  \n",
       "review_profilename                                     \n",
       "0110x011              0.0    0.0    0.0    0.0    0.0  \n",
       "05Harley              0.0    0.0    0.0    0.0    0.0  \n",
       "100floods             0.0    0.0    0.0    0.0    0.0  \n",
       "1759Girl              0.0    0.0    0.0    0.0    0.0  \n",
       "1fastz28              0.0    0.0    0.0    0.0    0.0  \n",
       "\n",
       "[5 rows x 2028 columns]"
      ]
     },
     "execution_count": 85,
     "metadata": {},
     "output_type": "execute_result"
    }
   ],
   "source": [
    "test_item_predicted_ratings = (np.dot(test_item_correlation, test_beer_features.fillna(0))).T\n",
    "test_item_final_rating = np.multiply(test_item_predicted_ratings,dummy_test)\n",
    "test_item_final_rating.head()"
   ]
  },
  {
   "cell_type": "code",
   "execution_count": 86,
   "metadata": {},
   "outputs": [],
   "source": [
    "#### Calculating the RMSE value for item based"
   ]
  },
  {
   "cell_type": "code",
   "execution_count": 87,
   "metadata": {},
   "outputs": [
    {
     "name": "stdout",
     "output_type": "stream",
     "text": [
      "MinMaxScaler(copy=True, feature_range=(1, 5))\n"
     ]
    }
   ],
   "source": [
    "X  = test_item_final_rating.copy() \n",
    "X = X[X>0]\n",
    "\n",
    "scaler = MinMaxScaler(feature_range=(1, 5))\n",
    "print(scaler.fit(X))\n",
    "y = (scaler.transform(X))\n",
    "\n",
    "\n",
    "test_ = test.pivot(\n",
    "    index='review_profilename',\n",
    "    columns='beer_beerid',\n",
    "    values='review_overall'\n",
    ")\n",
    "\n",
    "# Finding total non-NaN value\n",
    "total_non_nan = np.count_nonzero(~np.isnan(y))"
   ]
  },
  {
   "cell_type": "code",
   "execution_count": 88,
   "metadata": {},
   "outputs": [
    {
     "name": "stdout",
     "output_type": "stream",
     "text": [
      "2.087198050848183\n"
     ]
    }
   ],
   "source": [
    "rmse = (sum(sum((test_ - y )**2))/total_non_nan)**0.5\n",
    "print(rmse)"
   ]
  },
  {
   "cell_type": "markdown",
   "metadata": {},
   "source": [
    "### Observations & Conclusions:\n",
    "1. We are getting RMSE value ~ 1.774 for User Based Recommendation system.\n",
    "2. We are getting RMSE value ~ 2.087 for Item based Recommendation system.\n",
    "\n",
    "So, we would use User based recommendation system as it is having less RMSE hence better at predicting recommendations."
   ]
  },
  {
   "cell_type": "markdown",
   "metadata": {},
   "source": [
    "### Give the names of the top 5 beers that you would recommend to the users 'cokes', 'genog' and 'giblet' using both the model"
   ]
  },
  {
   "cell_type": "markdown",
   "metadata": {},
   "source": [
    "#### For userid = cokes"
   ]
  },
  {
   "cell_type": "code",
   "execution_count": 89,
   "metadata": {},
   "outputs": [
    {
     "data": {
      "text/plain": [
       "beer_beerid\n",
       "412     40.363336\n",
       "276     38.893851\n",
       "34      35.500900\n",
       "1904    34.778834\n",
       "4083    34.285060\n",
       "Name: cokes, dtype: float64"
      ]
     },
     "execution_count": 89,
     "metadata": {},
     "output_type": "execute_result"
    }
   ],
   "source": [
    "# user based model recommendation\n",
    "user_final_rating.loc['cokes'].sort_values(ascending=False)[0:5]"
   ]
  },
  {
   "cell_type": "markdown",
   "metadata": {},
   "source": [
    "#### So, top 5 user based recommended beers for userid = cokes are beers = 412, 276, 34, 1904, 4083."
   ]
  },
  {
   "cell_type": "code",
   "execution_count": 90,
   "metadata": {},
   "outputs": [
    {
     "data": {
      "text/plain": [
       "beer_beerid\n",
       "2147     13.664619\n",
       "21363    13.475804\n",
       "8116     13.420274\n",
       "34363    13.406703\n",
       "46749    13.026569\n",
       "Name: cokes, dtype: float64"
      ]
     },
     "execution_count": 90,
     "metadata": {},
     "output_type": "execute_result"
    }
   ],
   "source": [
    "# item based model recommendation\n",
    "item_final_rating.loc['cokes'].sort_values(ascending=False)[0:5]"
   ]
  },
  {
   "cell_type": "markdown",
   "metadata": {},
   "source": [
    "#### So, top 5 item based recommended beers for userid = cokes are beers = 2147, 21363, 8116, 34363, 46749."
   ]
  },
  {
   "cell_type": "markdown",
   "metadata": {},
   "source": [
    "#### For userid = genog"
   ]
  },
  {
   "cell_type": "code",
   "execution_count": 91,
   "metadata": {},
   "outputs": [
    {
     "data": {
      "text/plain": [
       "beer_beerid\n",
       "1904    34.117497\n",
       "2093    34.019984\n",
       "1093    33.957436\n",
       "412     33.543892\n",
       "4083    32.322719\n",
       "Name: genog, dtype: float64"
      ]
     },
     "execution_count": 91,
     "metadata": {},
     "output_type": "execute_result"
    }
   ],
   "source": [
    "# user based model recommendation\n",
    "user_final_rating.loc['genog'].sort_values(ascending=False)[0:5]"
   ]
  },
  {
   "cell_type": "markdown",
   "metadata": {},
   "source": [
    "#### So, top 5 user based recommended beers for userid = genog are beers = 1904, 2093, 1093, 412, 4083."
   ]
  },
  {
   "cell_type": "code",
   "execution_count": 92,
   "metadata": {},
   "outputs": [
    {
     "data": {
      "text/plain": [
       "beer_beerid\n",
       "21363    6.248602\n",
       "46749    6.104930\n",
       "34363    5.678770\n",
       "33467    5.506348\n",
       "39873    5.367307\n",
       "Name: genog, dtype: float64"
      ]
     },
     "execution_count": 92,
     "metadata": {},
     "output_type": "execute_result"
    }
   ],
   "source": [
    "# item based model recommendation\n",
    "item_final_rating.loc['genog'].sort_values(ascending=False)[0:5]"
   ]
  },
  {
   "cell_type": "markdown",
   "metadata": {},
   "source": [
    "#### So, top 5 item based recommended beers for userid = genog are beers = 21363, 46749, 34363, 33467, 39873."
   ]
  },
  {
   "cell_type": "markdown",
   "metadata": {},
   "source": [
    "#### For userid = giblet"
   ]
  },
  {
   "cell_type": "code",
   "execution_count": 93,
   "metadata": {},
   "outputs": [
    {
     "data": {
      "text/plain": [
       "beer_beerid\n",
       "1904    41.734141\n",
       "412     37.415177\n",
       "276     36.881111\n",
       "2093    36.125715\n",
       "355     35.600116\n",
       "Name: giblet, dtype: float64"
      ]
     },
     "execution_count": 93,
     "metadata": {},
     "output_type": "execute_result"
    }
   ],
   "source": [
    "# user based model recommendation\n",
    "user_final_rating.loc['giblet'].sort_values(ascending=False)[0:5]"
   ]
  },
  {
   "cell_type": "markdown",
   "metadata": {},
   "source": [
    "#### So, top 5 user based recommended beers for userid = giblet are beers = 1904, 412, 276, 2093, 355."
   ]
  },
  {
   "cell_type": "code",
   "execution_count": 94,
   "metadata": {},
   "outputs": [
    {
     "data": {
      "text/plain": [
       "beer_beerid\n",
       "9584     4.538399\n",
       "27842    4.493149\n",
       "6590     4.437567\n",
       "9365     4.362919\n",
       "22387    4.250933\n",
       "Name: giblet, dtype: float64"
      ]
     },
     "execution_count": 94,
     "metadata": {},
     "output_type": "execute_result"
    }
   ],
   "source": [
    "# item based model recommendation\n",
    "item_final_rating.loc['giblet'].sort_values(ascending=False)[0:5]"
   ]
  },
  {
   "cell_type": "markdown",
   "metadata": {},
   "source": [
    "#### So, top 5 item based recommended beers for userid = giblet are beers = 9584, 27842, 6590, 9365, 22387."
   ]
  },
  {
   "cell_type": "markdown",
   "metadata": {},
   "source": [
    "### Observation and Conclusions:\n",
    "\n",
    "1. We would prefer user based recommendation model as it is having lower RMSE.\n",
    "2. User based recommender system is giving similar results for above 3 users.\n",
    "3. Item based system is giving different sets of results and is not able to identify similarity of taste for above users like the user based system. "
   ]
  },
  {
   "cell_type": "code",
   "execution_count": null,
   "metadata": {},
   "outputs": [],
   "source": []
  }
 ],
 "metadata": {
  "kernelspec": {
   "display_name": "Python 3",
   "language": "python",
   "name": "python3"
  },
  "language_info": {
   "codemirror_mode": {
    "name": "ipython",
    "version": 3
   },
   "file_extension": ".py",
   "mimetype": "text/x-python",
   "name": "python",
   "nbconvert_exporter": "python",
   "pygments_lexer": "ipython3",
   "version": "3.7.1"
  }
 },
 "nbformat": 4,
 "nbformat_minor": 2
}
