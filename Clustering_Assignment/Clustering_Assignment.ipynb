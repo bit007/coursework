{
 "cells": [
  {
   "cell_type": "code",
   "execution_count": 1,
   "metadata": {},
   "outputs": [],
   "source": [
    "# Supress Warnings\n",
    "\n",
    "import warnings\n",
    "warnings.filterwarnings('ignore')"
   ]
  },
  {
   "cell_type": "code",
   "execution_count": 2,
   "metadata": {},
   "outputs": [],
   "source": [
    "# Import the numpy and pandas packages\n",
    "\n",
    "import numpy as np\n",
    "import pandas as pd\n",
    "import seaborn as sns\n",
    "import matplotlib.pyplot as plt\n",
    "import plotly.plotly as py\n",
    "\n",
    "# sns.set(style=\"darkgrid\")\n",
    "\n",
    "\n",
    "# To Scale our data\n",
    "from sklearn.preprocessing import scale\n",
    "\n",
    "# To perform KMeans clustering \n",
    "from sklearn.cluster import KMeans\n",
    "\n",
    "# To perform Hierarchical clustering\n",
    "from scipy.cluster.hierarchy import linkage\n",
    "from scipy.cluster.hierarchy import dendrogram\n",
    "from scipy.cluster.hierarchy import cut_tree"
   ]
  },
  {
   "cell_type": "markdown",
   "metadata": {},
   "source": [
    "### Reading and Understanding the Data\n",
    "\n",
    "Import and read the dataset given"
   ]
  },
  {
   "cell_type": "code",
   "execution_count": 3,
   "metadata": {},
   "outputs": [
    {
     "data": {
      "text/html": [
       "<div>\n",
       "<style scoped>\n",
       "    .dataframe tbody tr th:only-of-type {\n",
       "        vertical-align: middle;\n",
       "    }\n",
       "\n",
       "    .dataframe tbody tr th {\n",
       "        vertical-align: top;\n",
       "    }\n",
       "\n",
       "    .dataframe thead th {\n",
       "        text-align: right;\n",
       "    }\n",
       "</style>\n",
       "<table border=\"1\" class=\"dataframe\">\n",
       "  <thead>\n",
       "    <tr style=\"text-align: right;\">\n",
       "      <th></th>\n",
       "      <th>country</th>\n",
       "      <th>child_mort</th>\n",
       "      <th>exports</th>\n",
       "      <th>health</th>\n",
       "      <th>imports</th>\n",
       "      <th>income</th>\n",
       "      <th>inflation</th>\n",
       "      <th>life_expec</th>\n",
       "      <th>total_fer</th>\n",
       "      <th>gdpp</th>\n",
       "    </tr>\n",
       "  </thead>\n",
       "  <tbody>\n",
       "    <tr>\n",
       "      <th>0</th>\n",
       "      <td>Afghanistan</td>\n",
       "      <td>90.2</td>\n",
       "      <td>10.0</td>\n",
       "      <td>7.58</td>\n",
       "      <td>44.9</td>\n",
       "      <td>1610</td>\n",
       "      <td>9.44</td>\n",
       "      <td>56.2</td>\n",
       "      <td>5.82</td>\n",
       "      <td>553</td>\n",
       "    </tr>\n",
       "    <tr>\n",
       "      <th>1</th>\n",
       "      <td>Albania</td>\n",
       "      <td>16.6</td>\n",
       "      <td>28.0</td>\n",
       "      <td>6.55</td>\n",
       "      <td>48.6</td>\n",
       "      <td>9930</td>\n",
       "      <td>4.49</td>\n",
       "      <td>76.3</td>\n",
       "      <td>1.65</td>\n",
       "      <td>4090</td>\n",
       "    </tr>\n",
       "    <tr>\n",
       "      <th>2</th>\n",
       "      <td>Algeria</td>\n",
       "      <td>27.3</td>\n",
       "      <td>38.4</td>\n",
       "      <td>4.17</td>\n",
       "      <td>31.4</td>\n",
       "      <td>12900</td>\n",
       "      <td>16.10</td>\n",
       "      <td>76.5</td>\n",
       "      <td>2.89</td>\n",
       "      <td>4460</td>\n",
       "    </tr>\n",
       "    <tr>\n",
       "      <th>3</th>\n",
       "      <td>Angola</td>\n",
       "      <td>119.0</td>\n",
       "      <td>62.3</td>\n",
       "      <td>2.85</td>\n",
       "      <td>42.9</td>\n",
       "      <td>5900</td>\n",
       "      <td>22.40</td>\n",
       "      <td>60.1</td>\n",
       "      <td>6.16</td>\n",
       "      <td>3530</td>\n",
       "    </tr>\n",
       "    <tr>\n",
       "      <th>4</th>\n",
       "      <td>Antigua and Barbuda</td>\n",
       "      <td>10.3</td>\n",
       "      <td>45.5</td>\n",
       "      <td>6.03</td>\n",
       "      <td>58.9</td>\n",
       "      <td>19100</td>\n",
       "      <td>1.44</td>\n",
       "      <td>76.8</td>\n",
       "      <td>2.13</td>\n",
       "      <td>12200</td>\n",
       "    </tr>\n",
       "  </tbody>\n",
       "</table>\n",
       "</div>"
      ],
      "text/plain": [
       "               country  child_mort  exports  health  imports  income  \\\n",
       "0          Afghanistan        90.2     10.0    7.58     44.9    1610   \n",
       "1              Albania        16.6     28.0    6.55     48.6    9930   \n",
       "2              Algeria        27.3     38.4    4.17     31.4   12900   \n",
       "3               Angola       119.0     62.3    2.85     42.9    5900   \n",
       "4  Antigua and Barbuda        10.3     45.5    6.03     58.9   19100   \n",
       "\n",
       "   inflation  life_expec  total_fer   gdpp  \n",
       "0       9.44        56.2       5.82    553  \n",
       "1       4.49        76.3       1.65   4090  \n",
       "2      16.10        76.5       2.89   4460  \n",
       "3      22.40        60.1       6.16   3530  \n",
       "4       1.44        76.8       2.13  12200  "
      ]
     },
     "execution_count": 3,
     "metadata": {},
     "output_type": "execute_result"
    }
   ],
   "source": [
    "countries = pd.read_csv(\"Country-data.csv\")\n",
    "countries.head()"
   ]
  },
  {
   "cell_type": "code",
   "execution_count": 4,
   "metadata": {},
   "outputs": [
    {
     "name": "stdout",
     "output_type": "stream",
     "text": [
      "(167, 10)\n",
      "<class 'pandas.core.frame.DataFrame'>\n",
      "RangeIndex: 167 entries, 0 to 166\n",
      "Data columns (total 10 columns):\n",
      "country       167 non-null object\n",
      "child_mort    167 non-null float64\n",
      "exports       167 non-null float64\n",
      "health        167 non-null float64\n",
      "imports       167 non-null float64\n",
      "income        167 non-null int64\n",
      "inflation     167 non-null float64\n",
      "life_expec    167 non-null float64\n",
      "total_fer     167 non-null float64\n",
      "gdpp          167 non-null int64\n",
      "dtypes: float64(7), int64(2), object(1)\n",
      "memory usage: 13.1+ KB\n",
      "None\n"
     ]
    }
   ],
   "source": [
    "# inspecting data and identifying total number of rows and for nulls in rows.\n",
    "print(countries.shape)\n",
    "print(countries.info())"
   ]
  },
  {
   "cell_type": "code",
   "execution_count": 5,
   "metadata": {},
   "outputs": [
    {
     "data": {
      "text/html": [
       "<div>\n",
       "<style scoped>\n",
       "    .dataframe tbody tr th:only-of-type {\n",
       "        vertical-align: middle;\n",
       "    }\n",
       "\n",
       "    .dataframe tbody tr th {\n",
       "        vertical-align: top;\n",
       "    }\n",
       "\n",
       "    .dataframe thead th {\n",
       "        text-align: right;\n",
       "    }\n",
       "</style>\n",
       "<table border=\"1\" class=\"dataframe\">\n",
       "  <thead>\n",
       "    <tr style=\"text-align: right;\">\n",
       "      <th></th>\n",
       "      <th>child_mort</th>\n",
       "      <th>exports</th>\n",
       "      <th>health</th>\n",
       "      <th>imports</th>\n",
       "      <th>income</th>\n",
       "      <th>inflation</th>\n",
       "      <th>life_expec</th>\n",
       "      <th>total_fer</th>\n",
       "      <th>gdpp</th>\n",
       "    </tr>\n",
       "  </thead>\n",
       "  <tbody>\n",
       "    <tr>\n",
       "      <th>count</th>\n",
       "      <td>167.000000</td>\n",
       "      <td>167.000000</td>\n",
       "      <td>167.000000</td>\n",
       "      <td>167.000000</td>\n",
       "      <td>167.000000</td>\n",
       "      <td>167.000000</td>\n",
       "      <td>167.000000</td>\n",
       "      <td>167.000000</td>\n",
       "      <td>167.000000</td>\n",
       "    </tr>\n",
       "    <tr>\n",
       "      <th>mean</th>\n",
       "      <td>38.270060</td>\n",
       "      <td>41.108976</td>\n",
       "      <td>6.815689</td>\n",
       "      <td>46.890215</td>\n",
       "      <td>17144.688623</td>\n",
       "      <td>7.781832</td>\n",
       "      <td>70.555689</td>\n",
       "      <td>2.947964</td>\n",
       "      <td>12964.155689</td>\n",
       "    </tr>\n",
       "    <tr>\n",
       "      <th>std</th>\n",
       "      <td>40.328931</td>\n",
       "      <td>27.412010</td>\n",
       "      <td>2.746837</td>\n",
       "      <td>24.209589</td>\n",
       "      <td>19278.067698</td>\n",
       "      <td>10.570704</td>\n",
       "      <td>8.893172</td>\n",
       "      <td>1.513848</td>\n",
       "      <td>18328.704809</td>\n",
       "    </tr>\n",
       "    <tr>\n",
       "      <th>min</th>\n",
       "      <td>2.600000</td>\n",
       "      <td>0.109000</td>\n",
       "      <td>1.810000</td>\n",
       "      <td>0.065900</td>\n",
       "      <td>609.000000</td>\n",
       "      <td>-4.210000</td>\n",
       "      <td>32.100000</td>\n",
       "      <td>1.150000</td>\n",
       "      <td>231.000000</td>\n",
       "    </tr>\n",
       "    <tr>\n",
       "      <th>25%</th>\n",
       "      <td>8.250000</td>\n",
       "      <td>23.800000</td>\n",
       "      <td>4.920000</td>\n",
       "      <td>30.200000</td>\n",
       "      <td>3355.000000</td>\n",
       "      <td>1.810000</td>\n",
       "      <td>65.300000</td>\n",
       "      <td>1.795000</td>\n",
       "      <td>1330.000000</td>\n",
       "    </tr>\n",
       "    <tr>\n",
       "      <th>50%</th>\n",
       "      <td>19.300000</td>\n",
       "      <td>35.000000</td>\n",
       "      <td>6.320000</td>\n",
       "      <td>43.300000</td>\n",
       "      <td>9960.000000</td>\n",
       "      <td>5.390000</td>\n",
       "      <td>73.100000</td>\n",
       "      <td>2.410000</td>\n",
       "      <td>4660.000000</td>\n",
       "    </tr>\n",
       "    <tr>\n",
       "      <th>75%</th>\n",
       "      <td>62.100000</td>\n",
       "      <td>51.350000</td>\n",
       "      <td>8.600000</td>\n",
       "      <td>58.750000</td>\n",
       "      <td>22800.000000</td>\n",
       "      <td>10.750000</td>\n",
       "      <td>76.800000</td>\n",
       "      <td>3.880000</td>\n",
       "      <td>14050.000000</td>\n",
       "    </tr>\n",
       "    <tr>\n",
       "      <th>max</th>\n",
       "      <td>208.000000</td>\n",
       "      <td>200.000000</td>\n",
       "      <td>17.900000</td>\n",
       "      <td>174.000000</td>\n",
       "      <td>125000.000000</td>\n",
       "      <td>104.000000</td>\n",
       "      <td>82.800000</td>\n",
       "      <td>7.490000</td>\n",
       "      <td>105000.000000</td>\n",
       "    </tr>\n",
       "  </tbody>\n",
       "</table>\n",
       "</div>"
      ],
      "text/plain": [
       "       child_mort     exports      health     imports         income  \\\n",
       "count  167.000000  167.000000  167.000000  167.000000     167.000000   \n",
       "mean    38.270060   41.108976    6.815689   46.890215   17144.688623   \n",
       "std     40.328931   27.412010    2.746837   24.209589   19278.067698   \n",
       "min      2.600000    0.109000    1.810000    0.065900     609.000000   \n",
       "25%      8.250000   23.800000    4.920000   30.200000    3355.000000   \n",
       "50%     19.300000   35.000000    6.320000   43.300000    9960.000000   \n",
       "75%     62.100000   51.350000    8.600000   58.750000   22800.000000   \n",
       "max    208.000000  200.000000   17.900000  174.000000  125000.000000   \n",
       "\n",
       "        inflation  life_expec   total_fer           gdpp  \n",
       "count  167.000000  167.000000  167.000000     167.000000  \n",
       "mean     7.781832   70.555689    2.947964   12964.155689  \n",
       "std     10.570704    8.893172    1.513848   18328.704809  \n",
       "min     -4.210000   32.100000    1.150000     231.000000  \n",
       "25%      1.810000   65.300000    1.795000    1330.000000  \n",
       "50%      5.390000   73.100000    2.410000    4660.000000  \n",
       "75%     10.750000   76.800000    3.880000   14050.000000  \n",
       "max    104.000000   82.800000    7.490000  105000.000000  "
      ]
     },
     "execution_count": 5,
     "metadata": {},
     "output_type": "execute_result"
    }
   ],
   "source": [
    "# From above we can see there are no nulls in the dataframe and there are a total of 167 records.\n",
    "\n",
    "countries.describe()"
   ]
  },
  {
   "cell_type": "code",
   "execution_count": 6,
   "metadata": {},
   "outputs": [
    {
     "data": {
      "text/plain": [
       "array(['Afghanistan', 'Albania', 'Algeria', 'Angola',\n",
       "       'Antigua and Barbuda', 'Argentina', 'Armenia', 'Australia',\n",
       "       'Austria', 'Azerbaijan', 'Bahamas', 'Bahrain', 'Bangladesh',\n",
       "       'Barbados', 'Belarus', 'Belgium', 'Belize', 'Benin', 'Bhutan',\n",
       "       'Bolivia', 'Bosnia and Herzegovina', 'Botswana', 'Brazil',\n",
       "       'Brunei', 'Bulgaria', 'Burkina Faso', 'Burundi', 'Cambodia',\n",
       "       'Cameroon', 'Canada', 'Cape Verde', 'Central African Republic',\n",
       "       'Chad', 'Chile', 'China', 'Colombia', 'Comoros',\n",
       "       'Congo, Dem. Rep.', 'Congo, Rep.', 'Costa Rica', \"Cote d'Ivoire\",\n",
       "       'Croatia', 'Cyprus', 'Czech Republic', 'Denmark',\n",
       "       'Dominican Republic', 'Ecuador', 'Egypt', 'El Salvador',\n",
       "       'Equatorial Guinea', 'Eritrea', 'Estonia', 'Fiji', 'Finland',\n",
       "       'France', 'Gabon', 'Gambia', 'Georgia', 'Germany', 'Ghana',\n",
       "       'Greece', 'Grenada', 'Guatemala', 'Guinea', 'Guinea-Bissau',\n",
       "       'Guyana', 'Haiti', 'Hungary', 'Iceland', 'India', 'Indonesia',\n",
       "       'Iran', 'Iraq', 'Ireland', 'Israel', 'Italy', 'Jamaica', 'Japan',\n",
       "       'Jordan', 'Kazakhstan', 'Kenya', 'Kiribati', 'Kuwait',\n",
       "       'Kyrgyz Republic', 'Lao', 'Latvia', 'Lebanon', 'Lesotho',\n",
       "       'Liberia', 'Libya', 'Lithuania', 'Luxembourg', 'Macedonia, FYR',\n",
       "       'Madagascar', 'Malawi', 'Malaysia', 'Maldives', 'Mali', 'Malta',\n",
       "       'Mauritania', 'Mauritius', 'Micronesia, Fed. Sts.', 'Moldova',\n",
       "       'Mongolia', 'Montenegro', 'Morocco', 'Mozambique', 'Myanmar',\n",
       "       'Namibia', 'Nepal', 'Netherlands', 'New Zealand', 'Niger',\n",
       "       'Nigeria', 'Norway', 'Oman', 'Pakistan', 'Panama', 'Paraguay',\n",
       "       'Peru', 'Philippines', 'Poland', 'Portugal', 'Qatar', 'Romania',\n",
       "       'Russia', 'Rwanda', 'Samoa', 'Saudi Arabia', 'Senegal', 'Serbia',\n",
       "       'Seychelles', 'Sierra Leone', 'Singapore', 'Slovak Republic',\n",
       "       'Slovenia', 'Solomon Islands', 'South Africa', 'South Korea',\n",
       "       'Spain', 'Sri Lanka', 'St. Vincent and the Grenadines', 'Sudan',\n",
       "       'Suriname', 'Sweden', 'Switzerland', 'Tajikistan', 'Tanzania',\n",
       "       'Thailand', 'Timor-Leste', 'Togo', 'Tonga', 'Tunisia', 'Turkey',\n",
       "       'Turkmenistan', 'Uganda', 'Ukraine', 'United Arab Emirates',\n",
       "       'United Kingdom', 'United States', 'Uruguay', 'Uzbekistan',\n",
       "       'Vanuatu', 'Venezuela', 'Vietnam', 'Yemen', 'Zambia'], dtype=object)"
      ]
     },
     "execution_count": 6,
     "metadata": {},
     "output_type": "execute_result"
    }
   ],
   "source": [
    "# All columns are numberic except country\n",
    "\n",
    "countries['country'].unique()\n",
    "\n",
    "# All country names are unique."
   ]
  },
  {
   "cell_type": "code",
   "execution_count": 7,
   "metadata": {},
   "outputs": [
    {
     "data": {
      "text/plain": [
       "country       167\n",
       "child_mort    139\n",
       "exports       147\n",
       "health        147\n",
       "imports       151\n",
       "income        156\n",
       "inflation     156\n",
       "life_expec    127\n",
       "total_fer     138\n",
       "gdpp          157\n",
       "dtype: int64"
      ]
     },
     "execution_count": 7,
     "metadata": {},
     "output_type": "execute_result"
    }
   ],
   "source": [
    "# Checking for unique values in all the columns\n",
    "\n",
    "countries.nunique()"
   ]
  },
  {
   "cell_type": "code",
   "execution_count": 8,
   "metadata": {},
   "outputs": [],
   "source": [
    "# There are some fields which are not unique across all the rows but they all are numeric.\n",
    "countries_df = countries.drop(['country' ], axis=1)"
   ]
  },
  {
   "cell_type": "code",
   "execution_count": 9,
   "metadata": {},
   "outputs": [
    {
     "data": {
      "image/png": "[encoded data removed]",
      "text/plain": [
       "<Figure size 864x504 with 2 Axes>"
      ]
     },
     "metadata": {
      "needs_background": "light"
     },
     "output_type": "display_data"
    }
   ],
   "source": [
    "# Creating co-relation plot to check colinearity\n",
    "\n",
    "plt.figure(figsize = (12, 7))\n",
    "sns.heatmap(countries_df.corr(), annot = True, cmap=\"YlGnBu\")\n",
    "plt.show()"
   ]
  },
  {
   "cell_type": "markdown",
   "metadata": {},
   "source": [
    "#### Observations:\n",
    "1. Child mortality is highly co-related with total fertility and life expectancy (negatively).\n",
    "2. Exports and imports are showing high corelation.\n",
    "3. Income and GDP are highly co-related. Income is also showing good co-realtion with life expectancy.\n",
    "4. Life expectancy is negatively co-related with Total Fertility and positively co-related with GDP."
   ]
  },
  {
   "cell_type": "code",
   "execution_count": 10,
   "metadata": {},
   "outputs": [
    {
     "data": {
      "text/html": [
       "<div>\n",
       "<style scoped>\n",
       "    .dataframe tbody tr th:only-of-type {\n",
       "        vertical-align: middle;\n",
       "    }\n",
       "\n",
       "    .dataframe tbody tr th {\n",
       "        vertical-align: top;\n",
       "    }\n",
       "\n",
       "    .dataframe thead th {\n",
       "        text-align: right;\n",
       "    }\n",
       "</style>\n",
       "<table border=\"1\" class=\"dataframe\">\n",
       "  <thead>\n",
       "    <tr style=\"text-align: right;\">\n",
       "      <th></th>\n",
       "      <th>child_mort</th>\n",
       "      <th>exports</th>\n",
       "      <th>health</th>\n",
       "      <th>imports</th>\n",
       "      <th>income</th>\n",
       "      <th>inflation</th>\n",
       "      <th>life_expec</th>\n",
       "      <th>total_fer</th>\n",
       "      <th>gdpp</th>\n",
       "    </tr>\n",
       "  </thead>\n",
       "  <tbody>\n",
       "    <tr>\n",
       "      <th>count</th>\n",
       "      <td>167.000000</td>\n",
       "      <td>167.000000</td>\n",
       "      <td>167.000000</td>\n",
       "      <td>167.000000</td>\n",
       "      <td>167.000000</td>\n",
       "      <td>167.000000</td>\n",
       "      <td>167.000000</td>\n",
       "      <td>167.000000</td>\n",
       "      <td>167.000000</td>\n",
       "    </tr>\n",
       "    <tr>\n",
       "      <th>mean</th>\n",
       "      <td>38.270060</td>\n",
       "      <td>41.108976</td>\n",
       "      <td>6.815689</td>\n",
       "      <td>46.890215</td>\n",
       "      <td>17144.688623</td>\n",
       "      <td>7.781832</td>\n",
       "      <td>70.555689</td>\n",
       "      <td>2.947964</td>\n",
       "      <td>12964.155689</td>\n",
       "    </tr>\n",
       "    <tr>\n",
       "      <th>std</th>\n",
       "      <td>40.328931</td>\n",
       "      <td>27.412010</td>\n",
       "      <td>2.746837</td>\n",
       "      <td>24.209589</td>\n",
       "      <td>19278.067698</td>\n",
       "      <td>10.570704</td>\n",
       "      <td>8.893172</td>\n",
       "      <td>1.513848</td>\n",
       "      <td>18328.704809</td>\n",
       "    </tr>\n",
       "    <tr>\n",
       "      <th>min</th>\n",
       "      <td>2.600000</td>\n",
       "      <td>0.109000</td>\n",
       "      <td>1.810000</td>\n",
       "      <td>0.065900</td>\n",
       "      <td>609.000000</td>\n",
       "      <td>-4.210000</td>\n",
       "      <td>32.100000</td>\n",
       "      <td>1.150000</td>\n",
       "      <td>231.000000</td>\n",
       "    </tr>\n",
       "    <tr>\n",
       "      <th>25%</th>\n",
       "      <td>8.250000</td>\n",
       "      <td>23.800000</td>\n",
       "      <td>4.920000</td>\n",
       "      <td>30.200000</td>\n",
       "      <td>3355.000000</td>\n",
       "      <td>1.810000</td>\n",
       "      <td>65.300000</td>\n",
       "      <td>1.795000</td>\n",
       "      <td>1330.000000</td>\n",
       "    </tr>\n",
       "    <tr>\n",
       "      <th>50%</th>\n",
       "      <td>19.300000</td>\n",
       "      <td>35.000000</td>\n",
       "      <td>6.320000</td>\n",
       "      <td>43.300000</td>\n",
       "      <td>9960.000000</td>\n",
       "      <td>5.390000</td>\n",
       "      <td>73.100000</td>\n",
       "      <td>2.410000</td>\n",
       "      <td>4660.000000</td>\n",
       "    </tr>\n",
       "    <tr>\n",
       "      <th>75%</th>\n",
       "      <td>62.100000</td>\n",
       "      <td>51.350000</td>\n",
       "      <td>8.600000</td>\n",
       "      <td>58.750000</td>\n",
       "      <td>22800.000000</td>\n",
       "      <td>10.750000</td>\n",
       "      <td>76.800000</td>\n",
       "      <td>3.880000</td>\n",
       "      <td>14050.000000</td>\n",
       "    </tr>\n",
       "    <tr>\n",
       "      <th>90%</th>\n",
       "      <td>100.220000</td>\n",
       "      <td>70.800000</td>\n",
       "      <td>10.940000</td>\n",
       "      <td>75.420000</td>\n",
       "      <td>41220.000000</td>\n",
       "      <td>16.640000</td>\n",
       "      <td>80.400000</td>\n",
       "      <td>5.322000</td>\n",
       "      <td>41840.000000</td>\n",
       "    </tr>\n",
       "    <tr>\n",
       "      <th>95%</th>\n",
       "      <td>116.000000</td>\n",
       "      <td>80.570000</td>\n",
       "      <td>11.570000</td>\n",
       "      <td>81.140000</td>\n",
       "      <td>48290.000000</td>\n",
       "      <td>20.870000</td>\n",
       "      <td>81.400000</td>\n",
       "      <td>5.861000</td>\n",
       "      <td>48610.000000</td>\n",
       "    </tr>\n",
       "    <tr>\n",
       "      <th>99%</th>\n",
       "      <td>153.400000</td>\n",
       "      <td>160.480000</td>\n",
       "      <td>13.474000</td>\n",
       "      <td>146.080000</td>\n",
       "      <td>84374.000000</td>\n",
       "      <td>41.478000</td>\n",
       "      <td>82.370000</td>\n",
       "      <td>6.563600</td>\n",
       "      <td>79088.000000</td>\n",
       "    </tr>\n",
       "    <tr>\n",
       "      <th>max</th>\n",
       "      <td>208.000000</td>\n",
       "      <td>200.000000</td>\n",
       "      <td>17.900000</td>\n",
       "      <td>174.000000</td>\n",
       "      <td>125000.000000</td>\n",
       "      <td>104.000000</td>\n",
       "      <td>82.800000</td>\n",
       "      <td>7.490000</td>\n",
       "      <td>105000.000000</td>\n",
       "    </tr>\n",
       "  </tbody>\n",
       "</table>\n",
       "</div>"
      ],
      "text/plain": [
       "       child_mort     exports      health     imports         income  \\\n",
       "count  167.000000  167.000000  167.000000  167.000000     167.000000   \n",
       "mean    38.270060   41.108976    6.815689   46.890215   17144.688623   \n",
       "std     40.328931   27.412010    2.746837   24.209589   19278.067698   \n",
       "min      2.600000    0.109000    1.810000    0.065900     609.000000   \n",
       "25%      8.250000   23.800000    4.920000   30.200000    3355.000000   \n",
       "50%     19.300000   35.000000    6.320000   43.300000    9960.000000   \n",
       "75%     62.100000   51.350000    8.600000   58.750000   22800.000000   \n",
       "90%    100.220000   70.800000   10.940000   75.420000   41220.000000   \n",
       "95%    116.000000   80.570000   11.570000   81.140000   48290.000000   \n",
       "99%    153.400000  160.480000   13.474000  146.080000   84374.000000   \n",
       "max    208.000000  200.000000   17.900000  174.000000  125000.000000   \n",
       "\n",
       "        inflation  life_expec   total_fer           gdpp  \n",
       "count  167.000000  167.000000  167.000000     167.000000  \n",
       "mean     7.781832   70.555689    2.947964   12964.155689  \n",
       "std     10.570704    8.893172    1.513848   18328.704809  \n",
       "min     -4.210000   32.100000    1.150000     231.000000  \n",
       "25%      1.810000   65.300000    1.795000    1330.000000  \n",
       "50%      5.390000   73.100000    2.410000    4660.000000  \n",
       "75%     10.750000   76.800000    3.880000   14050.000000  \n",
       "90%     16.640000   80.400000    5.322000   41840.000000  \n",
       "95%     20.870000   81.400000    5.861000   48610.000000  \n",
       "99%     41.478000   82.370000    6.563600   79088.000000  \n",
       "max    104.000000   82.800000    7.490000  105000.000000  "
      ]
     },
     "execution_count": 10,
     "metadata": {},
     "output_type": "execute_result"
    }
   ],
   "source": [
    "# Checking at different percentiles at 25%,50%,75%,90%,95% and 99%\n",
    "\n",
    "countries.describe(percentiles=[.25,.5,.75,.90,.95,.99])"
   ]
  },
  {
   "cell_type": "markdown",
   "metadata": {},
   "source": [
    "We can observe that there are some outliers. We will do the outlier treatment post doing the PCA."
   ]
  },
  {
   "cell_type": "markdown",
   "metadata": {},
   "source": [
    "### PCA"
   ]
  },
  {
   "cell_type": "code",
   "execution_count": 11,
   "metadata": {},
   "outputs": [
    {
     "name": "stderr",
     "output_type": "stream",
     "text": [
      "C:\\Users\\arisethi\\AppData\\Local\\Continuum\\anaconda3\\lib\\site-packages\\sklearn\\preprocessing\\data.py:625: DataConversionWarning:\n",
      "\n",
      "Data with input dtype int64, float64 were all converted to float64 by StandardScaler.\n",
      "\n",
      "C:\\Users\\arisethi\\AppData\\Local\\Continuum\\anaconda3\\lib\\site-packages\\sklearn\\base.py:462: DataConversionWarning:\n",
      "\n",
      "Data with input dtype int64, float64 were all converted to float64 by StandardScaler.\n",
      "\n"
     ]
    }
   ],
   "source": [
    "# Scaling the data before doing the PCA\n",
    "from sklearn.preprocessing import StandardScaler\n",
    "\n",
    "standard_scaler = StandardScaler()\n",
    "countries_scaled = standard_scaler.fit_transform(countries_df)"
   ]
  },
  {
   "cell_type": "code",
   "execution_count": 12,
   "metadata": {},
   "outputs": [
    {
     "data": {
      "text/html": [
       "<div>\n",
       "<style scoped>\n",
       "    .dataframe tbody tr th:only-of-type {\n",
       "        vertical-align: middle;\n",
       "    }\n",
       "\n",
       "    .dataframe tbody tr th {\n",
       "        vertical-align: top;\n",
       "    }\n",
       "\n",
       "    .dataframe thead th {\n",
       "        text-align: right;\n",
       "    }\n",
       "</style>\n",
       "<table border=\"1\" class=\"dataframe\">\n",
       "  <thead>\n",
       "    <tr style=\"text-align: right;\">\n",
       "      <th></th>\n",
       "      <th>child_mort</th>\n",
       "      <th>exports</th>\n",
       "      <th>health</th>\n",
       "      <th>imports</th>\n",
       "      <th>income</th>\n",
       "      <th>inflation</th>\n",
       "      <th>life_expec</th>\n",
       "      <th>total_fer</th>\n",
       "      <th>gdpp</th>\n",
       "    </tr>\n",
       "  </thead>\n",
       "  <tbody>\n",
       "    <tr>\n",
       "      <th>0</th>\n",
       "      <td>1.291532</td>\n",
       "      <td>-1.138280</td>\n",
       "      <td>0.279088</td>\n",
       "      <td>-0.082455</td>\n",
       "      <td>-0.808245</td>\n",
       "      <td>0.157336</td>\n",
       "      <td>-1.619092</td>\n",
       "      <td>1.902882</td>\n",
       "      <td>-0.679180</td>\n",
       "    </tr>\n",
       "    <tr>\n",
       "      <th>1</th>\n",
       "      <td>-0.538949</td>\n",
       "      <td>-0.479658</td>\n",
       "      <td>-0.097016</td>\n",
       "      <td>0.070837</td>\n",
       "      <td>-0.375369</td>\n",
       "      <td>-0.312347</td>\n",
       "      <td>0.647866</td>\n",
       "      <td>-0.859973</td>\n",
       "      <td>-0.485623</td>\n",
       "    </tr>\n",
       "    <tr>\n",
       "      <th>2</th>\n",
       "      <td>-0.272833</td>\n",
       "      <td>-0.099122</td>\n",
       "      <td>-0.966073</td>\n",
       "      <td>-0.641762</td>\n",
       "      <td>-0.220844</td>\n",
       "      <td>0.789274</td>\n",
       "      <td>0.670423</td>\n",
       "      <td>-0.038404</td>\n",
       "      <td>-0.465376</td>\n",
       "    </tr>\n",
       "    <tr>\n",
       "      <th>3</th>\n",
       "      <td>2.007808</td>\n",
       "      <td>0.775381</td>\n",
       "      <td>-1.448071</td>\n",
       "      <td>-0.165315</td>\n",
       "      <td>-0.585043</td>\n",
       "      <td>1.387054</td>\n",
       "      <td>-1.179234</td>\n",
       "      <td>2.128151</td>\n",
       "      <td>-0.516268</td>\n",
       "    </tr>\n",
       "    <tr>\n",
       "      <th>4</th>\n",
       "      <td>-0.695634</td>\n",
       "      <td>0.160668</td>\n",
       "      <td>-0.286894</td>\n",
       "      <td>0.497568</td>\n",
       "      <td>0.101732</td>\n",
       "      <td>-0.601749</td>\n",
       "      <td>0.704258</td>\n",
       "      <td>-0.541946</td>\n",
       "      <td>-0.041817</td>\n",
       "    </tr>\n",
       "  </tbody>\n",
       "</table>\n",
       "</div>"
      ],
      "text/plain": [
       "   child_mort   exports    health   imports    income  inflation  life_expec  \\\n",
       "0    1.291532 -1.138280  0.279088 -0.082455 -0.808245   0.157336   -1.619092   \n",
       "1   -0.538949 -0.479658 -0.097016  0.070837 -0.375369  -0.312347    0.647866   \n",
       "2   -0.272833 -0.099122 -0.966073 -0.641762 -0.220844   0.789274    0.670423   \n",
       "3    2.007808  0.775381 -1.448071 -0.165315 -0.585043   1.387054   -1.179234   \n",
       "4   -0.695634  0.160668 -0.286894  0.497568  0.101732  -0.601749    0.704258   \n",
       "\n",
       "   total_fer      gdpp  \n",
       "0   1.902882 -0.679180  \n",
       "1  -0.859973 -0.485623  \n",
       "2  -0.038404 -0.465376  \n",
       "3   2.128151 -0.516268  \n",
       "4  -0.541946 -0.041817  "
      ]
     },
     "execution_count": 12,
     "metadata": {},
     "output_type": "execute_result"
    }
   ],
   "source": [
    "# Converting the scaled array to dataframe\n",
    "countries_scaled_df = pd.DataFrame(countries_scaled)\n",
    "countries_scaled_df.columns = ['child_mort','exports', 'health', 'imports', 'income', 'inflation', 'life_expec', 'total_fer', 'gdpp']\n",
    "\n",
    "countries_scaled_df.head()"
   ]
  },
  {
   "cell_type": "code",
   "execution_count": 13,
   "metadata": {},
   "outputs": [],
   "source": [
    "# Improting the PCA module\n",
    "\n",
    "from sklearn.decomposition import PCA\n",
    "pca = PCA(svd_solver='randomized', random_state=42)"
   ]
  },
  {
   "cell_type": "code",
   "execution_count": 14,
   "metadata": {},
   "outputs": [
    {
     "data": {
      "text/plain": [
       "PCA(copy=True, iterated_power='auto', n_components=None, random_state=42,\n",
       "  svd_solver='randomized', tol=0.0, whiten=False)"
      ]
     },
     "execution_count": 14,
     "metadata": {},
     "output_type": "execute_result"
    }
   ],
   "source": [
    "# Doing the PCA on the data\n",
    "\n",
    "pca.fit(countries_scaled_df)"
   ]
  },
  {
   "cell_type": "code",
   "execution_count": 15,
   "metadata": {},
   "outputs": [
    {
     "data": {
      "text/html": [
       "<div>\n",
       "<style scoped>\n",
       "    .dataframe tbody tr th:only-of-type {\n",
       "        vertical-align: middle;\n",
       "    }\n",
       "\n",
       "    .dataframe tbody tr th {\n",
       "        vertical-align: top;\n",
       "    }\n",
       "\n",
       "    .dataframe thead th {\n",
       "        text-align: right;\n",
       "    }\n",
       "</style>\n",
       "<table border=\"1\" class=\"dataframe\">\n",
       "  <thead>\n",
       "    <tr style=\"text-align: right;\">\n",
       "      <th></th>\n",
       "      <th>PC1</th>\n",
       "      <th>PC2</th>\n",
       "      <th>Feature</th>\n",
       "    </tr>\n",
       "  </thead>\n",
       "  <tbody>\n",
       "    <tr>\n",
       "      <th>0</th>\n",
       "      <td>-0.419519</td>\n",
       "      <td>0.192884</td>\n",
       "      <td>child_mort</td>\n",
       "    </tr>\n",
       "    <tr>\n",
       "      <th>1</th>\n",
       "      <td>0.283897</td>\n",
       "      <td>0.613163</td>\n",
       "      <td>exports</td>\n",
       "    </tr>\n",
       "    <tr>\n",
       "      <th>2</th>\n",
       "      <td>0.150838</td>\n",
       "      <td>-0.243087</td>\n",
       "      <td>health</td>\n",
       "    </tr>\n",
       "    <tr>\n",
       "      <th>3</th>\n",
       "      <td>0.161482</td>\n",
       "      <td>0.671821</td>\n",
       "      <td>imports</td>\n",
       "    </tr>\n",
       "    <tr>\n",
       "      <th>4</th>\n",
       "      <td>0.398441</td>\n",
       "      <td>0.022536</td>\n",
       "      <td>income</td>\n",
       "    </tr>\n",
       "    <tr>\n",
       "      <th>5</th>\n",
       "      <td>-0.193173</td>\n",
       "      <td>-0.008404</td>\n",
       "      <td>inflation</td>\n",
       "    </tr>\n",
       "    <tr>\n",
       "      <th>6</th>\n",
       "      <td>0.425839</td>\n",
       "      <td>-0.222707</td>\n",
       "      <td>life_expec</td>\n",
       "    </tr>\n",
       "    <tr>\n",
       "      <th>7</th>\n",
       "      <td>-0.403729</td>\n",
       "      <td>0.155233</td>\n",
       "      <td>total_fer</td>\n",
       "    </tr>\n",
       "    <tr>\n",
       "      <th>8</th>\n",
       "      <td>0.392645</td>\n",
       "      <td>-0.046022</td>\n",
       "      <td>gdpp</td>\n",
       "    </tr>\n",
       "  </tbody>\n",
       "</table>\n",
       "</div>"
      ],
      "text/plain": [
       "        PC1       PC2     Feature\n",
       "0 -0.419519  0.192884  child_mort\n",
       "1  0.283897  0.613163     exports\n",
       "2  0.150838 -0.243087      health\n",
       "3  0.161482  0.671821     imports\n",
       "4  0.398441  0.022536      income\n",
       "5 -0.193173 -0.008404   inflation\n",
       "6  0.425839 -0.222707  life_expec\n",
       "7 -0.403729  0.155233   total_fer\n",
       "8  0.392645 -0.046022        gdpp"
      ]
     },
     "execution_count": 15,
     "metadata": {},
     "output_type": "execute_result"
    }
   ],
   "source": [
    "colnames = list(countries_scaled_df.columns)\n",
    "pcs_df = pd.DataFrame({'PC1':pca.components_[0],'PC2':pca.components_[1], 'Feature':colnames})\n",
    "pcs_df"
   ]
  },
  {
   "cell_type": "code",
   "execution_count": 16,
   "metadata": {},
   "outputs": [
    {
     "data": {
      "image/png": "[encoded data removed]",
      "text/plain": [
       "<Figure size 576x360 with 1 Axes>"
      ]
     },
     "metadata": {
      "needs_background": "light"
     },
     "output_type": "display_data"
    }
   ],
   "source": [
    "%matplotlib inline\n",
    "\n",
    "fig = plt.figure(figsize = (8,5))\n",
    "plt.scatter(pcs_df.PC1, pcs_df.PC2)\n",
    "plt.xlabel('Principal Component 1')\n",
    "plt.ylabel('Principal Component 2')\n",
    "for i, txt in enumerate(pcs_df.Feature):\n",
    "    plt.annotate(txt, (pcs_df.PC1[i],pcs_df.PC2[i]))\n",
    "\n",
    "plt.tight_layout()\n",
    "plt.show()"
   ]
  },
  {
   "cell_type": "markdown",
   "metadata": {},
   "source": [
    "We can clearly see there are certain clusters to be formed based on above plot."
   ]
  },
  {
   "cell_type": "code",
   "execution_count": 17,
   "metadata": {},
   "outputs": [
    {
     "data": {
      "image/png": "[encoded data removed]",
      "text/plain": [
       "<Figure size 576x360 with 1 Axes>"
      ]
     },
     "metadata": {
      "needs_background": "light"
     },
     "output_type": "display_data"
    }
   ],
   "source": [
    "#Making the screeplot - plotting the cumulative variance against the number of components\n",
    "\n",
    "%matplotlib inline\n",
    "\n",
    "fig = plt.figure(figsize = (8,5))\n",
    "plt.plot(np.cumsum(pca.explained_variance_ratio_))\n",
    "plt.xlabel('number of components')\n",
    "plt.ylabel('cumulative explained variance')\n",
    "plt.show()\n",
    "\n"
   ]
  },
  {
   "cell_type": "code",
   "execution_count": 18,
   "metadata": {},
   "outputs": [
    {
     "data": {
      "text/plain": [
       "array([0.4595174 , 0.17181626, 0.13004259, 0.11053162, 0.07340211,\n",
       "       0.02484235, 0.0126043 , 0.00981282, 0.00743056])"
      ]
     },
     "execution_count": 18,
     "metadata": {},
     "output_type": "execute_result"
    }
   ],
   "source": [
    "pca.explained_variance_ratio_"
   ]
  },
  {
   "cell_type": "code",
   "execution_count": 19,
   "metadata": {},
   "outputs": [],
   "source": [
    "# From above we can see that 4 components explains around 87% of variance in the data.\n",
    "# we dont need the independent PCA as the data size is small enough.\n",
    "\n",
    "pca_final = PCA(svd_solver='randomized', random_state=42, n_components=4)"
   ]
  },
  {
   "cell_type": "code",
   "execution_count": 20,
   "metadata": {},
   "outputs": [
    {
     "data": {
      "text/plain": [
       "(167, 4)"
      ]
     },
     "execution_count": 20,
     "metadata": {},
     "output_type": "execute_result"
    }
   ],
   "source": [
    "pca_matrix = pca_final.fit_transform(countries_scaled_df)\n",
    "pca_matrix.shape"
   ]
  },
  {
   "cell_type": "code",
   "execution_count": 21,
   "metadata": {},
   "outputs": [],
   "source": [
    "# creating co-rrelation matrix for the principal components\n",
    "\n",
    "corrmat = np.corrcoef(pca_matrix.transpose())"
   ]
  },
  {
   "cell_type": "code",
   "execution_count": 22,
   "metadata": {},
   "outputs": [
    {
     "data": {
      "image/png": "[encoded data removed]",
      "text/plain": [
       "<Figure size 576x360 with 2 Axes>"
      ]
     },
     "metadata": {
      "needs_background": "light"
     },
     "output_type": "display_data"
    }
   ],
   "source": [
    "#plotting the correlation matrix\n",
    "%matplotlib inline\n",
    "plt.figure(figsize = (8,5))\n",
    "sns.heatmap(corrmat,annot = True)\n",
    "plt.show()"
   ]
  },
  {
   "cell_type": "code",
   "execution_count": 23,
   "metadata": {},
   "outputs": [
    {
     "name": "stdout",
     "output_type": "stream",
     "text": [
      "max corr: 1.891291354146151e-16 , min corr:  -2.1400280604294126e-16\n"
     ]
    }
   ],
   "source": [
    "# 1s -> 0s in diagonals\n",
    "\n",
    "corrmat_nodiag = corrmat - np.diagflat(corrmat.diagonal())\n",
    "print(\"max corr:\",corrmat_nodiag.max(), \", min corr: \", corrmat_nodiag.min(),)\n",
    "# we see that correlations are indeed very close to 0"
   ]
  },
  {
   "cell_type": "code",
   "execution_count": 24,
   "metadata": {},
   "outputs": [],
   "source": [
    "pca_df = pd.DataFrame(pca_matrix)"
   ]
  },
  {
   "cell_type": "code",
   "execution_count": 25,
   "metadata": {},
   "outputs": [
    {
     "data": {
      "text/html": [
       "<div>\n",
       "<style scoped>\n",
       "    .dataframe tbody tr th:only-of-type {\n",
       "        vertical-align: middle;\n",
       "    }\n",
       "\n",
       "    .dataframe tbody tr th {\n",
       "        vertical-align: top;\n",
       "    }\n",
       "\n",
       "    .dataframe thead th {\n",
       "        text-align: right;\n",
       "    }\n",
       "</style>\n",
       "<table border=\"1\" class=\"dataframe\">\n",
       "  <thead>\n",
       "    <tr style=\"text-align: right;\">\n",
       "      <th></th>\n",
       "      <th>0</th>\n",
       "      <th>1</th>\n",
       "      <th>2</th>\n",
       "      <th>3</th>\n",
       "    </tr>\n",
       "  </thead>\n",
       "  <tbody>\n",
       "    <tr>\n",
       "      <th>0</th>\n",
       "      <td>-2.913025</td>\n",
       "      <td>0.095621</td>\n",
       "      <td>-0.718118</td>\n",
       "      <td>1.005255</td>\n",
       "    </tr>\n",
       "    <tr>\n",
       "      <th>1</th>\n",
       "      <td>0.429911</td>\n",
       "      <td>-0.588156</td>\n",
       "      <td>-0.333486</td>\n",
       "      <td>-1.161059</td>\n",
       "    </tr>\n",
       "    <tr>\n",
       "      <th>2</th>\n",
       "      <td>-0.285225</td>\n",
       "      <td>-0.455174</td>\n",
       "      <td>1.221505</td>\n",
       "      <td>-0.868115</td>\n",
       "    </tr>\n",
       "    <tr>\n",
       "      <th>3</th>\n",
       "      <td>-2.932423</td>\n",
       "      <td>1.695555</td>\n",
       "      <td>1.525044</td>\n",
       "      <td>0.839625</td>\n",
       "    </tr>\n",
       "    <tr>\n",
       "      <th>4</th>\n",
       "      <td>1.033576</td>\n",
       "      <td>0.136659</td>\n",
       "      <td>-0.225721</td>\n",
       "      <td>-0.847063</td>\n",
       "    </tr>\n",
       "  </tbody>\n",
       "</table>\n",
       "</div>"
      ],
      "text/plain": [
       "          0         1         2         3\n",
       "0 -2.913025  0.095621 -0.718118  1.005255\n",
       "1  0.429911 -0.588156 -0.333486 -1.161059\n",
       "2 -0.285225 -0.455174  1.221505 -0.868115\n",
       "3 -2.932423  1.695555  1.525044  0.839625\n",
       "4  1.033576  0.136659 -0.225721 -0.847063"
      ]
     },
     "execution_count": 25,
     "metadata": {},
     "output_type": "execute_result"
    }
   ],
   "source": [
    "pca_df.head()"
   ]
  },
  {
   "cell_type": "code",
   "execution_count": 26,
   "metadata": {},
   "outputs": [
    {
     "data": {
      "text/html": [
       "<div>\n",
       "<style scoped>\n",
       "    .dataframe tbody tr th:only-of-type {\n",
       "        vertical-align: middle;\n",
       "    }\n",
       "\n",
       "    .dataframe tbody tr th {\n",
       "        vertical-align: top;\n",
       "    }\n",
       "\n",
       "    .dataframe thead th {\n",
       "        text-align: right;\n",
       "    }\n",
       "</style>\n",
       "<table border=\"1\" class=\"dataframe\">\n",
       "  <thead>\n",
       "    <tr style=\"text-align: right;\">\n",
       "      <th></th>\n",
       "      <th>PC1</th>\n",
       "      <th>PC2</th>\n",
       "      <th>PC3</th>\n",
       "      <th>PC4</th>\n",
       "    </tr>\n",
       "  </thead>\n",
       "  <tbody>\n",
       "    <tr>\n",
       "      <th>count</th>\n",
       "      <td>1.670000e+02</td>\n",
       "      <td>1.670000e+02</td>\n",
       "      <td>1.670000e+02</td>\n",
       "      <td>1.670000e+02</td>\n",
       "    </tr>\n",
       "    <tr>\n",
       "      <th>mean</th>\n",
       "      <td>5.052512e-17</td>\n",
       "      <td>2.891898e-17</td>\n",
       "      <td>-5.268573e-17</td>\n",
       "      <td>-4.121786e-17</td>\n",
       "    </tr>\n",
       "    <tr>\n",
       "      <th>std</th>\n",
       "      <td>2.039748e+00</td>\n",
       "      <td>1.247262e+00</td>\n",
       "      <td>1.085096e+00</td>\n",
       "      <td>1.000389e+00</td>\n",
       "    </tr>\n",
       "    <tr>\n",
       "      <th>min</th>\n",
       "      <td>-4.912066e+00</td>\n",
       "      <td>-2.997364e+00</td>\n",
       "      <td>-2.714085e+00</td>\n",
       "      <td>-1.595199e+00</td>\n",
       "    </tr>\n",
       "    <tr>\n",
       "      <th>25%</th>\n",
       "      <td>-1.382270e+00</td>\n",
       "      <td>-7.520480e-01</td>\n",
       "      <td>-5.218776e-01</td>\n",
       "      <td>-7.837847e-01</td>\n",
       "    </tr>\n",
       "    <tr>\n",
       "      <th>50%</th>\n",
       "      <td>2.240726e-02</td>\n",
       "      <td>-9.449868e-02</td>\n",
       "      <td>-2.456059e-01</td>\n",
       "      <td>-3.118565e-01</td>\n",
       "    </tr>\n",
       "    <tr>\n",
       "      <th>75%</th>\n",
       "      <td>1.224328e+00</td>\n",
       "      <td>5.534747e-01</td>\n",
       "      <td>4.025451e-01</td>\n",
       "      <td>7.107253e-01</td>\n",
       "    </tr>\n",
       "    <tr>\n",
       "      <th>max</th>\n",
       "      <td>6.917755e+00</td>\n",
       "      <td>6.682090e+00</td>\n",
       "      <td>6.110158e+00</td>\n",
       "      <td>3.129643e+00</td>\n",
       "    </tr>\n",
       "  </tbody>\n",
       "</table>\n",
       "</div>"
      ],
      "text/plain": [
       "                PC1           PC2           PC3           PC4\n",
       "count  1.670000e+02  1.670000e+02  1.670000e+02  1.670000e+02\n",
       "mean   5.052512e-17  2.891898e-17 -5.268573e-17 -4.121786e-17\n",
       "std    2.039748e+00  1.247262e+00  1.085096e+00  1.000389e+00\n",
       "min   -4.912066e+00 -2.997364e+00 -2.714085e+00 -1.595199e+00\n",
       "25%   -1.382270e+00 -7.520480e-01 -5.218776e-01 -7.837847e-01\n",
       "50%    2.240726e-02 -9.449868e-02 -2.456059e-01 -3.118565e-01\n",
       "75%    1.224328e+00  5.534747e-01  4.025451e-01  7.107253e-01\n",
       "max    6.917755e+00  6.682090e+00  6.110158e+00  3.129643e+00"
      ]
     },
     "execution_count": 26,
     "metadata": {},
     "output_type": "execute_result"
    }
   ],
   "source": [
    "# Renaming the column names\n",
    "pca_df.columns = ['PC1', 'PC2', 'PC3', 'PC4']\n",
    "\n",
    "pca_df.describe()"
   ]
  },
  {
   "cell_type": "code",
   "execution_count": 27,
   "metadata": {},
   "outputs": [
    {
     "data": {
      "text/plain": [
       "(167, 4)"
      ]
     },
     "execution_count": 27,
     "metadata": {},
     "output_type": "execute_result"
    }
   ],
   "source": [
    "pca_df.shape"
   ]
  },
  {
   "cell_type": "code",
   "execution_count": 28,
   "metadata": {},
   "outputs": [
    {
     "data": {
      "text/html": [
       "<div>\n",
       "<style scoped>\n",
       "    .dataframe tbody tr th:only-of-type {\n",
       "        vertical-align: middle;\n",
       "    }\n",
       "\n",
       "    .dataframe tbody tr th {\n",
       "        vertical-align: top;\n",
       "    }\n",
       "\n",
       "    .dataframe thead th {\n",
       "        text-align: right;\n",
       "    }\n",
       "</style>\n",
       "<table border=\"1\" class=\"dataframe\">\n",
       "  <thead>\n",
       "    <tr style=\"text-align: right;\">\n",
       "      <th></th>\n",
       "      <th>PC1</th>\n",
       "      <th>PC2</th>\n",
       "      <th>PC3</th>\n",
       "      <th>PC4</th>\n",
       "      <th>country</th>\n",
       "    </tr>\n",
       "  </thead>\n",
       "  <tbody>\n",
       "    <tr>\n",
       "      <th>0</th>\n",
       "      <td>-2.913025</td>\n",
       "      <td>0.095621</td>\n",
       "      <td>-0.718118</td>\n",
       "      <td>1.005255</td>\n",
       "      <td>Afghanistan</td>\n",
       "    </tr>\n",
       "    <tr>\n",
       "      <th>1</th>\n",
       "      <td>0.429911</td>\n",
       "      <td>-0.588156</td>\n",
       "      <td>-0.333486</td>\n",
       "      <td>-1.161059</td>\n",
       "      <td>Albania</td>\n",
       "    </tr>\n",
       "    <tr>\n",
       "      <th>2</th>\n",
       "      <td>-0.285225</td>\n",
       "      <td>-0.455174</td>\n",
       "      <td>1.221505</td>\n",
       "      <td>-0.868115</td>\n",
       "      <td>Algeria</td>\n",
       "    </tr>\n",
       "    <tr>\n",
       "      <th>3</th>\n",
       "      <td>-2.932423</td>\n",
       "      <td>1.695555</td>\n",
       "      <td>1.525044</td>\n",
       "      <td>0.839625</td>\n",
       "      <td>Angola</td>\n",
       "    </tr>\n",
       "    <tr>\n",
       "      <th>4</th>\n",
       "      <td>1.033576</td>\n",
       "      <td>0.136659</td>\n",
       "      <td>-0.225721</td>\n",
       "      <td>-0.847063</td>\n",
       "      <td>Antigua and Barbuda</td>\n",
       "    </tr>\n",
       "  </tbody>\n",
       "</table>\n",
       "</div>"
      ],
      "text/plain": [
       "        PC1       PC2       PC3       PC4              country\n",
       "0 -2.913025  0.095621 -0.718118  1.005255          Afghanistan\n",
       "1  0.429911 -0.588156 -0.333486 -1.161059              Albania\n",
       "2 -0.285225 -0.455174  1.221505 -0.868115              Algeria\n",
       "3 -2.932423  1.695555  1.525044  0.839625               Angola\n",
       "4  1.033576  0.136659 -0.225721 -0.847063  Antigua and Barbuda"
      ]
     },
     "execution_count": 28,
     "metadata": {},
     "output_type": "execute_result"
    }
   ],
   "source": [
    "# Adding back the country column\n",
    "\n",
    "pca_df['country'] = countries['country']\n",
    "pca_df.head()"
   ]
  },
  {
   "cell_type": "markdown",
   "metadata": {},
   "source": [
    "#### Outlier Removal from the dataset"
   ]
  },
  {
   "cell_type": "code",
   "execution_count": 29,
   "metadata": {},
   "outputs": [
    {
     "data": {
      "image/png": "[encoded data removed]",
      "text/plain": [
       "<Figure size 432x288 with 1 Axes>"
      ]
     },
     "metadata": {
      "needs_background": "light"
     },
     "output_type": "display_data"
    }
   ],
   "source": [
    "# outlier treatment for PC1\n",
    "\n",
    "plt.boxplot(pca_df.PC1)\n",
    "Q1 = pca_df.PC1.quantile(0.25)\n",
    "Q3 = pca_df.PC1.quantile(0.75)\n",
    "IQR = Q3 - Q1\n",
    "pca_df1 = pca_df[(pca_df.PC1 >= Q1 - 1.5*IQR) & (pca_df.PC1 <= Q3 + 1.5*IQR)]"
   ]
  },
  {
   "cell_type": "code",
   "execution_count": 30,
   "metadata": {},
   "outputs": [
    {
     "data": {
      "image/png": "[encoded data removed]",
      "text/plain": [
       "<Figure size 432x288 with 1 Axes>"
      ]
     },
     "metadata": {
      "needs_background": "light"
     },
     "output_type": "display_data"
    }
   ],
   "source": [
    "# outlier treatment for PC2\n",
    "\n",
    "plt.boxplot(pca_df1.PC2)\n",
    "Q1 = pca_df1.PC2.quantile(0.25)\n",
    "Q3 = pca_df1.PC2.quantile(0.75)\n",
    "IQR = Q3 - Q1\n",
    "pca_df1 = pca_df1[(pca_df1.PC2 >= Q1 - 1.5*IQR) & (pca_df1.PC2 <= Q3 + 1.5*IQR)]"
   ]
  },
  {
   "cell_type": "code",
   "execution_count": 31,
   "metadata": {},
   "outputs": [
    {
     "data": {
      "image/png": "[encoded data removed]",
      "text/plain": [
       "<Figure size 432x288 with 1 Axes>"
      ]
     },
     "metadata": {
      "needs_background": "light"
     },
     "output_type": "display_data"
    }
   ],
   "source": [
    "# outlier treatment for PC3\n",
    "\n",
    "plt.boxplot(pca_df1.PC3)\n",
    "Q1 = pca_df1.PC3.quantile(0.25)\n",
    "Q3 = pca_df1.PC3.quantile(0.75)\n",
    "IQR = Q3 - Q1\n",
    "pca_df1 = pca_df1[(pca_df1.PC3 >= Q1 - 1.5*IQR) & (pca_df1.PC3 <= Q3 + 1.5*IQR)]"
   ]
  },
  {
   "cell_type": "code",
   "execution_count": 32,
   "metadata": {},
   "outputs": [
    {
     "data": {
      "image/png": "[encoded data removed]",
      "text/plain": [
       "<Figure size 432x288 with 1 Axes>"
      ]
     },
     "metadata": {
      "needs_background": "light"
     },
     "output_type": "display_data"
    }
   ],
   "source": [
    "# outlier treatment for PC4\n",
    "\n",
    "plt.boxplot(pca_df1.PC4)\n",
    "Q1 = pca_df1.PC4.quantile(0.25)\n",
    "Q3 = pca_df1.PC4.quantile(0.75)\n",
    "IQR = Q3 - Q1\n",
    "pca_df1 = pca_df1[(pca_df1.PC4 >= Q1 - 1.5*IQR) & (pca_df1.PC4 <= Q3 + 1.5*IQR)]"
   ]
  },
  {
   "cell_type": "code",
   "execution_count": 33,
   "metadata": {},
   "outputs": [
    {
     "data": {
      "text/html": [
       "<div>\n",
       "<style scoped>\n",
       "    .dataframe tbody tr th:only-of-type {\n",
       "        vertical-align: middle;\n",
       "    }\n",
       "\n",
       "    .dataframe tbody tr th {\n",
       "        vertical-align: top;\n",
       "    }\n",
       "\n",
       "    .dataframe thead th {\n",
       "        text-align: right;\n",
       "    }\n",
       "</style>\n",
       "<table border=\"1\" class=\"dataframe\">\n",
       "  <thead>\n",
       "    <tr style=\"text-align: right;\">\n",
       "      <th></th>\n",
       "      <th>PC1</th>\n",
       "      <th>PC2</th>\n",
       "      <th>PC3</th>\n",
       "      <th>PC4</th>\n",
       "    </tr>\n",
       "  </thead>\n",
       "  <tbody>\n",
       "    <tr>\n",
       "      <th>count</th>\n",
       "      <td>147.000000</td>\n",
       "      <td>147.000000</td>\n",
       "      <td>147.000000</td>\n",
       "      <td>147.000000</td>\n",
       "    </tr>\n",
       "    <tr>\n",
       "      <th>mean</th>\n",
       "      <td>-0.170244</td>\n",
       "      <td>-0.144817</td>\n",
       "      <td>-0.118851</td>\n",
       "      <td>-0.124781</td>\n",
       "    </tr>\n",
       "    <tr>\n",
       "      <th>std</th>\n",
       "      <td>1.841422</td>\n",
       "      <td>0.943986</td>\n",
       "      <td>0.680299</td>\n",
       "      <td>0.894165</td>\n",
       "    </tr>\n",
       "    <tr>\n",
       "      <th>min</th>\n",
       "      <td>-4.409717</td>\n",
       "      <td>-2.435594</td>\n",
       "      <td>-1.565859</td>\n",
       "      <td>-1.595199</td>\n",
       "    </tr>\n",
       "    <tr>\n",
       "      <th>25%</th>\n",
       "      <td>-1.603737</td>\n",
       "      <td>-0.804434</td>\n",
       "      <td>-0.513363</td>\n",
       "      <td>-0.848759</td>\n",
       "    </tr>\n",
       "    <tr>\n",
       "      <th>50%</th>\n",
       "      <td>0.009618</td>\n",
       "      <td>-0.109453</td>\n",
       "      <td>-0.252772</td>\n",
       "      <td>-0.415582</td>\n",
       "    </tr>\n",
       "    <tr>\n",
       "      <th>75%</th>\n",
       "      <td>1.128732</td>\n",
       "      <td>0.510662</td>\n",
       "      <td>0.249706</td>\n",
       "      <td>0.562529</td>\n",
       "    </tr>\n",
       "    <tr>\n",
       "      <th>max</th>\n",
       "      <td>4.088544</td>\n",
       "      <td>2.176349</td>\n",
       "      <td>1.752241</td>\n",
       "      <td>2.581976</td>\n",
       "    </tr>\n",
       "  </tbody>\n",
       "</table>\n",
       "</div>"
      ],
      "text/plain": [
       "              PC1         PC2         PC3         PC4\n",
       "count  147.000000  147.000000  147.000000  147.000000\n",
       "mean    -0.170244   -0.144817   -0.118851   -0.124781\n",
       "std      1.841422    0.943986    0.680299    0.894165\n",
       "min     -4.409717   -2.435594   -1.565859   -1.595199\n",
       "25%     -1.603737   -0.804434   -0.513363   -0.848759\n",
       "50%      0.009618   -0.109453   -0.252772   -0.415582\n",
       "75%      1.128732    0.510662    0.249706    0.562529\n",
       "max      4.088544    2.176349    1.752241    2.581976"
      ]
     },
     "execution_count": 33,
     "metadata": {},
     "output_type": "execute_result"
    }
   ],
   "source": [
    "pca_df1.describe()"
   ]
  },
  {
   "cell_type": "code",
   "execution_count": 34,
   "metadata": {},
   "outputs": [
    {
     "data": {
      "text/plain": [
       "(147, 5)"
      ]
     },
     "execution_count": 34,
     "metadata": {},
     "output_type": "execute_result"
    }
   ],
   "source": [
    "pca_df1.shape"
   ]
  },
  {
   "cell_type": "markdown",
   "metadata": {},
   "source": [
    "After outlier treatment only 147 countries remains."
   ]
  },
  {
   "cell_type": "markdown",
   "metadata": {},
   "source": [
    "#### Computing Hopkins Statistics"
   ]
  },
  {
   "cell_type": "code",
   "execution_count": 35,
   "metadata": {},
   "outputs": [],
   "source": [
    "from sklearn.neighbors import NearestNeighbors\n",
    "from random import sample\n",
    "from numpy.random import uniform\n",
    "import numpy as np\n",
    "from math import isnan\n",
    " \n",
    "def hopkins(X):\n",
    "    d = X.shape[1]\n",
    "    #d = len(vars) # columns\n",
    "    n = len(X) # rows\n",
    "    m = int(0.1 * n) \n",
    "    nbrs = NearestNeighbors(n_neighbors=1).fit(X.values)\n",
    " \n",
    "    rand_X = sample(range(0, n, 1), m)\n",
    " \n",
    "    ujd = []\n",
    "    wjd = []\n",
    "    for j in range(0, m):\n",
    "        u_dist, _ = nbrs.kneighbors(uniform(np.amin(X,axis=0),np.amax(X,axis=0),d).reshape(1, -1), 2, return_distance=True)\n",
    "        ujd.append(u_dist[0][1])\n",
    "        w_dist, _ = nbrs.kneighbors(X.iloc[rand_X[j]].values.reshape(1, -1), 2, return_distance=True)\n",
    "        wjd.append(w_dist[0][1])\n",
    " \n",
    "    H = sum(ujd) / (sum(ujd) + sum(wjd))\n",
    "    if isnan(H):\n",
    "        print(ujd, wjd)\n",
    "        H = 0\n",
    " \n",
    "    return H"
   ]
  },
  {
   "cell_type": "code",
   "execution_count": 36,
   "metadata": {},
   "outputs": [
    {
     "data": {
      "text/plain": [
       "0.7487135442054275"
      ]
     },
     "execution_count": 36,
     "metadata": {},
     "output_type": "execute_result"
    }
   ],
   "source": [
    "# If the value is between {0.65, ..., 0.99}, it has a high tendency to cluster.\n",
    "\n",
    "df_outlier_done = pca_df1.drop('country', axis=1)\n",
    "hopkins(df_outlier_done)"
   ]
  },
  {
   "cell_type": "markdown",
   "metadata": {},
   "source": [
    "So, we can say that data has high tendency for clustering."
   ]
  },
  {
   "cell_type": "markdown",
   "metadata": {},
   "source": [
    "#### Silhoutte Score Calculation"
   ]
  },
  {
   "cell_type": "code",
   "execution_count": 37,
   "metadata": {},
   "outputs": [
    {
     "name": "stdout",
     "output_type": "stream",
     "text": [
      "For n_clusters=2, The Silhouette Coefficient is 0.4001559429752253\n",
      "For n_clusters=3, The Silhouette Coefficient is 0.3785324011039642\n",
      "For n_clusters=4, The Silhouette Coefficient is 0.3191034598716983\n",
      "For n_clusters=5, The Silhouette Coefficient is 0.29948835285985337\n",
      "For n_clusters=6, The Silhouette Coefficient is 0.2693599374767668\n",
      "For n_clusters=7, The Silhouette Coefficient is 0.272194571575441\n",
      "For n_clusters=8, The Silhouette Coefficient is 0.2822219937277797\n",
      "For n_clusters=9, The Silhouette Coefficient is 0.2793046703650229\n"
     ]
    }
   ],
   "source": [
    "\n",
    "from sklearn.metrics import silhouette_score\n",
    "sse_ = []\n",
    "for k in range(2, 10):\n",
    "    #kmeans = KMeans(n_clusters=k).fit(df_outlier_done)\n",
    "    #sse_.append([k, silhouette_score(df_outlier_done, kmeans.labels_)])\n",
    "\n",
    "    #for n_cluster in range(2, 11):\n",
    "    kmeans = KMeans(n_clusters=k).fit(df_outlier_done)\n",
    "    label = kmeans.labels_\n",
    "    sil_coeff = silhouette_score(df_outlier_done, label, metric='euclidean')\n",
    "    print(\"For n_clusters={}, The Silhouette Coefficient is {}\".format(k, sil_coeff))\n",
    "    sse_.append([k, silhouette_score(df_outlier_done, kmeans.labels_)])"
   ]
  },
  {
   "cell_type": "code",
   "execution_count": 38,
   "metadata": {
    "scrolled": false
   },
   "outputs": [
    {
     "data": {
      "image/png": "[encoded data removed]",
      "text/plain": [
       "<Figure size 432x288 with 1 Axes>"
      ]
     },
     "metadata": {
      "needs_background": "light"
     },
     "output_type": "display_data"
    }
   ],
   "source": [
    "plt.plot(pd.DataFrame(sse_)[0], pd.DataFrame(sse_)[1])\n",
    "plt.show()"
   ]
  },
  {
   "cell_type": "code",
   "execution_count": 39,
   "metadata": {},
   "outputs": [
    {
     "data": {
      "image/png": "[encoded data removed]",
      "text/plain": [
       "<Figure size 432x288 with 1 Axes>"
      ]
     },
     "metadata": {
      "needs_background": "light"
     },
     "output_type": "display_data"
    }
   ],
   "source": [
    "# sum of squared distances\n",
    "ssd = []\n",
    "for num_clusters in list(range(1,21)):\n",
    "    model_clus = KMeans(n_clusters = num_clusters, max_iter=100)\n",
    "    model_clus.fit(df_outlier_done)\n",
    "    ssd.append(model_clus.inertia_)\n",
    "\n",
    "plt.plot(ssd)\n",
    "plt.show()"
   ]
  },
  {
   "cell_type": "markdown",
   "metadata": {},
   "source": [
    "#### K-Means"
   ]
  },
  {
   "cell_type": "code",
   "execution_count": 40,
   "metadata": {},
   "outputs": [],
   "source": [
    "# Silhouette analysis can be used to study the separation distance between the resulting clusters. So we can choose based on\n",
    "# above silhoutte value and elbow curve we will take k=5\n",
    "# Kmeans with K=5\n",
    "\n",
    "#df_outlier_done.index = pd.RangeIndex(len(df_outlier_done.index))\n",
    "model_clus = KMeans(n_clusters = 5, max_iter=100, random_state=10)\n",
    "model_clus.fit(df_outlier_done)\n",
    "\n",
    "df_outlier_done = pd.concat([df_outlier_done, pd.Series(model_clus.labels_, index=df_outlier_done.index)], axis=1)"
   ]
  },
  {
   "cell_type": "code",
   "execution_count": 41,
   "metadata": {},
   "outputs": [],
   "source": [
    "df_outlier_done.columns = ['PC1', 'PC2', 'PC3', 'PC4', 'cluster_id']"
   ]
  },
  {
   "cell_type": "code",
   "execution_count": 42,
   "metadata": {},
   "outputs": [
    {
     "data": {
      "text/html": [
       "<div>\n",
       "<style scoped>\n",
       "    .dataframe tbody tr th:only-of-type {\n",
       "        vertical-align: middle;\n",
       "    }\n",
       "\n",
       "    .dataframe tbody tr th {\n",
       "        vertical-align: top;\n",
       "    }\n",
       "\n",
       "    .dataframe thead th {\n",
       "        text-align: right;\n",
       "    }\n",
       "</style>\n",
       "<table border=\"1\" class=\"dataframe\">\n",
       "  <thead>\n",
       "    <tr style=\"text-align: right;\">\n",
       "      <th></th>\n",
       "      <th>PC1</th>\n",
       "      <th>PC2</th>\n",
       "      <th>PC3</th>\n",
       "      <th>PC4</th>\n",
       "      <th>cluster_id</th>\n",
       "    </tr>\n",
       "  </thead>\n",
       "  <tbody>\n",
       "    <tr>\n",
       "      <th>0</th>\n",
       "      <td>-2.913025</td>\n",
       "      <td>0.095621</td>\n",
       "      <td>-0.718118</td>\n",
       "      <td>1.005255</td>\n",
       "      <td>4</td>\n",
       "    </tr>\n",
       "    <tr>\n",
       "      <th>1</th>\n",
       "      <td>0.429911</td>\n",
       "      <td>-0.588156</td>\n",
       "      <td>-0.333486</td>\n",
       "      <td>-1.161059</td>\n",
       "      <td>3</td>\n",
       "    </tr>\n",
       "    <tr>\n",
       "      <th>2</th>\n",
       "      <td>-0.285225</td>\n",
       "      <td>-0.455174</td>\n",
       "      <td>1.221505</td>\n",
       "      <td>-0.868115</td>\n",
       "      <td>3</td>\n",
       "    </tr>\n",
       "    <tr>\n",
       "      <th>3</th>\n",
       "      <td>-2.932423</td>\n",
       "      <td>1.695555</td>\n",
       "      <td>1.525044</td>\n",
       "      <td>0.839625</td>\n",
       "      <td>4</td>\n",
       "    </tr>\n",
       "    <tr>\n",
       "      <th>4</th>\n",
       "      <td>1.033576</td>\n",
       "      <td>0.136659</td>\n",
       "      <td>-0.225721</td>\n",
       "      <td>-0.847063</td>\n",
       "      <td>1</td>\n",
       "    </tr>\n",
       "  </tbody>\n",
       "</table>\n",
       "</div>"
      ],
      "text/plain": [
       "        PC1       PC2       PC3       PC4  cluster_id\n",
       "0 -2.913025  0.095621 -0.718118  1.005255           4\n",
       "1  0.429911 -0.588156 -0.333486 -1.161059           3\n",
       "2 -0.285225 -0.455174  1.221505 -0.868115           3\n",
       "3 -2.932423  1.695555  1.525044  0.839625           4\n",
       "4  1.033576  0.136659 -0.225721 -0.847063           1"
      ]
     },
     "execution_count": 42,
     "metadata": {},
     "output_type": "execute_result"
    }
   ],
   "source": [
    "# Clustered Dataset\n",
    "df_outlier_done.head()"
   ]
  },
  {
   "cell_type": "code",
   "execution_count": 43,
   "metadata": {},
   "outputs": [],
   "source": [
    "# Adding country back\n",
    "df_outlier_done['country'] = pca_df1['country']"
   ]
  },
  {
   "cell_type": "code",
   "execution_count": 44,
   "metadata": {},
   "outputs": [
    {
     "data": {
      "text/html": [
       "<div>\n",
       "<style scoped>\n",
       "    .dataframe tbody tr th:only-of-type {\n",
       "        vertical-align: middle;\n",
       "    }\n",
       "\n",
       "    .dataframe tbody tr th {\n",
       "        vertical-align: top;\n",
       "    }\n",
       "\n",
       "    .dataframe thead th {\n",
       "        text-align: right;\n",
       "    }\n",
       "</style>\n",
       "<table border=\"1\" class=\"dataframe\">\n",
       "  <thead>\n",
       "    <tr style=\"text-align: right;\">\n",
       "      <th></th>\n",
       "      <th>PC1</th>\n",
       "      <th>PC2</th>\n",
       "      <th>PC3</th>\n",
       "      <th>PC4</th>\n",
       "      <th>cluster_id</th>\n",
       "      <th>country</th>\n",
       "    </tr>\n",
       "  </thead>\n",
       "  <tbody>\n",
       "    <tr>\n",
       "      <th>0</th>\n",
       "      <td>-2.913025</td>\n",
       "      <td>0.095621</td>\n",
       "      <td>-0.718118</td>\n",
       "      <td>1.005255</td>\n",
       "      <td>4</td>\n",
       "      <td>Afghanistan</td>\n",
       "    </tr>\n",
       "    <tr>\n",
       "      <th>1</th>\n",
       "      <td>0.429911</td>\n",
       "      <td>-0.588156</td>\n",
       "      <td>-0.333486</td>\n",
       "      <td>-1.161059</td>\n",
       "      <td>3</td>\n",
       "      <td>Albania</td>\n",
       "    </tr>\n",
       "    <tr>\n",
       "      <th>2</th>\n",
       "      <td>-0.285225</td>\n",
       "      <td>-0.455174</td>\n",
       "      <td>1.221505</td>\n",
       "      <td>-0.868115</td>\n",
       "      <td>3</td>\n",
       "      <td>Algeria</td>\n",
       "    </tr>\n",
       "    <tr>\n",
       "      <th>3</th>\n",
       "      <td>-2.932423</td>\n",
       "      <td>1.695555</td>\n",
       "      <td>1.525044</td>\n",
       "      <td>0.839625</td>\n",
       "      <td>4</td>\n",
       "      <td>Angola</td>\n",
       "    </tr>\n",
       "    <tr>\n",
       "      <th>4</th>\n",
       "      <td>1.033576</td>\n",
       "      <td>0.136659</td>\n",
       "      <td>-0.225721</td>\n",
       "      <td>-0.847063</td>\n",
       "      <td>1</td>\n",
       "      <td>Antigua and Barbuda</td>\n",
       "    </tr>\n",
       "  </tbody>\n",
       "</table>\n",
       "</div>"
      ],
      "text/plain": [
       "        PC1       PC2       PC3       PC4  cluster_id              country\n",
       "0 -2.913025  0.095621 -0.718118  1.005255           4          Afghanistan\n",
       "1  0.429911 -0.588156 -0.333486 -1.161059           3              Albania\n",
       "2 -0.285225 -0.455174  1.221505 -0.868115           3              Algeria\n",
       "3 -2.932423  1.695555  1.525044  0.839625           4               Angola\n",
       "4  1.033576  0.136659 -0.225721 -0.847063           1  Antigua and Barbuda"
      ]
     },
     "execution_count": 44,
     "metadata": {},
     "output_type": "execute_result"
    }
   ],
   "source": [
    "df_outlier_done.head()"
   ]
  },
  {
   "cell_type": "markdown",
   "metadata": {},
   "source": [
    "#### Adding cluster_ids to the outlier countries\n",
    "We will find the cluster centers based on mean of PC components in each cluster and than find the nearest cluster center to the outlier data and assign that cluster id to it."
   ]
  },
  {
   "cell_type": "code",
   "execution_count": 45,
   "metadata": {},
   "outputs": [],
   "source": [
    "# Calculating means of PC to compute distances for the outliers\n",
    "\n",
    "PC1_mean = pd.DataFrame(df_outlier_done.groupby(['cluster_id']).PC1.mean())\n",
    "PC2_mean = pd.DataFrame(df_outlier_done.groupby(['cluster_id']).PC2.mean())\n",
    "PC3_mean = pd.DataFrame(df_outlier_done.groupby(['cluster_id']).PC3.mean())\n",
    "PC4_mean = pd.DataFrame(df_outlier_done.groupby(['cluster_id']).PC4.mean())"
   ]
  },
  {
   "cell_type": "code",
   "execution_count": 46,
   "metadata": {},
   "outputs": [
    {
     "data": {
      "text/html": [
       "<div>\n",
       "<style scoped>\n",
       "    .dataframe tbody tr th:only-of-type {\n",
       "        vertical-align: middle;\n",
       "    }\n",
       "\n",
       "    .dataframe tbody tr th {\n",
       "        vertical-align: top;\n",
       "    }\n",
       "\n",
       "    .dataframe thead th {\n",
       "        text-align: right;\n",
       "    }\n",
       "</style>\n",
       "<table border=\"1\" class=\"dataframe\">\n",
       "  <thead>\n",
       "    <tr style=\"text-align: right;\">\n",
       "      <th></th>\n",
       "      <th>cluster_id</th>\n",
       "      <th>PC1_mean</th>\n",
       "      <th>PC2_mean</th>\n",
       "      <th>PC3_mean</th>\n",
       "      <th>PC4_mean</th>\n",
       "    </tr>\n",
       "  </thead>\n",
       "  <tbody>\n",
       "    <tr>\n",
       "      <th>0</th>\n",
       "      <td>0</td>\n",
       "      <td>-1.732452</td>\n",
       "      <td>0.158313</td>\n",
       "      <td>0.081945</td>\n",
       "      <td>0.076225</td>\n",
       "    </tr>\n",
       "    <tr>\n",
       "      <th>1</th>\n",
       "      <td>1</td>\n",
       "      <td>0.823858</td>\n",
       "      <td>0.369471</td>\n",
       "      <td>-0.312134</td>\n",
       "      <td>-0.784885</td>\n",
       "    </tr>\n",
       "    <tr>\n",
       "      <th>2</th>\n",
       "      <td>2</td>\n",
       "      <td>2.523957</td>\n",
       "      <td>-1.008401</td>\n",
       "      <td>-0.384396</td>\n",
       "      <td>0.932635</td>\n",
       "    </tr>\n",
       "    <tr>\n",
       "      <th>3</th>\n",
       "      <td>3</td>\n",
       "      <td>-0.233629</td>\n",
       "      <td>-0.793041</td>\n",
       "      <td>0.289903</td>\n",
       "      <td>-0.794272</td>\n",
       "    </tr>\n",
       "    <tr>\n",
       "      <th>4</th>\n",
       "      <td>4</td>\n",
       "      <td>-3.080865</td>\n",
       "      <td>0.557857</td>\n",
       "      <td>-0.423225</td>\n",
       "      <td>1.069396</td>\n",
       "    </tr>\n",
       "  </tbody>\n",
       "</table>\n",
       "</div>"
      ],
      "text/plain": [
       "   cluster_id  PC1_mean  PC2_mean  PC3_mean  PC4_mean\n",
       "0           0 -1.732452  0.158313  0.081945  0.076225\n",
       "1           1  0.823858  0.369471 -0.312134 -0.784885\n",
       "2           2  2.523957 -1.008401 -0.384396  0.932635\n",
       "3           3 -0.233629 -0.793041  0.289903 -0.794272\n",
       "4           4 -3.080865  0.557857 -0.423225  1.069396"
      ]
     },
     "execution_count": 46,
     "metadata": {},
     "output_type": "execute_result"
    }
   ],
   "source": [
    "# Creating dataframe with cluster_id and cluster_centers for each.\n",
    "\n",
    "ranked = pd.concat([pd.Series([0,1,2,3,4]), PC1_mean, PC2_mean, PC3_mean, PC4_mean ], axis=1)\n",
    "ranked.columns = ['cluster_id', 'PC1_mean', 'PC2_mean', 'PC3_mean', 'PC4_mean']\n",
    "ranked"
   ]
  },
  {
   "cell_type": "code",
   "execution_count": 47,
   "metadata": {},
   "outputs": [],
   "source": [
    "merged_countries = pd.merge(df_outlier_done, countries, how='right', on=['country'])"
   ]
  },
  {
   "cell_type": "code",
   "execution_count": 48,
   "metadata": {},
   "outputs": [
    {
     "data": {
      "text/html": [
       "<div>\n",
       "<style scoped>\n",
       "    .dataframe tbody tr th:only-of-type {\n",
       "        vertical-align: middle;\n",
       "    }\n",
       "\n",
       "    .dataframe tbody tr th {\n",
       "        vertical-align: top;\n",
       "    }\n",
       "\n",
       "    .dataframe thead th {\n",
       "        text-align: right;\n",
       "    }\n",
       "</style>\n",
       "<table border=\"1\" class=\"dataframe\">\n",
       "  <thead>\n",
       "    <tr style=\"text-align: right;\">\n",
       "      <th></th>\n",
       "      <th>PC1</th>\n",
       "      <th>PC2</th>\n",
       "      <th>PC3</th>\n",
       "      <th>PC4</th>\n",
       "      <th>country</th>\n",
       "    </tr>\n",
       "  </thead>\n",
       "  <tbody>\n",
       "    <tr>\n",
       "      <th>23</th>\n",
       "      <td>2.460086</td>\n",
       "      <td>0.016454</td>\n",
       "      <td>3.019840</td>\n",
       "      <td>0.776841</td>\n",
       "      <td>Brunei</td>\n",
       "    </tr>\n",
       "    <tr>\n",
       "      <th>49</th>\n",
       "      <td>-1.293423</td>\n",
       "      <td>2.363695</td>\n",
       "      <td>1.779334</td>\n",
       "      <td>1.737244</td>\n",
       "      <td>Equatorial Guinea</td>\n",
       "    </tr>\n",
       "    <tr>\n",
       "      <th>81</th>\n",
       "      <td>-1.239217</td>\n",
       "      <td>0.369138</td>\n",
       "      <td>-2.368274</td>\n",
       "      <td>0.592231</td>\n",
       "      <td>Kiribati</td>\n",
       "    </tr>\n",
       "    <tr>\n",
       "      <th>82</th>\n",
       "      <td>2.465659</td>\n",
       "      <td>0.088050</td>\n",
       "      <td>2.652268</td>\n",
       "      <td>0.708884</td>\n",
       "      <td>Kuwait</td>\n",
       "    </tr>\n",
       "    <tr>\n",
       "      <th>87</th>\n",
       "      <td>-1.803151</td>\n",
       "      <td>2.037851</td>\n",
       "      <td>-2.496885</td>\n",
       "      <td>1.072199</td>\n",
       "      <td>Lesotho</td>\n",
       "    </tr>\n",
       "  </tbody>\n",
       "</table>\n",
       "</div>"
      ],
      "text/plain": [
       "         PC1       PC2       PC3       PC4            country\n",
       "23  2.460086  0.016454  3.019840  0.776841             Brunei\n",
       "49 -1.293423  2.363695  1.779334  1.737244  Equatorial Guinea\n",
       "81 -1.239217  0.369138 -2.368274  0.592231           Kiribati\n",
       "82  2.465659  0.088050  2.652268  0.708884             Kuwait\n",
       "87 -1.803151  2.037851 -2.496885  1.072199            Lesotho"
      ]
     },
     "execution_count": 48,
     "metadata": {},
     "output_type": "execute_result"
    }
   ],
   "source": [
    "# Getting all the outlier countries i.e. without any cluster assignment\n",
    "\n",
    "non_cluster = pca_df[pca_df['country'].isin(merged_countries[merged_countries['cluster_id'].isnull()]['country'])]\n",
    "non_cluster.head()"
   ]
  },
  {
   "cell_type": "code",
   "execution_count": 49,
   "metadata": {},
   "outputs": [
    {
     "data": {
      "text/plain": [
       "(20, 4)"
      ]
     },
     "execution_count": 49,
     "metadata": {},
     "output_type": "execute_result"
    }
   ],
   "source": [
    "a = np.array(non_cluster[['PC1','PC2','PC3', 'PC4']])\n",
    "b = np.array(ranked[['PC1_mean', 'PC2_mean', 'PC3_mean', 'PC4_mean']])\n",
    "a.shape"
   ]
  },
  {
   "cell_type": "code",
   "execution_count": 50,
   "metadata": {},
   "outputs": [],
   "source": [
    "# Computing distance for outliers from cluster-centres and assigning cluster_id to them\n",
    "\n",
    "dist = []\n",
    "for i in range(0,len(a)):\n",
    "    for j in range(0,len(b)):\n",
    "        dist.append(np.linalg.norm(a[i]-b[j]))\n",
    "\n",
    "# This list contains distance of each country in the outlier from all the cluster means. Converting it to an array.\n",
    "array = np.asarray(dist).reshape(len(a),len(b))\n",
    "\n",
    "# Generating a cluster_id based on minimum distance from cluster center.\n",
    "cluster_id = np.argmin(array, axis=1)"
   ]
  },
  {
   "cell_type": "code",
   "execution_count": 51,
   "metadata": {},
   "outputs": [],
   "source": [
    "# Resetting indexes in the outlier dataset and adding the newly generated cluster ids to them.\n",
    "non_cluster.reset_index(inplace=True)\n",
    "non_cluster['cluster_id'] = pd.Series(cluster_id)"
   ]
  },
  {
   "cell_type": "code",
   "execution_count": 52,
   "metadata": {},
   "outputs": [
    {
     "data": {
      "text/html": [
       "<div>\n",
       "<style scoped>\n",
       "    .dataframe tbody tr th:only-of-type {\n",
       "        vertical-align: middle;\n",
       "    }\n",
       "\n",
       "    .dataframe tbody tr th {\n",
       "        vertical-align: top;\n",
       "    }\n",
       "\n",
       "    .dataframe thead th {\n",
       "        text-align: right;\n",
       "    }\n",
       "</style>\n",
       "<table border=\"1\" class=\"dataframe\">\n",
       "  <thead>\n",
       "    <tr style=\"text-align: right;\">\n",
       "      <th></th>\n",
       "      <th>PC1</th>\n",
       "      <th>PC2</th>\n",
       "      <th>PC3</th>\n",
       "      <th>PC4</th>\n",
       "      <th>country</th>\n",
       "      <th>cluster_id</th>\n",
       "    </tr>\n",
       "    <tr>\n",
       "      <th>index</th>\n",
       "      <th></th>\n",
       "      <th></th>\n",
       "      <th></th>\n",
       "      <th></th>\n",
       "      <th></th>\n",
       "      <th></th>\n",
       "    </tr>\n",
       "  </thead>\n",
       "  <tbody>\n",
       "    <tr>\n",
       "      <th>23</th>\n",
       "      <td>2.460086</td>\n",
       "      <td>0.016454</td>\n",
       "      <td>3.019840</td>\n",
       "      <td>0.776841</td>\n",
       "      <td>Brunei</td>\n",
       "      <td>2</td>\n",
       "    </tr>\n",
       "    <tr>\n",
       "      <th>49</th>\n",
       "      <td>-1.293423</td>\n",
       "      <td>2.363695</td>\n",
       "      <td>1.779334</td>\n",
       "      <td>1.737244</td>\n",
       "      <td>Equatorial Guinea</td>\n",
       "      <td>0</td>\n",
       "    </tr>\n",
       "    <tr>\n",
       "      <th>81</th>\n",
       "      <td>-1.239217</td>\n",
       "      <td>0.369138</td>\n",
       "      <td>-2.368274</td>\n",
       "      <td>0.592231</td>\n",
       "      <td>Kiribati</td>\n",
       "      <td>0</td>\n",
       "    </tr>\n",
       "    <tr>\n",
       "      <th>82</th>\n",
       "      <td>2.465659</td>\n",
       "      <td>0.088050</td>\n",
       "      <td>2.652268</td>\n",
       "      <td>0.708884</td>\n",
       "      <td>Kuwait</td>\n",
       "      <td>2</td>\n",
       "    </tr>\n",
       "    <tr>\n",
       "      <th>87</th>\n",
       "      <td>-1.803151</td>\n",
       "      <td>2.037851</td>\n",
       "      <td>-2.496885</td>\n",
       "      <td>1.072199</td>\n",
       "      <td>Lesotho</td>\n",
       "      <td>4</td>\n",
       "    </tr>\n",
       "    <tr>\n",
       "      <th>88</th>\n",
       "      <td>-1.773580</td>\n",
       "      <td>1.053399</td>\n",
       "      <td>-2.390440</td>\n",
       "      <td>1.179569</td>\n",
       "      <td>Liberia</td>\n",
       "      <td>4</td>\n",
       "    </tr>\n",
       "    <tr>\n",
       "      <th>91</th>\n",
       "      <td>6.917755</td>\n",
       "      <td>4.849844</td>\n",
       "      <td>1.001837</td>\n",
       "      <td>3.129643</td>\n",
       "      <td>Luxembourg</td>\n",
       "      <td>2</td>\n",
       "    </tr>\n",
       "    <tr>\n",
       "      <th>98</th>\n",
       "      <td>3.679543</td>\n",
       "      <td>4.765486</td>\n",
       "      <td>-1.021313</td>\n",
       "      <td>-0.501107</td>\n",
       "      <td>Malta</td>\n",
       "      <td>1</td>\n",
       "    </tr>\n",
       "    <tr>\n",
       "      <th>101</th>\n",
       "      <td>-0.380929</td>\n",
       "      <td>0.101774</td>\n",
       "      <td>-2.714085</td>\n",
       "      <td>0.771974</td>\n",
       "      <td>Micronesia, Fed. Sts.</td>\n",
       "      <td>1</td>\n",
       "    </tr>\n",
       "    <tr>\n",
       "      <th>103</th>\n",
       "      <td>-0.944976</td>\n",
       "      <td>0.529800</td>\n",
       "      <td>1.854419</td>\n",
       "      <td>-0.394166</td>\n",
       "      <td>Mongolia</td>\n",
       "      <td>0</td>\n",
       "    </tr>\n",
       "    <tr>\n",
       "      <th>113</th>\n",
       "      <td>-4.912066</td>\n",
       "      <td>-0.094499</td>\n",
       "      <td>6.110158</td>\n",
       "      <td>2.412421</td>\n",
       "      <td>Nigeria</td>\n",
       "      <td>4</td>\n",
       "    </tr>\n",
       "    <tr>\n",
       "      <th>114</th>\n",
       "      <td>3.721195</td>\n",
       "      <td>-1.447255</td>\n",
       "      <td>0.888029</td>\n",
       "      <td>2.764339</td>\n",
       "      <td>Norway</td>\n",
       "      <td>2</td>\n",
       "    </tr>\n",
       "    <tr>\n",
       "      <th>115</th>\n",
       "      <td>1.127387</td>\n",
       "      <td>0.491611</td>\n",
       "      <td>2.133501</td>\n",
       "      <td>-0.176492</td>\n",
       "      <td>Oman</td>\n",
       "      <td>1</td>\n",
       "    </tr>\n",
       "    <tr>\n",
       "      <th>123</th>\n",
       "      <td>4.242296</td>\n",
       "      <td>-0.195604</td>\n",
       "      <td>3.643875</td>\n",
       "      <td>2.389811</td>\n",
       "      <td>Qatar</td>\n",
       "      <td>2</td>\n",
       "    </tr>\n",
       "    <tr>\n",
       "      <th>128</th>\n",
       "      <td>0.855936</td>\n",
       "      <td>-0.183441</td>\n",
       "      <td>1.903072</td>\n",
       "      <td>0.202259</td>\n",
       "      <td>Saudi Arabia</td>\n",
       "      <td>3</td>\n",
       "    </tr>\n",
       "    <tr>\n",
       "      <th>131</th>\n",
       "      <td>1.602598</td>\n",
       "      <td>2.939121</td>\n",
       "      <td>-0.386691</td>\n",
       "      <td>-1.400371</td>\n",
       "      <td>Seychelles</td>\n",
       "      <td>1</td>\n",
       "    </tr>\n",
       "    <tr>\n",
       "      <th>133</th>\n",
       "      <td>5.783376</td>\n",
       "      <td>6.682090</td>\n",
       "      <td>0.654420</td>\n",
       "      <td>0.089638</td>\n",
       "      <td>Singapore</td>\n",
       "      <td>1</td>\n",
       "    </tr>\n",
       "    <tr>\n",
       "      <th>157</th>\n",
       "      <td>2.427141</td>\n",
       "      <td>1.151813</td>\n",
       "      <td>1.828538</td>\n",
       "      <td>0.276080</td>\n",
       "      <td>United Arab Emirates</td>\n",
       "      <td>1</td>\n",
       "    </tr>\n",
       "    <tr>\n",
       "      <th>159</th>\n",
       "      <td>2.641206</td>\n",
       "      <td>-2.997364</td>\n",
       "      <td>-1.721878</td>\n",
       "      <td>2.827110</td>\n",
       "      <td>United States</td>\n",
       "      <td>2</td>\n",
       "    </tr>\n",
       "    <tr>\n",
       "      <th>163</th>\n",
       "      <td>-0.551036</td>\n",
       "      <td>-1.233886</td>\n",
       "      <td>3.101350</td>\n",
       "      <td>-0.115311</td>\n",
       "      <td>Venezuela</td>\n",
       "      <td>3</td>\n",
       "    </tr>\n",
       "  </tbody>\n",
       "</table>\n",
       "</div>"
      ],
      "text/plain": [
       "            PC1       PC2       PC3       PC4                country  \\\n",
       "index                                                                  \n",
       "23     2.460086  0.016454  3.019840  0.776841                 Brunei   \n",
       "49    -1.293423  2.363695  1.779334  1.737244      Equatorial Guinea   \n",
       "81    -1.239217  0.369138 -2.368274  0.592231               Kiribati   \n",
       "82     2.465659  0.088050  2.652268  0.708884                 Kuwait   \n",
       "87    -1.803151  2.037851 -2.496885  1.072199                Lesotho   \n",
       "88    -1.773580  1.053399 -2.390440  1.179569                Liberia   \n",
       "91     6.917755  4.849844  1.001837  3.129643             Luxembourg   \n",
       "98     3.679543  4.765486 -1.021313 -0.501107                  Malta   \n",
       "101   -0.380929  0.101774 -2.714085  0.771974  Micronesia, Fed. Sts.   \n",
       "103   -0.944976  0.529800  1.854419 -0.394166               Mongolia   \n",
       "113   -4.912066 -0.094499  6.110158  2.412421                Nigeria   \n",
       "114    3.721195 -1.447255  0.888029  2.764339                 Norway   \n",
       "115    1.127387  0.491611  2.133501 -0.176492                   Oman   \n",
       "123    4.242296 -0.195604  3.643875  2.389811                  Qatar   \n",
       "128    0.855936 -0.183441  1.903072  0.202259           Saudi Arabia   \n",
       "131    1.602598  2.939121 -0.386691 -1.400371             Seychelles   \n",
       "133    5.783376  6.682090  0.654420  0.089638              Singapore   \n",
       "157    2.427141  1.151813  1.828538  0.276080   United Arab Emirates   \n",
       "159    2.641206 -2.997364 -1.721878  2.827110          United States   \n",
       "163   -0.551036 -1.233886  3.101350 -0.115311              Venezuela   \n",
       "\n",
       "       cluster_id  \n",
       "index              \n",
       "23              2  \n",
       "49              0  \n",
       "81              0  \n",
       "82              2  \n",
       "87              4  \n",
       "88              4  \n",
       "91              2  \n",
       "98              1  \n",
       "101             1  \n",
       "103             0  \n",
       "113             4  \n",
       "114             2  \n",
       "115             1  \n",
       "123             2  \n",
       "128             3  \n",
       "131             1  \n",
       "133             1  \n",
       "157             1  \n",
       "159             2  \n",
       "163             3  "
      ]
     },
     "execution_count": 52,
     "metadata": {},
     "output_type": "execute_result"
    }
   ],
   "source": [
    "non_cluster.set_index('index')"
   ]
  },
  {
   "cell_type": "markdown",
   "metadata": {},
   "source": [
    "#### Creating a final dataset having inital features with cluster_id."
   ]
  },
  {
   "cell_type": "code",
   "execution_count": 53,
   "metadata": {},
   "outputs": [],
   "source": [
    "without_outlier_df = pca_df.merge(df_outlier_done, left_on='country', right_on='country', how='left')"
   ]
  },
  {
   "cell_type": "code",
   "execution_count": 54,
   "metadata": {},
   "outputs": [],
   "source": [
    "# Getting the dataframe after merging the outlier data with clustered data before outliers.\n",
    "\n",
    "final_df = without_outlier_df.merge(non_cluster, left_on='country', right_on='country', how='left')\n",
    "final_df.drop([ 'PC1_y','PC2_y', 'PC3_y', 'PC4_y', 'PC1', 'PC2','PC3', 'PC4', 'index'], inplace=True, axis=1)\n",
    "final_df['cluster_id_x'].fillna(final_df['cluster_id_y'], inplace=True)\n",
    "final_df.drop('cluster_id_y', inplace=True, axis=1)\n",
    "final_df.columns = ['PC1','PC2','PC3','PC4', 'country', 'cluster_id']"
   ]
  },
  {
   "cell_type": "code",
   "execution_count": 55,
   "metadata": {},
   "outputs": [
    {
     "data": {
      "text/html": [
       "<div>\n",
       "<style scoped>\n",
       "    .dataframe tbody tr th:only-of-type {\n",
       "        vertical-align: middle;\n",
       "    }\n",
       "\n",
       "    .dataframe tbody tr th {\n",
       "        vertical-align: top;\n",
       "    }\n",
       "\n",
       "    .dataframe thead th {\n",
       "        text-align: right;\n",
       "    }\n",
       "</style>\n",
       "<table border=\"1\" class=\"dataframe\">\n",
       "  <thead>\n",
       "    <tr style=\"text-align: right;\">\n",
       "      <th></th>\n",
       "      <th>country</th>\n",
       "      <th>cluster_id</th>\n",
       "      <th>child_mort</th>\n",
       "      <th>exports</th>\n",
       "      <th>health</th>\n",
       "      <th>imports</th>\n",
       "      <th>income</th>\n",
       "      <th>inflation</th>\n",
       "      <th>life_expec</th>\n",
       "      <th>total_fer</th>\n",
       "      <th>gdpp</th>\n",
       "    </tr>\n",
       "  </thead>\n",
       "  <tbody>\n",
       "    <tr>\n",
       "      <th>0</th>\n",
       "      <td>Afghanistan</td>\n",
       "      <td>4.0</td>\n",
       "      <td>90.2</td>\n",
       "      <td>10.0</td>\n",
       "      <td>7.58</td>\n",
       "      <td>44.9</td>\n",
       "      <td>1610</td>\n",
       "      <td>9.44</td>\n",
       "      <td>56.2</td>\n",
       "      <td>5.82</td>\n",
       "      <td>553</td>\n",
       "    </tr>\n",
       "    <tr>\n",
       "      <th>1</th>\n",
       "      <td>Albania</td>\n",
       "      <td>3.0</td>\n",
       "      <td>16.6</td>\n",
       "      <td>28.0</td>\n",
       "      <td>6.55</td>\n",
       "      <td>48.6</td>\n",
       "      <td>9930</td>\n",
       "      <td>4.49</td>\n",
       "      <td>76.3</td>\n",
       "      <td>1.65</td>\n",
       "      <td>4090</td>\n",
       "    </tr>\n",
       "    <tr>\n",
       "      <th>2</th>\n",
       "      <td>Algeria</td>\n",
       "      <td>3.0</td>\n",
       "      <td>27.3</td>\n",
       "      <td>38.4</td>\n",
       "      <td>4.17</td>\n",
       "      <td>31.4</td>\n",
       "      <td>12900</td>\n",
       "      <td>16.10</td>\n",
       "      <td>76.5</td>\n",
       "      <td>2.89</td>\n",
       "      <td>4460</td>\n",
       "    </tr>\n",
       "    <tr>\n",
       "      <th>3</th>\n",
       "      <td>Angola</td>\n",
       "      <td>4.0</td>\n",
       "      <td>119.0</td>\n",
       "      <td>62.3</td>\n",
       "      <td>2.85</td>\n",
       "      <td>42.9</td>\n",
       "      <td>5900</td>\n",
       "      <td>22.40</td>\n",
       "      <td>60.1</td>\n",
       "      <td>6.16</td>\n",
       "      <td>3530</td>\n",
       "    </tr>\n",
       "    <tr>\n",
       "      <th>4</th>\n",
       "      <td>Antigua and Barbuda</td>\n",
       "      <td>1.0</td>\n",
       "      <td>10.3</td>\n",
       "      <td>45.5</td>\n",
       "      <td>6.03</td>\n",
       "      <td>58.9</td>\n",
       "      <td>19100</td>\n",
       "      <td>1.44</td>\n",
       "      <td>76.8</td>\n",
       "      <td>2.13</td>\n",
       "      <td>12200</td>\n",
       "    </tr>\n",
       "  </tbody>\n",
       "</table>\n",
       "</div>"
      ],
      "text/plain": [
       "               country  cluster_id  child_mort  exports  health  imports  \\\n",
       "0          Afghanistan         4.0        90.2     10.0    7.58     44.9   \n",
       "1              Albania         3.0        16.6     28.0    6.55     48.6   \n",
       "2              Algeria         3.0        27.3     38.4    4.17     31.4   \n",
       "3               Angola         4.0       119.0     62.3    2.85     42.9   \n",
       "4  Antigua and Barbuda         1.0        10.3     45.5    6.03     58.9   \n",
       "\n",
       "   income  inflation  life_expec  total_fer   gdpp  \n",
       "0    1610       9.44        56.2       5.82    553  \n",
       "1    9930       4.49        76.3       1.65   4090  \n",
       "2   12900      16.10        76.5       2.89   4460  \n",
       "3    5900      22.40        60.1       6.16   3530  \n",
       "4   19100       1.44        76.8       2.13  12200  "
      ]
     },
     "execution_count": 55,
     "metadata": {},
     "output_type": "execute_result"
    }
   ],
   "source": [
    "# Getting the final dataset containing original features and cluster_ids\n",
    "\n",
    "clustered_countries = final_df.merge(countries,left_on='country', right_on='country')\n",
    "clustered_countries.drop(['PC1','PC2','PC3','PC4'], inplace=True, axis=1)\n",
    "clustered_countries.head()"
   ]
  },
  {
   "cell_type": "code",
   "execution_count": 56,
   "metadata": {},
   "outputs": [
    {
     "data": {
      "text/html": [
       "<div>\n",
       "<style scoped>\n",
       "    .dataframe tbody tr th:only-of-type {\n",
       "        vertical-align: middle;\n",
       "    }\n",
       "\n",
       "    .dataframe tbody tr th {\n",
       "        vertical-align: top;\n",
       "    }\n",
       "\n",
       "    .dataframe thead th {\n",
       "        text-align: right;\n",
       "    }\n",
       "</style>\n",
       "<table border=\"1\" class=\"dataframe\">\n",
       "  <thead>\n",
       "    <tr style=\"text-align: right;\">\n",
       "      <th></th>\n",
       "      <th>child_mort</th>\n",
       "      <th>exports</th>\n",
       "      <th>gdpp</th>\n",
       "      <th>health</th>\n",
       "      <th>imports</th>\n",
       "      <th>income</th>\n",
       "      <th>inflation</th>\n",
       "      <th>life_expec</th>\n",
       "      <th>total_fer</th>\n",
       "    </tr>\n",
       "    <tr>\n",
       "      <th>cluster_id</th>\n",
       "      <th></th>\n",
       "      <th></th>\n",
       "      <th></th>\n",
       "      <th></th>\n",
       "      <th></th>\n",
       "      <th></th>\n",
       "      <th></th>\n",
       "      <th></th>\n",
       "      <th></th>\n",
       "    </tr>\n",
       "  </thead>\n",
       "  <tbody>\n",
       "    <tr>\n",
       "      <th>0.0</th>\n",
       "      <td>63.900000</td>\n",
       "      <td>32.821852</td>\n",
       "      <td>2873.555556</td>\n",
       "      <td>5.920741</td>\n",
       "      <td>43.851852</td>\n",
       "      <td>5753.703704</td>\n",
       "      <td>12.220000</td>\n",
       "      <td>63.392593</td>\n",
       "      <td>4.321111</td>\n",
       "    </tr>\n",
       "    <tr>\n",
       "      <th>1.0</th>\n",
       "      <td>15.579167</td>\n",
       "      <td>59.689583</td>\n",
       "      <td>10706.375000</td>\n",
       "      <td>6.681875</td>\n",
       "      <td>65.637500</td>\n",
       "      <td>18121.666667</td>\n",
       "      <td>4.347271</td>\n",
       "      <td>74.260417</td>\n",
       "      <td>1.986875</td>\n",
       "    </tr>\n",
       "    <tr>\n",
       "      <th>2.0</th>\n",
       "      <td>4.825000</td>\n",
       "      <td>49.017857</td>\n",
       "      <td>47039.285714</td>\n",
       "      <td>9.509643</td>\n",
       "      <td>41.671429</td>\n",
       "      <td>47403.571429</td>\n",
       "      <td>2.436286</td>\n",
       "      <td>80.575000</td>\n",
       "      <td>1.820357</td>\n",
       "    </tr>\n",
       "    <tr>\n",
       "      <th>3.0</th>\n",
       "      <td>25.080000</td>\n",
       "      <td>27.499725</td>\n",
       "      <td>5900.200000</td>\n",
       "      <td>5.643500</td>\n",
       "      <td>31.871648</td>\n",
       "      <td>11654.500000</td>\n",
       "      <td>9.915650</td>\n",
       "      <td>72.997500</td>\n",
       "      <td>2.417500</td>\n",
       "    </tr>\n",
       "    <tr>\n",
       "      <th>4.0</th>\n",
       "      <td>115.820833</td>\n",
       "      <td>26.725833</td>\n",
       "      <td>850.583333</td>\n",
       "      <td>6.900833</td>\n",
       "      <td>43.933333</td>\n",
       "      <td>1853.875000</td>\n",
       "      <td>12.338125</td>\n",
       "      <td>55.445833</td>\n",
       "      <td>5.525000</td>\n",
       "    </tr>\n",
       "  </tbody>\n",
       "</table>\n",
       "</div>"
      ],
      "text/plain": [
       "            child_mort    exports          gdpp    health    imports  \\\n",
       "cluster_id                                                             \n",
       "0.0          63.900000  32.821852   2873.555556  5.920741  43.851852   \n",
       "1.0          15.579167  59.689583  10706.375000  6.681875  65.637500   \n",
       "2.0           4.825000  49.017857  47039.285714  9.509643  41.671429   \n",
       "3.0          25.080000  27.499725   5900.200000  5.643500  31.871648   \n",
       "4.0         115.820833  26.725833    850.583333  6.900833  43.933333   \n",
       "\n",
       "                  income  inflation  life_expec  total_fer  \n",
       "cluster_id                                                  \n",
       "0.0          5753.703704  12.220000   63.392593   4.321111  \n",
       "1.0         18121.666667   4.347271   74.260417   1.986875  \n",
       "2.0         47403.571429   2.436286   80.575000   1.820357  \n",
       "3.0         11654.500000   9.915650   72.997500   2.417500  \n",
       "4.0          1853.875000  12.338125   55.445833   5.525000  "
      ]
     },
     "execution_count": 56,
     "metadata": {},
     "output_type": "execute_result"
    }
   ],
   "source": [
    "# Creating pivoted data for plotting based on cluster centers.\n",
    "\n",
    "pivoted_data = pd.pivot_table(clustered_countries, values=['child_mort', 'exports', 'health', 'imports', 'income','inflation', 'life_expec', 'total_fer', 'gdpp'], index=['cluster_id'], aggfunc=np.mean)\n",
    "pivoted_data"
   ]
  },
  {
   "cell_type": "code",
   "execution_count": 57,
   "metadata": {},
   "outputs": [
    {
     "data": {
      "image/png": "[encoded data removed]",
      "text/plain": [
       "<Figure size 1080x684 with 9 Axes>"
      ]
     },
     "metadata": {
      "needs_background": "light"
     },
     "output_type": "display_data"
    }
   ],
   "source": [
    "# Plotting single variable means with cluster_id\n",
    "\n",
    "fig, axarr = plt.subplots(3, 3, figsize=(15, 9.5))\n",
    "sns.barplot(x=pivoted_data.index, y=pivoted_data.child_mort,ax= axarr[0][0])\n",
    "sns.barplot(x=pivoted_data.index, y=pivoted_data.exports,ax= axarr[0][1])\n",
    "sns.barplot(x=pivoted_data.index, y=pivoted_data.gdpp,ax= axarr[0][2])\n",
    "sns.barplot(x=pivoted_data.index, y=pivoted_data.health,ax= axarr[1][0])\n",
    "sns.barplot(x=pivoted_data.index, y=pivoted_data.imports,ax= axarr[1][1])\n",
    "sns.barplot(x=pivoted_data.index, y=pivoted_data.income,ax= axarr[1][2])\n",
    "sns.barplot(x=pivoted_data.index, y=pivoted_data.life_expec,ax= axarr[2][0])\n",
    "sns.barplot(x=pivoted_data.index, y=pivoted_data.total_fer,ax= axarr[2][1])\n",
    "sns.barplot(x=pivoted_data.index, y=pivoted_data.inflation,ax= axarr[2][2])\n",
    "plt.show()"
   ]
  },
  {
   "cell_type": "code",
   "execution_count": 58,
   "metadata": {},
   "outputs": [
    {
     "data": {
      "image/png": "[encoded data removed]",
      "text/plain": [
       "<Figure size 1152x720 with 9 Axes>"
      ]
     },
     "metadata": {
      "needs_background": "light"
     },
     "output_type": "display_data"
    }
   ],
   "source": [
    "fig, axarr = plt.subplots(3, 3, figsize=(16, 10))\n",
    "\n",
    "sns.scatterplot(x='child_mort', y='income', hue='cluster_id', data=clustered_countries, ax= axarr[0][0])\n",
    "sns.scatterplot(x='child_mort', y='gdpp', hue='cluster_id', data=clustered_countries, ax= axarr[0][1])\n",
    "sns.scatterplot(x='child_mort', y='life_expec', hue='cluster_id', data=clustered_countries, ax= axarr[0][2])\n",
    "sns.scatterplot(x='total_fer', y='income', hue='cluster_id', data=clustered_countries, ax= axarr[1][0])\n",
    "sns.scatterplot(x='total_fer', y='gdpp', hue='cluster_id', data=clustered_countries, ax= axarr[1][1])\n",
    "sns.scatterplot(x='total_fer', y='life_expec', hue='cluster_id', data=clustered_countries, ax= axarr[1][2])\n",
    "sns.scatterplot(x='inflation', y='income', hue='cluster_id', data=clustered_countries, ax= axarr[2][0])\n",
    "sns.scatterplot(x='inflation', y='gdpp', hue='cluster_id', data=clustered_countries, ax= axarr[2][1])\n",
    "sns.scatterplot(x='inflation', y='life_expec', hue='cluster_id', data=clustered_countries, ax= axarr[2][2])\n",
    "\n",
    "plt.show()\n"
   ]
  },
  {
   "cell_type": "code",
   "execution_count": 59,
   "metadata": {},
   "outputs": [
    {
     "data": {
      "image/png": "[encoded data removed]",
      "text/plain": [
       "<Figure size 1152x720 with 9 Axes>"
      ]
     },
     "metadata": {
      "needs_background": "light"
     },
     "output_type": "display_data"
    }
   ],
   "source": [
    "fig, axarr = plt.subplots(3, 3, figsize=(16, 10))\n",
    "\n",
    "sns.scatterplot(x='exports', y='income', hue='cluster_id', data=clustered_countries, ax= axarr[0][0])\n",
    "sns.scatterplot(x='exports', y='gdpp', hue='cluster_id', data=clustered_countries, ax= axarr[0][1])\n",
    "sns.scatterplot(x='exports', y='life_expec', hue='cluster_id', data=clustered_countries, ax= axarr[0][2])\n",
    "sns.scatterplot(x='imports', y='income', hue='cluster_id', data=clustered_countries, ax= axarr[1][0])\n",
    "sns.scatterplot(x='imports', y='gdpp', hue='cluster_id', data=clustered_countries, ax= axarr[1][1])\n",
    "sns.scatterplot(x='imports', y='life_expec', hue='cluster_id', data=clustered_countries, ax= axarr[1][2])\n",
    "sns.scatterplot(x='health', y='income', hue='cluster_id', data=clustered_countries, ax= axarr[2][0])\n",
    "sns.scatterplot(x='health', y='gdpp', hue='cluster_id', data=clustered_countries, ax= axarr[2][1])\n",
    "sns.scatterplot(x='health', y='life_expec', hue='cluster_id', data=clustered_countries, ax= axarr[2][2])\n",
    "\n",
    "plt.show()"
   ]
  },
  {
   "attachments": {},
   "cell_type": "markdown",
   "metadata": {},
   "source": [
    "#### Observations/ Conclusions:\n",
    "\n",
    "Based on above plots following are our observations: \n",
    "\n",
    "1. Countries falling in the cluster_id = 4 have highest child mortality rates, lowest GDPP, lowest income, high inflation, lowest life expectancy, highest fertility rate and lowest exports among all clusters. This cluster contains the countries which is in most need of funding.\n",
    "\n",
    "2. Cluster_id = 4 is followed by cluster_id = 0. These countries also have high child mortality rates, low GDPP, low income, high inflation, low life expectancy, high fertility rate and low exports. This cluster can also use funding if it is available after investing in cluster_id = 4.\n",
    "\n",
    "3. Cluster_id = 0 is followed by cluster_id = 3. These countries have lower child mortality rate, inflation and total fertility rate than cluster_id = 0 and 4 but still higher than cluster_id = 1 and 2. They have higher GDPP, income and life expectancy than cluster_id = 0 and 4 but still higher than cluster_id = 1 and 2. \n",
    "\n",
    "4. Countries in cluster_id = 1 have low child mortality rates, high exports and imports, high GDP and income, low inflation and total fertility and high life expectancy. However, there is significant difference in all these numbers with other clusters. \n",
    "\n",
    "5. Countries in cluster_id = 2 have lowest child_mortality rates, lowest inflation, low fertility. They have high export, import, highest GDPP, highest income and life expectancy among all clusters. This cluster contains developed countries.\n",
    "\n",
    "\n",
    "So, we can say that cluster_id = 4 contains the countries where help is most needed followed by countries in cluster_id = 4."
   ]
  },
  {
   "cell_type": "code",
   "execution_count": 60,
   "metadata": {},
   "outputs": [
    {
     "data": {
      "text/plain": [
       "array(['Afghanistan', 'Angola', 'Benin', 'Burkina Faso', 'Burundi',\n",
       "       'Cameroon', 'Central African Republic', 'Chad', 'Congo, Dem. Rep.',\n",
       "       \"Cote d'Ivoire\", 'Guinea', 'Guinea-Bissau', 'Haiti', 'Lesotho',\n",
       "       'Liberia', 'Malawi', 'Mali', 'Mozambique', 'Niger', 'Nigeria',\n",
       "       'Sierra Leone', 'Togo', 'Uganda', 'Zambia'], dtype=object)"
      ]
     },
     "execution_count": 60,
     "metadata": {},
     "output_type": "execute_result"
    }
   ],
   "source": [
    "# These are the countries where most funding is required.\n",
    "# Least Developed countries cluster_id = 4\n",
    "\n",
    "clustered_countries[clustered_countries['cluster_id']==4]['country'].unique()"
   ]
  },
  {
   "cell_type": "code",
   "execution_count": 61,
   "metadata": {},
   "outputs": [
    {
     "data": {
      "text/plain": [
       "array(['Botswana', 'Comoros', 'Congo, Rep.', 'Equatorial Guinea',\n",
       "       'Eritrea', 'Gabon', 'Gambia', 'Ghana', 'Iraq', 'Kenya', 'Kiribati',\n",
       "       'Lao', 'Madagascar', 'Mauritania', 'Mongolia', 'Namibia',\n",
       "       'Pakistan', 'Rwanda', 'Senegal', 'Solomon Islands', 'South Africa',\n",
       "       'Sudan', 'Tajikistan', 'Tanzania', 'Timor-Leste', 'Vanuatu',\n",
       "       'Yemen'], dtype=object)"
      ]
     },
     "execution_count": 61,
     "metadata": {},
     "output_type": "execute_result"
    }
   ],
   "source": [
    "# Countries which can also use the funding if available\n",
    "# Cluster_id = 0\n",
    "\n",
    "clustered_countries[clustered_countries['cluster_id']==0]['country'].unique()"
   ]
  },
  {
   "cell_type": "code",
   "execution_count": 62,
   "metadata": {},
   "outputs": [
    {
     "data": {
      "text/plain": [
       "array(['Albania', 'Algeria', 'Argentina', 'Armenia', 'Azerbaijan',\n",
       "       'Bangladesh', 'Bolivia', 'Brazil', 'Chile', 'China', 'Colombia',\n",
       "       'Costa Rica', 'Dominican Republic', 'Ecuador', 'Egypt',\n",
       "       'El Salvador', 'Grenada', 'Guatemala', 'India', 'Indonesia',\n",
       "       'Iran', 'Jamaica', 'Kazakhstan', 'Morocco', 'Myanmar', 'Nepal',\n",
       "       'Peru', 'Philippines', 'Romania', 'Russia', 'Samoa',\n",
       "       'Saudi Arabia', 'Sri Lanka', 'St. Vincent and the Grenadines',\n",
       "       'Suriname', 'Tonga', 'Turkey', 'Uruguay', 'Uzbekistan',\n",
       "       'Venezuela'], dtype=object)"
      ]
     },
     "execution_count": 62,
     "metadata": {},
     "output_type": "execute_result"
    }
   ],
   "source": [
    "# cluster_id = 3\n",
    "\n",
    "clustered_countries[clustered_countries['cluster_id']==3]['country'].unique()"
   ]
  },
  {
   "cell_type": "code",
   "execution_count": 63,
   "metadata": {},
   "outputs": [
    {
     "data": {
      "text/plain": [
       "array(['Antigua and Barbuda', 'Bahamas', 'Bahrain', 'Barbados', 'Belarus',\n",
       "       'Belize', 'Bhutan', 'Bosnia and Herzegovina', 'Bulgaria',\n",
       "       'Cambodia', 'Cape Verde', 'Croatia', 'Cyprus', 'Czech Republic',\n",
       "       'Estonia', 'Fiji', 'Georgia', 'Guyana', 'Hungary', 'Jordan',\n",
       "       'Kyrgyz Republic', 'Latvia', 'Lebanon', 'Libya', 'Lithuania',\n",
       "       'Macedonia, FYR', 'Malaysia', 'Maldives', 'Malta', 'Mauritius',\n",
       "       'Micronesia, Fed. Sts.', 'Moldova', 'Montenegro', 'Oman', 'Panama',\n",
       "       'Paraguay', 'Poland', 'Serbia', 'Seychelles', 'Singapore',\n",
       "       'Slovak Republic', 'South Korea', 'Thailand', 'Tunisia',\n",
       "       'Turkmenistan', 'Ukraine', 'United Arab Emirates', 'Vietnam'],\n",
       "      dtype=object)"
      ]
     },
     "execution_count": 63,
     "metadata": {},
     "output_type": "execute_result"
    }
   ],
   "source": [
    "# cluster_id = 1\n",
    "\n",
    "clustered_countries[clustered_countries['cluster_id']==1]['country'].unique()"
   ]
  },
  {
   "cell_type": "code",
   "execution_count": 64,
   "metadata": {},
   "outputs": [
    {
     "data": {
      "text/plain": [
       "array(['Australia', 'Austria', 'Belgium', 'Brunei', 'Canada', 'Denmark',\n",
       "       'Finland', 'France', 'Germany', 'Greece', 'Iceland', 'Ireland',\n",
       "       'Israel', 'Italy', 'Japan', 'Kuwait', 'Luxembourg', 'Netherlands',\n",
       "       'New Zealand', 'Norway', 'Portugal', 'Qatar', 'Slovenia', 'Spain',\n",
       "       'Sweden', 'Switzerland', 'United Kingdom', 'United States'],\n",
       "      dtype=object)"
      ]
     },
     "execution_count": 64,
     "metadata": {},
     "output_type": "execute_result"
    }
   ],
   "source": [
    "# Countries which dont need the funding (Most developed countries)\n",
    "# cluster_id = 2\n",
    "\n",
    "clustered_countries[clustered_countries['cluster_id']==2]['country'].unique()"
   ]
  },
  {
   "cell_type": "markdown",
   "metadata": {},
   "source": [
    "#### Hierarchial Clustering"
   ]
  },
  {
   "cell_type": "code",
   "execution_count": 65,
   "metadata": {},
   "outputs": [
    {
     "data": {
      "image/png": "[encoded data removed]",
      "text/plain": [
       "<Figure size 432x288 with 1 Axes>"
      ]
     },
     "metadata": {
      "needs_background": "light"
     },
     "output_type": "display_data"
    }
   ],
   "source": [
    "# heirarchical clustering without outlier treatment\n",
    "df_hier_clust = pca_df.drop('country', axis=1)\n",
    "\n",
    "mergings = linkage(df_hier_clust, method = \"complete\", metric='euclidean')\n",
    "dendrogram(mergings)\n",
    "plt.show()\n",
    "\n"
   ]
  },
  {
   "cell_type": "code",
   "execution_count": 66,
   "metadata": {},
   "outputs": [
    {
     "data": {
      "text/html": [
       "<div>\n",
       "<style scoped>\n",
       "    .dataframe tbody tr th:only-of-type {\n",
       "        vertical-align: middle;\n",
       "    }\n",
       "\n",
       "    .dataframe tbody tr th {\n",
       "        vertical-align: top;\n",
       "    }\n",
       "\n",
       "    .dataframe thead th {\n",
       "        text-align: right;\n",
       "    }\n",
       "</style>\n",
       "<table border=\"1\" class=\"dataframe\">\n",
       "  <thead>\n",
       "    <tr style=\"text-align: right;\">\n",
       "      <th></th>\n",
       "      <th>country</th>\n",
       "      <th>child_mort</th>\n",
       "      <th>exports</th>\n",
       "      <th>health</th>\n",
       "      <th>imports</th>\n",
       "      <th>income</th>\n",
       "      <th>inflation</th>\n",
       "      <th>life_expec</th>\n",
       "      <th>total_fer</th>\n",
       "      <th>gdpp</th>\n",
       "      <th>cluster_id</th>\n",
       "    </tr>\n",
       "  </thead>\n",
       "  <tbody>\n",
       "    <tr>\n",
       "      <th>0</th>\n",
       "      <td>Afghanistan</td>\n",
       "      <td>90.2</td>\n",
       "      <td>10.0</td>\n",
       "      <td>7.58</td>\n",
       "      <td>44.9</td>\n",
       "      <td>1610</td>\n",
       "      <td>9.44</td>\n",
       "      <td>56.2</td>\n",
       "      <td>5.82</td>\n",
       "      <td>553</td>\n",
       "      <td>0</td>\n",
       "    </tr>\n",
       "    <tr>\n",
       "      <th>1</th>\n",
       "      <td>Albania</td>\n",
       "      <td>16.6</td>\n",
       "      <td>28.0</td>\n",
       "      <td>6.55</td>\n",
       "      <td>48.6</td>\n",
       "      <td>9930</td>\n",
       "      <td>4.49</td>\n",
       "      <td>76.3</td>\n",
       "      <td>1.65</td>\n",
       "      <td>4090</td>\n",
       "      <td>0</td>\n",
       "    </tr>\n",
       "    <tr>\n",
       "      <th>2</th>\n",
       "      <td>Algeria</td>\n",
       "      <td>27.3</td>\n",
       "      <td>38.4</td>\n",
       "      <td>4.17</td>\n",
       "      <td>31.4</td>\n",
       "      <td>12900</td>\n",
       "      <td>16.10</td>\n",
       "      <td>76.5</td>\n",
       "      <td>2.89</td>\n",
       "      <td>4460</td>\n",
       "      <td>0</td>\n",
       "    </tr>\n",
       "    <tr>\n",
       "      <th>3</th>\n",
       "      <td>Angola</td>\n",
       "      <td>119.0</td>\n",
       "      <td>62.3</td>\n",
       "      <td>2.85</td>\n",
       "      <td>42.9</td>\n",
       "      <td>5900</td>\n",
       "      <td>22.40</td>\n",
       "      <td>60.1</td>\n",
       "      <td>6.16</td>\n",
       "      <td>3530</td>\n",
       "      <td>0</td>\n",
       "    </tr>\n",
       "    <tr>\n",
       "      <th>4</th>\n",
       "      <td>Antigua and Barbuda</td>\n",
       "      <td>10.3</td>\n",
       "      <td>45.5</td>\n",
       "      <td>6.03</td>\n",
       "      <td>58.9</td>\n",
       "      <td>19100</td>\n",
       "      <td>1.44</td>\n",
       "      <td>76.8</td>\n",
       "      <td>2.13</td>\n",
       "      <td>12200</td>\n",
       "      <td>0</td>\n",
       "    </tr>\n",
       "  </tbody>\n",
       "</table>\n",
       "</div>"
      ],
      "text/plain": [
       "               country  child_mort  exports  health  imports  income  \\\n",
       "0          Afghanistan        90.2     10.0    7.58     44.9    1610   \n",
       "1              Albania        16.6     28.0    6.55     48.6    9930   \n",
       "2              Algeria        27.3     38.4    4.17     31.4   12900   \n",
       "3               Angola       119.0     62.3    2.85     42.9    5900   \n",
       "4  Antigua and Barbuda        10.3     45.5    6.03     58.9   19100   \n",
       "\n",
       "   inflation  life_expec  total_fer   gdpp  cluster_id  \n",
       "0       9.44        56.2       5.82    553           0  \n",
       "1       4.49        76.3       1.65   4090           0  \n",
       "2      16.10        76.5       2.89   4460           0  \n",
       "3      22.40        60.1       6.16   3530           0  \n",
       "4       1.44        76.8       2.13  12200           0  "
      ]
     },
     "execution_count": 66,
     "metadata": {},
     "output_type": "execute_result"
    }
   ],
   "source": [
    "clusterCut = pd.Series(cut_tree(mergings, n_clusters = 5).reshape(-1,))\n",
    "countries_hc = pd.concat([countries, clusterCut], axis=1)\n",
    "countries_hc.columns = ['country', 'child_mort','exports', 'health', 'imports', 'income', 'inflation', 'life_expec','total_fer', 'gdpp','cluster_id']\n",
    "countries_hc.head()"
   ]
  },
  {
   "cell_type": "code",
   "execution_count": 67,
   "metadata": {},
   "outputs": [
    {
     "name": "stdout",
     "output_type": "stream",
     "text": [
      "116\n",
      "22\n",
      "26\n",
      "2\n",
      "1\n"
     ]
    }
   ],
   "source": [
    "print(len(countries_hc[countries_hc['cluster_id']==0]['country'].unique()))\n",
    "print(len(countries_hc[countries_hc['cluster_id']==1]['country'].unique()))\n",
    "print(len(countries_hc[countries_hc['cluster_id']==2]['country'].unique()))\n",
    "print(len(countries_hc[countries_hc['cluster_id']==3]['country'].unique()))\n",
    "print(len(countries_hc[countries_hc['cluster_id']==4]['country'].unique()))\n",
    "\n",
    "# We can see that this clustering is heavily skewed as some contain a high number of countires and some have only 1 or 2."
   ]
  },
  {
   "cell_type": "code",
   "execution_count": 68,
   "metadata": {},
   "outputs": [
    {
     "data": {
      "image/png": "[encoded data removed]",
      "text/plain": [
       "<Figure size 432x288 with 1 Axes>"
      ]
     },
     "metadata": {
      "needs_background": "light"
     },
     "output_type": "display_data"
    }
   ],
   "source": [
    "# heirarchical clustering after outlier treatment\n",
    "df_hier_clust_final = df_outlier_done.drop(['country', 'cluster_id'], axis=1)\n",
    "\n",
    "mergings_final = linkage(df_hier_clust_final, method = \"complete\", metric='euclidean')\n",
    "dendrogram(mergings_final)\n",
    "plt.show()"
   ]
  },
  {
   "cell_type": "code",
   "execution_count": 69,
   "metadata": {},
   "outputs": [],
   "source": [
    "countries_hier = countries[countries['country'].isin(df_outlier_done['country'])]\n",
    "countries_hier.reset_index(inplace=True)"
   ]
  },
  {
   "cell_type": "code",
   "execution_count": 70,
   "metadata": {},
   "outputs": [],
   "source": [
    "# We will take cluster size = 5 by keeping the distance between 4 and 6. \n",
    "# If we decrease the distance any further the cluster size increases.\n",
    "\n",
    "clusterCut_final = pd.Series(cut_tree(mergings_final, n_clusters = 5).reshape(-1,))\n",
    "countries_hc_final = pd.concat([countries_hier, clusterCut_final], axis=1)\n",
    "\n",
    "countries_hc_final.set_index('index', inplace=True)\n",
    "countries_hc_final.columns = ['country', 'child_mort','exports', 'health', 'imports', 'income', 'inflation', 'life_expec','total_fer', 'gdpp','cluster_id']"
   ]
  },
  {
   "cell_type": "code",
   "execution_count": 71,
   "metadata": {},
   "outputs": [
    {
     "data": {
      "text/plain": [
       "array(['Afghanistan', 'Benin', 'Burkina Faso', 'Burundi', 'Cameroon',\n",
       "       'Central African Republic', 'Chad', 'Congo, Dem. Rep.',\n",
       "       \"Cote d'Ivoire\", 'Guinea', 'Guinea-Bissau', 'Haiti', 'Malawi',\n",
       "       'Mali', 'Mozambique', 'Niger', 'Rwanda', 'Sierra Leone', 'Sudan',\n",
       "       'Tanzania', 'Timor-Leste', 'Uganda', 'Zambia'], dtype=object)"
      ]
     },
     "execution_count": 71,
     "metadata": {},
     "output_type": "execute_result"
    }
   ],
   "source": [
    "countries_hc_final[countries_hc_final['cluster_id']==0]['country'].unique()\n"
   ]
  },
  {
   "cell_type": "code",
   "execution_count": 72,
   "metadata": {},
   "outputs": [
    {
     "data": {
      "text/plain": [
       "array(['Albania', 'Antigua and Barbuda', 'Argentina', 'Armenia',\n",
       "       'Barbados', 'Belize', 'Bhutan', 'Bosnia and Herzegovina',\n",
       "       'Botswana', 'Brazil', 'Bulgaria', 'Cambodia', 'Cape Verde',\n",
       "       'Chile', 'China', 'Colombia', 'Comoros', 'Costa Rica', 'Croatia',\n",
       "       'Dominican Republic', 'Ecuador', 'El Salvador', 'Fiji', 'Gambia',\n",
       "       'Georgia', 'Ghana', 'Grenada', 'Guatemala', 'Guyana', 'Iran',\n",
       "       'Iraq', 'Jamaica', 'Jordan', 'Kenya', 'Kyrgyz Republic', 'Lao',\n",
       "       'Latvia', 'Lebanon', 'Macedonia, FYR', 'Madagascar', 'Mauritius',\n",
       "       'Moldova', 'Montenegro', 'Morocco', 'Namibia', 'Paraguay', 'Peru',\n",
       "       'Poland', 'Romania', 'Russia', 'Samoa', 'Senegal', 'Serbia',\n",
       "       'Solomon Islands', 'South Africa',\n",
       "       'St. Vincent and the Grenadines', 'Suriname', 'Tajikistan', 'Togo',\n",
       "       'Tonga', 'Tunisia', 'Turkey', 'Turkmenistan', 'Ukraine', 'Uruguay',\n",
       "       'Vanuatu'], dtype=object)"
      ]
     },
     "execution_count": 72,
     "metadata": {},
     "output_type": "execute_result"
    }
   ],
   "source": [
    "countries_hc_final[countries_hc_final['cluster_id']==1]['country'].unique()"
   ]
  },
  {
   "cell_type": "code",
   "execution_count": 73,
   "metadata": {},
   "outputs": [
    {
     "data": {
      "text/plain": [
       "array(['Algeria', 'Angola', 'Azerbaijan', 'Bangladesh', 'Bolivia',\n",
       "       'Congo, Rep.', 'Egypt', 'Eritrea', 'Gabon', 'India', 'Indonesia',\n",
       "       'Kazakhstan', 'Mauritania', 'Myanmar', 'Nepal', 'Pakistan',\n",
       "       'Philippines', 'Sri Lanka', 'Uzbekistan', 'Yemen'], dtype=object)"
      ]
     },
     "execution_count": 73,
     "metadata": {},
     "output_type": "execute_result"
    }
   ],
   "source": [
    "countries_hc_final[countries_hc_final['cluster_id']==2]['country'].unique()"
   ]
  },
  {
   "cell_type": "code",
   "execution_count": 74,
   "metadata": {},
   "outputs": [
    {
     "data": {
      "text/plain": [
       "array(['Australia', 'Austria', 'Belgium', 'Canada', 'Denmark', 'Finland',\n",
       "       'France', 'Germany', 'Greece', 'Iceland', 'Ireland', 'Italy',\n",
       "       'Japan', 'Netherlands', 'New Zealand', 'Portugal', 'Spain',\n",
       "       'Sweden', 'Switzerland', 'United Kingdom'], dtype=object)"
      ]
     },
     "execution_count": 74,
     "metadata": {},
     "output_type": "execute_result"
    }
   ],
   "source": [
    "countries_hc_final[countries_hc_final['cluster_id']==3]['country'].unique()"
   ]
  },
  {
   "cell_type": "code",
   "execution_count": 75,
   "metadata": {},
   "outputs": [
    {
     "data": {
      "text/plain": [
       "array(['Bahamas', 'Bahrain', 'Belarus', 'Cyprus', 'Czech Republic',\n",
       "       'Estonia', 'Hungary', 'Israel', 'Libya', 'Lithuania', 'Malaysia',\n",
       "       'Maldives', 'Panama', 'Slovak Republic', 'Slovenia', 'South Korea',\n",
       "       'Thailand', 'Vietnam'], dtype=object)"
      ]
     },
     "execution_count": 75,
     "metadata": {},
     "output_type": "execute_result"
    }
   ],
   "source": [
    "countries_hc_final[countries_hc_final['cluster_id']==4]['country'].unique()"
   ]
  },
  {
   "cell_type": "markdown",
   "metadata": {},
   "source": [
    "This gives us almost same results as we got from k-means.\n",
    "We can now follow same methods to add back the cluster_id for the outlier countries and can plot same graphs as above. "
   ]
  }
 ],
 "metadata": {
  "kernelspec": {
   "display_name": "Python 3",
   "language": "python",
   "name": "python3"
  },
  "language_info": {
   "codemirror_mode": {
    "name": "ipython",
    "version": 3
   },
   "file_extension": ".py",
   "mimetype": "text/x-python",
   "name": "python",
   "nbconvert_exporter": "python",
   "pygments_lexer": "ipython3",
   "version": "3.7.1"
  }
 },
 "nbformat": 4,
 "nbformat_minor": 2
}
